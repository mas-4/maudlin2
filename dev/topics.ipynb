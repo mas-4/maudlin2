{
 "cells": [
  {
   "cell_type": "code",
   "execution_count": 1,
   "id": "initial_id",
   "metadata": {
    "ExecuteTime": {
     "end_time": "2024-03-09T16:51:09.177173Z",
     "start_time": "2024-03-09T16:51:07.387369Z"
    }
   },
   "outputs": [
    {
     "name": "stderr",
     "output_type": "stream",
     "text": [
      "[nltk_data] Downloading package vader_lexicon to\n",
      "[nltk_data]     /Users/mas/nltk_data...\n",
      "[nltk_data]   Package vader_lexicon is already up-to-date!\n",
      "[nltk_data] Downloading package punkt to /Users/mas/nltk_data...\n",
      "[nltk_data]   Package punkt is already up-to-date!\n",
      "[nltk_data] Downloading package averaged_perceptron_tagger to\n",
      "[nltk_data]     /Users/mas/nltk_data...\n",
      "[nltk_data]   Package averaged_perceptron_tagger is already up-to-\n",
      "[nltk_data]       date!\n",
      "[nltk_data] Downloading package wordnet to /Users/mas/nltk_data...\n",
      "[nltk_data]   Package wordnet is already up-to-date!\n",
      "[nltk_data] Downloading package stopwords to /Users/mas/nltk_data...\n",
      "[nltk_data]   Package stopwords is already up-to-date!\n"
     ]
    },
    {
     "data": {
      "text/plain": "[Topic(id=1, name='Biden is old'),\n Topic(id=2, name='Trump is unfit'),\n Topic(id=3, name='Border Chaos'),\n Topic(id=4, name='Ukraine'),\n Topic(id=5, name='Inflation')]"
     },
     "execution_count": 1,
     "metadata": {},
     "output_type": "execute_result"
    }
   ],
   "source": [
    "from app.models import Session, Headline, Topic, Article\n",
    "from app.analysis.topics import load_and_update_topics, score_headline\n",
    "\n",
    "topics = load_and_update_topics()\n",
    "topics"
   ]
  },
  {
   "cell_type": "code",
   "execution_count": 2,
   "id": "54bead06-71f0-47f8-b9e6-45d651adab5d",
   "metadata": {
    "ExecuteTime": {
     "end_time": "2024-03-09T16:51:12.754943Z",
     "start_time": "2024-03-09T16:51:09.178115Z"
    }
   },
   "outputs": [
    {
     "data": {
      "text/plain": "          id                                              title  score\n0         29  Biden Turns the Screws on MAGA-Republicans ove...    0.0\n1         48  Biden blames businesses for ‘shrinkflation,’ b...    0.0\n2         56  A stunning indictment could doom Republican's ...    0.0\n3         73  Putin: Biden Better for Russia Than Trump, 'Mo...    0.0\n4         78  An FBI informant is charged with lying about J...    0.0\n...      ...                                                ...    ...\n9166  199993  After speech, Biden launches major tour plus $...    0.0\n9167  199998  Biden says he would sign TikTok crackdown; Tru...    0.0\n9168  200019  Reuters World News: Biden's challenges, and ot...    0.0\n9169  200047  Biden Backs Effort to Force Sale of TikTok by ...    0.0\n9170  200053  Biden and Trump, in Two Speeches, Speak to Two...    0.0\n\n[9171 rows x 3 columns]",
      "text/html": "<div>\n<style scoped>\n    .dataframe tbody tr th:only-of-type {\n        vertical-align: middle;\n    }\n\n    .dataframe tbody tr th {\n        vertical-align: top;\n    }\n\n    .dataframe thead th {\n        text-align: right;\n    }\n</style>\n<table border=\"1\" class=\"dataframe\">\n  <thead>\n    <tr style=\"text-align: right;\">\n      <th></th>\n      <th>id</th>\n      <th>title</th>\n      <th>score</th>\n    </tr>\n  </thead>\n  <tbody>\n    <tr>\n      <th>0</th>\n      <td>29</td>\n      <td>Biden Turns the Screws on MAGA-Republicans ove...</td>\n      <td>0.0</td>\n    </tr>\n    <tr>\n      <th>1</th>\n      <td>48</td>\n      <td>Biden blames businesses for ‘shrinkflation,’ b...</td>\n      <td>0.0</td>\n    </tr>\n    <tr>\n      <th>2</th>\n      <td>56</td>\n      <td>A stunning indictment could doom Republican's ...</td>\n      <td>0.0</td>\n    </tr>\n    <tr>\n      <th>3</th>\n      <td>73</td>\n      <td>Putin: Biden Better for Russia Than Trump, 'Mo...</td>\n      <td>0.0</td>\n    </tr>\n    <tr>\n      <th>4</th>\n      <td>78</td>\n      <td>An FBI informant is charged with lying about J...</td>\n      <td>0.0</td>\n    </tr>\n    <tr>\n      <th>...</th>\n      <td>...</td>\n      <td>...</td>\n      <td>...</td>\n    </tr>\n    <tr>\n      <th>9166</th>\n      <td>199993</td>\n      <td>After speech, Biden launches major tour plus $...</td>\n      <td>0.0</td>\n    </tr>\n    <tr>\n      <th>9167</th>\n      <td>199998</td>\n      <td>Biden says he would sign TikTok crackdown; Tru...</td>\n      <td>0.0</td>\n    </tr>\n    <tr>\n      <th>9168</th>\n      <td>200019</td>\n      <td>Reuters World News: Biden's challenges, and ot...</td>\n      <td>0.0</td>\n    </tr>\n    <tr>\n      <th>9169</th>\n      <td>200047</td>\n      <td>Biden Backs Effort to Force Sale of TikTok by ...</td>\n      <td>0.0</td>\n    </tr>\n    <tr>\n      <th>9170</th>\n      <td>200053</td>\n      <td>Biden and Trump, in Two Speeches, Speak to Two...</td>\n      <td>0.0</td>\n    </tr>\n  </tbody>\n</table>\n<p>9171 rows × 3 columns</p>\n</div>"
     },
     "execution_count": 2,
     "metadata": {},
     "output_type": "execute_result"
    }
   ],
   "source": [
    "from sqlalchemy import or_\n",
    "import pandas as pd\n",
    "from functools import partial\n",
    "topic = topics[0]\n",
    "with Session() as s:\n",
    "        headlines = s.query(Headline).join(Headline.article).filter(\n",
    "            or_(*[Headline.title.like(f\"%{word}%\") for word in topic.essential]),\n",
    "            Article.topic_id == None\n",
    "        ).all()\n",
    "        df = pd.DataFrame([(h.id, h.title) for h in headlines], columns=['id', 'title'])\n",
    "        df['score'] = df['title'].apply(partial(score_headline, topic=topic))\n",
    "df"
   ]
  },
  {
   "cell_type": "code",
   "execution_count": 3,
   "id": "19513f9d-55be-4919-a980-669b4d017dc9",
   "metadata": {
    "ExecuteTime": {
     "end_time": "2024-03-09T16:51:12.761770Z",
     "start_time": "2024-03-09T16:51:12.755918Z"
    }
   },
   "outputs": [
    {
     "data": {
      "text/plain": "                  id        score\ncount    9171.000000  9171.000000\nmean   107938.550649     0.006007\nstd     57626.640161     0.027278\nmin        29.000000     0.000000\n25%     60833.000000     0.000000\n50%    116749.000000     0.000000\n75%    154331.500000     0.000000\nmax    200053.000000     0.333333",
      "text/html": "<div>\n<style scoped>\n    .dataframe tbody tr th:only-of-type {\n        vertical-align: middle;\n    }\n\n    .dataframe tbody tr th {\n        vertical-align: top;\n    }\n\n    .dataframe thead th {\n        text-align: right;\n    }\n</style>\n<table border=\"1\" class=\"dataframe\">\n  <thead>\n    <tr style=\"text-align: right;\">\n      <th></th>\n      <th>id</th>\n      <th>score</th>\n    </tr>\n  </thead>\n  <tbody>\n    <tr>\n      <th>count</th>\n      <td>9171.000000</td>\n      <td>9171.000000</td>\n    </tr>\n    <tr>\n      <th>mean</th>\n      <td>107938.550649</td>\n      <td>0.006007</td>\n    </tr>\n    <tr>\n      <th>std</th>\n      <td>57626.640161</td>\n      <td>0.027278</td>\n    </tr>\n    <tr>\n      <th>min</th>\n      <td>29.000000</td>\n      <td>0.000000</td>\n    </tr>\n    <tr>\n      <th>25%</th>\n      <td>60833.000000</td>\n      <td>0.000000</td>\n    </tr>\n    <tr>\n      <th>50%</th>\n      <td>116749.000000</td>\n      <td>0.000000</td>\n    </tr>\n    <tr>\n      <th>75%</th>\n      <td>154331.500000</td>\n      <td>0.000000</td>\n    </tr>\n    <tr>\n      <th>max</th>\n      <td>200053.000000</td>\n      <td>0.333333</td>\n    </tr>\n  </tbody>\n</table>\n</div>"
     },
     "execution_count": 3,
     "metadata": {},
     "output_type": "execute_result"
    }
   ],
   "source": [
    "df.describe()"
   ]
  },
  {
   "cell_type": "code",
   "execution_count": 4,
   "id": "04e51ea6-7abd-47ae-bed4-02cf51723855",
   "metadata": {
    "ExecuteTime": {
     "end_time": "2024-03-09T16:51:12.765300Z",
     "start_time": "2024-03-09T16:51:12.762482Z"
    }
   },
   "outputs": [],
   "source": [
    "df = df.sort_values(by='score', ascending=False)"
   ]
  },
  {
   "cell_type": "code",
   "execution_count": 5,
   "id": "2fc4dd16-b356-4576-984f-66672560091d",
   "metadata": {
    "ExecuteTime": {
     "end_time": "2024-03-09T16:51:12.772400Z",
     "start_time": "2024-03-09T16:51:12.766672Z"
    }
   },
   "outputs": [
    {
     "name": "stderr",
     "output_type": "stream",
     "text": [
      "/var/folders/fd/vfz6tp5d6lg2p2jkv89sf3jm0000gn/T/ipykernel_4104/3419521607.py:1: UserWarning: Boolean Series key will be reindexed to match DataFrame index.\n",
      "  df.sort_values(by='score', ascending=True)[df['score'] > 0.02]\n"
     ]
    },
    {
     "data": {
      "text/plain": "          id                                              title     score\n513    11442  1 year after East Palestine train derailment P...  0.020833\n448     9321  1 year after East Palestine train derailment P...  0.020833\n562    13065  1 year after East Palestine train derailment P...  0.020833\n410     8626  1 year after East Palestine train derailment P...  0.020833\n527    11931  1 year after East Palestine train derailment P...  0.020833\n...      ...                                                ...       ...\n5405  133124  Biden on Age Concerns: ‘It’s About How Old You...  0.333333\n481    10264    The debate about Biden's age and mental fitness  0.333333\n4535  115421          Biden's Cognitive Decline Continues Apace  0.333333\n8578  193352                                        Biden’s Age  0.333333\n6552  149944    Joe Biden's age in 2024: Here's how old the US…  0.333333\n\n[516 rows x 3 columns]",
      "text/html": "<div>\n<style scoped>\n    .dataframe tbody tr th:only-of-type {\n        vertical-align: middle;\n    }\n\n    .dataframe tbody tr th {\n        vertical-align: top;\n    }\n\n    .dataframe thead th {\n        text-align: right;\n    }\n</style>\n<table border=\"1\" class=\"dataframe\">\n  <thead>\n    <tr style=\"text-align: right;\">\n      <th></th>\n      <th>id</th>\n      <th>title</th>\n      <th>score</th>\n    </tr>\n  </thead>\n  <tbody>\n    <tr>\n      <th>513</th>\n      <td>11442</td>\n      <td>1 year after East Palestine train derailment P...</td>\n      <td>0.020833</td>\n    </tr>\n    <tr>\n      <th>448</th>\n      <td>9321</td>\n      <td>1 year after East Palestine train derailment P...</td>\n      <td>0.020833</td>\n    </tr>\n    <tr>\n      <th>562</th>\n      <td>13065</td>\n      <td>1 year after East Palestine train derailment P...</td>\n      <td>0.020833</td>\n    </tr>\n    <tr>\n      <th>410</th>\n      <td>8626</td>\n      <td>1 year after East Palestine train derailment P...</td>\n      <td>0.020833</td>\n    </tr>\n    <tr>\n      <th>527</th>\n      <td>11931</td>\n      <td>1 year after East Palestine train derailment P...</td>\n      <td>0.020833</td>\n    </tr>\n    <tr>\n      <th>...</th>\n      <td>...</td>\n      <td>...</td>\n      <td>...</td>\n    </tr>\n    <tr>\n      <th>5405</th>\n      <td>133124</td>\n      <td>Biden on Age Concerns: ‘It’s About How Old You...</td>\n      <td>0.333333</td>\n    </tr>\n    <tr>\n      <th>481</th>\n      <td>10264</td>\n      <td>The debate about Biden's age and mental fitness</td>\n      <td>0.333333</td>\n    </tr>\n    <tr>\n      <th>4535</th>\n      <td>115421</td>\n      <td>Biden's Cognitive Decline Continues Apace</td>\n      <td>0.333333</td>\n    </tr>\n    <tr>\n      <th>8578</th>\n      <td>193352</td>\n      <td>Biden’s Age</td>\n      <td>0.333333</td>\n    </tr>\n    <tr>\n      <th>6552</th>\n      <td>149944</td>\n      <td>Joe Biden's age in 2024: Here's how old the US…</td>\n      <td>0.333333</td>\n    </tr>\n  </tbody>\n</table>\n<p>516 rows × 3 columns</p>\n</div>"
     },
     "execution_count": 5,
     "metadata": {},
     "output_type": "execute_result"
    }
   ],
   "source": [
    "df.sort_values(by='score', ascending=True)[df['score'] > 0.02]"
   ]
  },
  {
   "cell_type": "code",
   "outputs": [
    {
     "data": {
      "text/plain": "(array([205.,  36.,  27.,  70.,  52., 114.,  59.,  47.,  31.,  21.,   7.,\n         16.,   0.,   6.,   6.,   0.,   0.,   7.,   0.,   5.]),\n array([0.00598086, 0.02234848, 0.03871611, 0.05508373, 0.07145136,\n        0.08781898, 0.1041866 , 0.12055423, 0.13692185, 0.15328947,\n        0.1696571 , 0.18602472, 0.20239234, 0.21875997, 0.23512759,\n        0.25149522, 0.26786284, 0.28423046, 0.30059809, 0.31696571,\n        0.33333333]),\n <BarContainer object of 20 artists>)"
     },
     "execution_count": 7,
     "metadata": {},
     "output_type": "execute_result"
    },
    {
     "data": {
      "text/plain": "<Figure size 640x480 with 1 Axes>",
      "image/png": "[encoded data removed]"
     },
     "metadata": {},
     "output_type": "display_data"
    }
   ],
   "source": [
    "import matplotlib.pyplot as plt\n",
    "\n",
    "plt.hist(df[df['score'] > 0]['score'], bins=20)"
   ],
   "metadata": {
    "collapsed": false,
    "ExecuteTime": {
     "end_time": "2024-03-09T16:52:03.158629Z",
     "start_time": "2024-03-09T16:52:03.041717Z"
    }
   },
   "id": "ae896640bf5962d0",
   "execution_count": 7
  },
  {
   "cell_type": "code",
   "outputs": [],
   "source": [],
   "metadata": {
    "collapsed": false,
    "ExecuteTime": {
     "end_time": "2024-03-09T16:51:13.145202Z",
     "start_time": "2024-03-09T16:51:13.142650Z"
    }
   },
   "id": "d57bac952799acfd",
   "execution_count": 6
  }
 ],
 "metadata": {
  "kernelspec": {
   "display_name": "Python 3 (ipykernel)",
   "language": "python",
   "name": "python3"
  },
  "language_info": {
   "codemirror_mode": {
    "name": "ipython",
    "version": 3
   },
   "file_extension": ".py",
   "mimetype": "text/x-python",
   "name": "python",
   "nbconvert_exporter": "python",
   "pygments_lexer": "ipython3",
   "version": "3.12.1"
  }
 },
 "nbformat": 4,
 "nbformat_minor": 5
}
