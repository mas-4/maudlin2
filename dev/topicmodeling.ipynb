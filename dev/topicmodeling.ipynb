{
 "cells": [
  {
   "cell_type": "code",
   "execution_count": 1,
   "id": "initial_id",
   "metadata": {
    "collapsed": true,
    "ExecuteTime": {
     "end_time": "2024-02-20T22:03:29.419953Z",
     "start_time": "2024-02-20T22:03:27.343234Z"
    }
   },
   "outputs": [
    {
     "data": {
      "text/plain": "   session  year country country_name             speaker position  \\\n0       25  1970     ALB      Albania             Mr. NAS      NaN   \n1       25  1970     ARG    Argentina  Mr. DE PABLO PARDO      NaN   \n2       25  1970     AUS    Australia         Mr. McMAHON      NaN   \n3       25  1970     AUT      Austria  Mr. KIRCHSCHLAEGER      NaN   \n4       25  1970     BEL      Belgium          Mr. HARMEL      NaN   \n\n                                                text  \n0  33: May I first convey to our President the co...  \n1  177.\\t : It is a fortunate coincidence that pr...  \n2  100.\\t  It is a pleasure for me to extend to y...  \n3  155.\\t  May I begin by expressing to Ambassado...  \n4  176. No doubt each of us, before coming up to ...  ",
      "text/html": "<div>\n<style scoped>\n    .dataframe tbody tr th:only-of-type {\n        vertical-align: middle;\n    }\n\n    .dataframe tbody tr th {\n        vertical-align: top;\n    }\n\n    .dataframe thead th {\n        text-align: right;\n    }\n</style>\n<table border=\"1\" class=\"dataframe\">\n  <thead>\n    <tr style=\"text-align: right;\">\n      <th></th>\n      <th>session</th>\n      <th>year</th>\n      <th>country</th>\n      <th>country_name</th>\n      <th>speaker</th>\n      <th>position</th>\n      <th>text</th>\n    </tr>\n  </thead>\n  <tbody>\n    <tr>\n      <th>0</th>\n      <td>25</td>\n      <td>1970</td>\n      <td>ALB</td>\n      <td>Albania</td>\n      <td>Mr. NAS</td>\n      <td>NaN</td>\n      <td>33: May I first convey to our President the co...</td>\n    </tr>\n    <tr>\n      <th>1</th>\n      <td>25</td>\n      <td>1970</td>\n      <td>ARG</td>\n      <td>Argentina</td>\n      <td>Mr. DE PABLO PARDO</td>\n      <td>NaN</td>\n      <td>177.\\t : It is a fortunate coincidence that pr...</td>\n    </tr>\n    <tr>\n      <th>2</th>\n      <td>25</td>\n      <td>1970</td>\n      <td>AUS</td>\n      <td>Australia</td>\n      <td>Mr. McMAHON</td>\n      <td>NaN</td>\n      <td>100.\\t  It is a pleasure for me to extend to y...</td>\n    </tr>\n    <tr>\n      <th>3</th>\n      <td>25</td>\n      <td>1970</td>\n      <td>AUT</td>\n      <td>Austria</td>\n      <td>Mr. KIRCHSCHLAEGER</td>\n      <td>NaN</td>\n      <td>155.\\t  May I begin by expressing to Ambassado...</td>\n    </tr>\n    <tr>\n      <th>4</th>\n      <td>25</td>\n      <td>1970</td>\n      <td>BEL</td>\n      <td>Belgium</td>\n      <td>Mr. HARMEL</td>\n      <td>NaN</td>\n      <td>176. No doubt each of us, before coming up to ...</td>\n    </tr>\n  </tbody>\n</table>\n</div>"
     },
     "execution_count": 1,
     "metadata": {},
     "output_type": "execute_result"
    }
   ],
   "source": [
    "import pandas as pd\n",
    "df = pd.read_csv('un-general-debates-blueprint.csv')\n",
    "df.head()"
   ]
  },
  {
   "cell_type": "code",
   "outputs": [],
   "source": [
    "import re\n",
    "df['paragraphs'] = df[\"text\"].map(lambda text: re.split(r'[.?!]\\s*\\n', text))\n",
    "df['number_of_paragraphs'] = df['paragraphs'].map(len)"
   ],
   "metadata": {
    "collapsed": false,
    "ExecuteTime": {
     "end_time": "2024-02-20T22:05:32.133384Z",
     "start_time": "2024-02-20T22:05:31.282788Z"
    }
   },
   "id": "4f908f6cb2aaba8b",
   "execution_count": 3
  },
  {
   "cell_type": "code",
   "outputs": [
    {
     "data": {
      "text/plain": "   year                                         paragraphs\n0  1970  33: May I first convey to our President the co...\n1  1970  34.\\tIn taking up the work on the agenda of th...\n2  1970  35.\\tThe utilization of the United Nations to ...\n3  1970  36.\\tThe whole of progressive mankind recalls ...\n4  1970  37.\\tAll this has had well known consequences ...",
      "text/html": "<div>\n<style scoped>\n    .dataframe tbody tr th:only-of-type {\n        vertical-align: middle;\n    }\n\n    .dataframe tbody tr th {\n        vertical-align: top;\n    }\n\n    .dataframe thead th {\n        text-align: right;\n    }\n</style>\n<table border=\"1\" class=\"dataframe\">\n  <thead>\n    <tr style=\"text-align: right;\">\n      <th></th>\n      <th>year</th>\n      <th>paragraphs</th>\n    </tr>\n  </thead>\n  <tbody>\n    <tr>\n      <th>0</th>\n      <td>1970</td>\n      <td>33: May I first convey to our President the co...</td>\n    </tr>\n    <tr>\n      <th>1</th>\n      <td>1970</td>\n      <td>34.\\tIn taking up the work on the agenda of th...</td>\n    </tr>\n    <tr>\n      <th>2</th>\n      <td>1970</td>\n      <td>35.\\tThe utilization of the United Nations to ...</td>\n    </tr>\n    <tr>\n      <th>3</th>\n      <td>1970</td>\n      <td>36.\\tThe whole of progressive mankind recalls ...</td>\n    </tr>\n    <tr>\n      <th>4</th>\n      <td>1970</td>\n      <td>37.\\tAll this has had well known consequences ...</td>\n    </tr>\n  </tbody>\n</table>\n</div>"
     },
     "execution_count": 7,
     "metadata": {},
     "output_type": "execute_result"
    }
   ],
   "source": [
    "para_df = df.explode('paragraphs').reset_index()[['year', 'paragraphs']] # The 2020 mind cannot comprehend\n",
    "para_df.head()"
   ],
   "metadata": {
    "collapsed": false,
    "ExecuteTime": {
     "end_time": "2024-02-20T22:08:17.976521Z",
     "start_time": "2024-02-20T22:08:17.787314Z"
    }
   },
   "id": "bf82e6bde543eed",
   "execution_count": 7
  },
  {
   "cell_type": "code",
   "outputs": [
    {
     "data": {
      "text/plain": "<Axes: xlabel='year'>"
     },
     "execution_count": 8,
     "metadata": {},
     "output_type": "execute_result"
    },
    {
     "data": {
      "text/plain": "<Figure size 640x480 with 1 Axes>",
      "image/png": "[encoded data removed]"
     },
     "metadata": {},
     "output_type": "display_data"
    }
   ],
   "source": [
    "df.groupby('year').agg({'number_of_paragraphs': 'mean'}).plot.bar()"
   ],
   "metadata": {
    "collapsed": false,
    "ExecuteTime": {
     "end_time": "2024-02-20T22:08:44.661842Z",
     "start_time": "2024-02-20T22:08:44.069085Z"
    }
   },
   "id": "13ed4bae2e65ca18",
   "execution_count": 8
  },
  {
   "cell_type": "code",
   "outputs": [
    {
     "data": {
      "text/plain": "(7507, 426328)"
     },
     "execution_count": 40,
     "metadata": {},
     "output_type": "execute_result"
    }
   ],
   "source": [
    "from sklearn.feature_extraction.text import TfidfVectorizer\n",
    "from spacy.lang.en.stop_words import STOP_WORDS as stopwords\n",
    "stopwords |= {\"'ll\", \"'ve\", \"ll\", \"ve\"}\n",
    "tfidf_text = TfidfVectorizer(stop_words=list(stopwords), min_df=5, max_df=0.7, ngram_range=(1, 3))\n",
    "vectors_text = tfidf_text.fit_transform(df['text'])\n",
    "vectors_text.shape"
   ],
   "metadata": {
    "collapsed": false,
    "ExecuteTime": {
     "end_time": "2024-02-20T22:30:35.850716Z",
     "start_time": "2024-02-20T22:30:03.455672Z"
    }
   },
   "id": "8372b9b8b08f2a21",
   "execution_count": 40
  },
  {
   "cell_type": "code",
   "outputs": [
    {
     "data": {
      "text/plain": "(287346, 421850)"
     },
     "execution_count": 41,
     "metadata": {},
     "output_type": "execute_result"
    }
   ],
   "source": [
    "tfidf_para = TfidfVectorizer(stop_words=list(stopwords), min_df=5, max_df=0.7, ngram_range=(1, 3))\n",
    "vectors_para = tfidf_para.fit_transform(para_df['paragraphs'])\n",
    "vectors_para.shape"
   ],
   "metadata": {
    "collapsed": false,
    "ExecuteTime": {
     "end_time": "2024-02-20T22:31:06.295013Z",
     "start_time": "2024-02-20T22:30:35.928278Z"
    }
   },
   "id": "d0cd39c5c6f31773",
   "execution_count": 41
  },
  {
   "cell_type": "code",
   "outputs": [],
   "source": [
    "from sklearn.decomposition import NMF\n",
    "nmf_text = NMF(n_components=10, random_state=42)\n",
    "W_text = nmf_text.fit_transform(vectors_text)\n",
    "H_text = nmf_text.components_"
   ],
   "metadata": {
    "collapsed": false,
    "ExecuteTime": {
     "end_time": "2024-02-20T22:32:08.888599Z",
     "start_time": "2024-02-20T22:31:06.295794Z"
    }
   },
   "id": "c59ecc6e4c1cb51",
   "execution_count": 42
  },
  {
   "cell_type": "code",
   "outputs": [],
   "source": [
    "def display_topics(model, feature_names, no_top_words):\n",
    "    for topic, word_vector in enumerate(model.components_):\n",
    "        total = word_vector.sum()\n",
    "        largest = word_vector.argsort()[::-1]\n",
    "        print(\"Topic %02d\" % topic)\n",
    "        for i in range(no_top_words):\n",
    "            print(\" %s: %.2f\" % (feature_names[largest[i]], word_vector[largest[i]]/total*100.0))\n",
    "            \n",
    "        "
   ],
   "metadata": {
    "collapsed": false,
    "ExecuteTime": {
     "end_time": "2024-02-20T23:42:22.127881Z",
     "start_time": "2024-02-20T23:42:22.120293Z"
    }
   },
   "id": "580fe93a4a35e5be",
   "execution_count": 50
  },
  {
   "cell_type": "code",
   "outputs": [
    {
     "name": "stdout",
     "output_type": "stream",
     "text": [
      "Topic 00\n",
      " co: 0.28\n",
      " co operation: 0.26\n",
      " operation: 0.23\n",
      " disarmament: 0.10\n",
      " relations: 0.09\n",
      " europe: 0.08\n",
      " nuclear: 0.08\n",
      " detente: 0.08\n",
      " developing countries: 0.07\n",
      " negotiations: 0.06\n",
      "Topic 01\n",
      " african: 0.22\n",
      " africa: 0.16\n",
      " republic: 0.12\n",
      " congo: 0.11\n",
      " central african: 0.10\n",
      " burundi: 0.10\n",
      " guinea: 0.09\n",
      " republic congo: 0.09\n",
      " central african republic: 0.08\n",
      " african republic: 0.08\n",
      "Topic 02\n",
      " africa: 0.26\n",
      " south: 0.22\n",
      " south africa: 0.19\n",
      " namibia: 0.13\n",
      " african: 0.12\n",
      " independence: 0.10\n",
      " apartheid: 0.10\n",
      " regime: 0.09\n",
      " delegation: 0.08\n",
      " developing countries: 0.08\n",
      "Topic 03\n",
      " arab: 0.28\n",
      " israel: 0.25\n",
      " lebanon: 0.17\n",
      " palestinian: 0.17\n",
      " israeli: 0.16\n",
      " iraq: 0.14\n",
      " resolutions: 0.11\n",
      " lebanese: 0.09\n",
      " kuwait: 0.09\n",
      " occupation: 0.09\n",
      "Topic 04\n",
      " climate change: 0.26\n",
      " climate: 0.22\n",
      " change: 0.19\n",
      " 2015: 0.17\n",
      " sustainable: 0.16\n",
      " development goals: 0.12\n",
      " sustainable development: 0.12\n",
      " goals: 0.12\n",
      " mdgs: 0.11\n",
      " post 2015: 0.11\n",
      "Topic 05\n",
      " american: 0.14\n",
      " america: 0.13\n",
      " latin: 0.13\n",
      " panama: 0.10\n",
      " bolivia: 0.10\n",
      " democracy: 0.08\n",
      " latin america: 0.08\n",
      " guatemala: 0.07\n",
      " central: 0.07\n",
      " ecuador: 0.07\n",
      "Topic 06\n",
      " soviet: 0.25\n",
      " republic: 0.22\n",
      " united states: 0.18\n",
      " nuclear: 0.18\n",
      " viet: 0.18\n",
      " socialist: 0.18\n",
      " people republic: 0.17\n",
      " viet nam: 0.17\n",
      " soviet union: 0.17\n",
      " nam: 0.17\n",
      "Topic 07\n",
      " pacific: 0.53\n",
      " papua: 0.50\n",
      " papua new: 0.50\n",
      " new guinea: 0.49\n",
      " papua new guinea: 0.49\n",
      " guinea: 0.40\n",
      " islands: 0.37\n",
      " solomon: 0.34\n",
      " solomon islands: 0.34\n",
      " south pacific: 0.30\n",
      "Topic 08\n",
      " human rights: 0.11\n",
      " cooperation: 0.10\n",
      " nuclear: 0.09\n",
      " european: 0.09\n",
      " reform: 0.07\n",
      " weapons: 0.07\n",
      " european union: 0.07\n",
      " terrorism: 0.06\n",
      " peace keeping: 0.06\n",
      " regional: 0.06\n",
      "Topic 09\n",
      " caribbean: 0.28\n",
      " small: 0.23\n",
      " island: 0.20\n",
      " small island: 0.19\n",
      " saint: 0.19\n",
      " tobago: 0.19\n",
      " trinidad tobago: 0.18\n",
      " barbados: 0.18\n",
      " trinidad: 0.18\n",
      " bahamas: 0.17\n"
     ]
    }
   ],
   "source": [
    "display_topics(nmf_text, tfidf_text.get_feature_names_out(), 10)"
   ],
   "metadata": {
    "collapsed": false,
    "ExecuteTime": {
     "end_time": "2024-02-20T22:32:09.635633Z",
     "start_time": "2024-02-20T22:32:08.900088Z"
    }
   },
   "id": "95f2afadb1df9e67",
   "execution_count": 44
  },
  {
   "cell_type": "code",
   "outputs": [
    {
     "data": {
      "text/plain": "array([ 9.57678958, 11.62732278, 11.45181005,  9.31810399,  8.70932634,\n       13.21064324,  7.3001485 ,  4.35816519, 17.49412328,  6.95356705])"
     },
     "execution_count": 45,
     "metadata": {},
     "output_type": "execute_result"
    }
   ],
   "source": [
    "W_text.sum(axis=0)/W_text.sum()*100.0"
   ],
   "metadata": {
    "collapsed": false,
    "ExecuteTime": {
     "end_time": "2024-02-20T22:32:09.642169Z",
     "start_time": "2024-02-20T22:32:09.636493Z"
    }
   },
   "id": "e601f43be92449a7",
   "execution_count": 45
  },
  {
   "cell_type": "code",
   "outputs": [
    {
     "name": "stdout",
     "output_type": "stream",
     "text": [
      "Topic 00\n",
      " international: 0.53\n",
      " world: 0.39\n",
      " peace: 0.29\n",
      " community: 0.28\n",
      " international community: 0.24\n",
      " new: 0.21\n",
      " states: 0.18\n",
      " political: 0.18\n",
      " war: 0.17\n",
      " country: 0.16\n",
      "Topic 01\n",
      " nations: 1.84\n",
      " united: 1.80\n",
      " united nations: 1.80\n",
      " organization: 0.37\n",
      " charter: 0.29\n",
      " states: 0.25\n",
      " member: 0.25\n",
      " role: 0.24\n",
      " member states: 0.17\n",
      " secretary: 0.17\n",
      "Topic 02\n",
      " general: 1.02\n",
      " assembly: 0.99\n",
      " session: 0.95\n",
      " general assembly: 0.87\n",
      " mr: 0.62\n",
      " president: 0.56\n",
      " session general: 0.50\n",
      " session general assembly: 0.50\n",
      " election: 0.47\n",
      " secretary: 0.32\n",
      "Topic 03\n",
      " east: 0.72\n",
      " middle: 0.68\n",
      " middle east: 0.68\n",
      " palestinian: 0.62\n",
      " israel: 0.56\n",
      " people: 0.50\n",
      " peace: 0.46\n",
      " arab: 0.44\n",
      " palestinian people: 0.37\n",
      " palestine: 0.32\n",
      "Topic 04\n",
      " rights: 2.28\n",
      " human: 2.19\n",
      " human rights: 2.06\n",
      " respect: 0.36\n",
      " respect human: 0.30\n",
      " respect human rights: 0.29\n",
      " universal: 0.29\n",
      " fundamental: 0.27\n",
      " protection: 0.26\n",
      " violations: 0.24\n",
      "Topic 05\n",
      " nuclear: 1.90\n",
      " weapons: 1.26\n",
      " nuclear weapons: 0.77\n",
      " disarmament: 0.67\n",
      " treaty: 0.66\n",
      " proliferation: 0.58\n",
      " non: 0.46\n",
      " non proliferation: 0.45\n",
      " arms: 0.43\n",
      " states: 0.31\n",
      "Topic 06\n",
      " africa: 1.42\n",
      " south: 1.30\n",
      " south africa: 1.02\n",
      " african: 0.57\n",
      " namibia: 0.51\n",
      " apartheid: 0.49\n",
      " regime: 0.35\n",
      " people: 0.34\n",
      " southern: 0.30\n",
      " southern africa: 0.26\n",
      "Topic 07\n",
      " council: 1.88\n",
      " security: 1.83\n",
      " security council: 1.54\n",
      " peace security: 0.47\n",
      " permanent: 0.47\n",
      " reform: 0.41\n",
      " resolution: 0.36\n",
      " peace: 0.35\n",
      " international peace: 0.32\n",
      " international peace security: 0.31\n",
      "Topic 08\n",
      " countries: 1.55\n",
      " developing: 0.95\n",
      " developing countries: 0.86\n",
      " economic: 0.63\n",
      " developed: 0.50\n",
      " developed countries: 0.37\n",
      " trade: 0.36\n",
      " world: 0.25\n",
      " debt: 0.25\n",
      " international economic: 0.24\n",
      "Topic 09\n",
      " development: 1.42\n",
      " sustainable: 0.43\n",
      " goals: 0.36\n",
      " sustainable development: 0.36\n",
      " social: 0.31\n",
      " economic: 0.30\n",
      " development goals: 0.29\n",
      " millennium: 0.29\n",
      " global: 0.28\n",
      " agenda: 0.26\n"
     ]
    }
   ],
   "source": [
    "nmf_para = NMF(n_components=10, random_state=42)\n",
    "W_para = nmf_para.fit_transform(vectors_para)\n",
    "H_para = nmf_para.components_\n",
    "display_topics(nmf_para, tfidf_para.get_feature_names_out(), 10)"
   ],
   "metadata": {
    "collapsed": false,
    "ExecuteTime": {
     "end_time": "2024-02-20T22:33:00.592111Z",
     "start_time": "2024-02-20T22:32:09.641680Z"
    }
   },
   "id": "d539a3ef3bf3371a",
   "execution_count": 46
  },
  {
   "cell_type": "code",
   "outputs": [
    {
     "data": {
      "text/plain": "array([14.97753552, 14.14488482,  9.98099942,  8.32899179,  6.56196774,\n        5.85947961,  8.83279683,  8.34537967, 10.5458025 , 12.42216209])"
     },
     "execution_count": 47,
     "metadata": {},
     "output_type": "execute_result"
    }
   ],
   "source": [
    "W_para.sum(axis=0)/W_para.sum()*100.0"
   ],
   "metadata": {
    "collapsed": false,
    "ExecuteTime": {
     "end_time": "2024-02-20T22:33:00.604997Z",
     "start_time": "2024-02-20T22:33:00.592138Z"
    }
   },
   "id": "d261be41905f86e1",
   "execution_count": 47
  },
  {
   "cell_type": "code",
   "outputs": [],
   "source": [],
   "metadata": {
    "collapsed": false,
    "ExecuteTime": {
     "end_time": "2024-02-20T22:33:00.605643Z",
     "start_time": "2024-02-20T22:33:00.599392Z"
    }
   },
   "id": "bb8f4eb3d1a47720",
   "execution_count": 47
  },
  {
   "cell_type": "code",
   "outputs": [],
   "source": [
    "from sklearn.feature_extraction.text import CountVectorizer\n",
    "count_para_vectorizer = CountVectorizer(stop_words=list(stopwords), min_df=5, max_df=0.7, ngram_range=(1, 3))\n",
    "count_para_vectors = count_para_vectorizer.fit_transform(para_df['paragraphs'])\n",
    "from sklearn.decomposition import LatentDirichletAllocation\n",
    "lda_para = LatentDirichletAllocation(n_components=10, random_state=42)\n",
    "W_lda_para = lda_para.fit_transform(count_para_vectors)\n",
    "H_lda_para = lda_para.components_"
   ],
   "metadata": {
    "collapsed": false,
    "ExecuteTime": {
     "end_time": "2024-02-20T22:58:22.702347Z",
     "start_time": "2024-02-20T22:49:38.951786Z"
    }
   },
   "id": "199590460f0d0e4b",
   "execution_count": 48
  },
  {
   "cell_type": "code",
   "outputs": [
    {
     "name": "stdout",
     "output_type": "stream",
     "text": [
      "Topic 00\n",
      " nations: 3.73\n",
      " united nations: 3.41\n",
      " united: 3.40\n",
      " international: 1.08\n",
      " organization: 0.87\n",
      " peace: 0.78\n",
      " security: 0.63\n",
      " world: 0.56\n",
      " charter: 0.54\n",
      " states: 0.53\n",
      "Topic 01\n",
      " united: 0.81\n",
      " countries: 0.75\n",
      " nations: 0.69\n",
      " states: 0.67\n",
      " conference: 0.66\n",
      " development: 0.63\n",
      " united nations: 0.55\n",
      " international: 0.47\n",
      " cooperation: 0.43\n",
      " support: 0.40\n",
      "Topic 02\n",
      " africa: 1.17\n",
      " south: 0.96\n",
      " people: 0.75\n",
      " south africa: 0.66\n",
      " independence: 0.60\n",
      " peoples: 0.55\n",
      " right: 0.45\n",
      " united: 0.45\n",
      " namibia: 0.45\n",
      " states: 0.43\n",
      "Topic 03\n",
      " countries: 2.13\n",
      " economic: 1.56\n",
      " world: 1.29\n",
      " international: 1.23\n",
      " developing: 0.85\n",
      " development: 0.75\n",
      " developing countries: 0.69\n",
      " problems: 0.51\n",
      " co: 0.49\n",
      " new: 0.46\n",
      "Topic 04\n",
      " people: 0.86\n",
      " world: 0.79\n",
      " country: 0.50\n",
      " change: 0.43\n",
      " climate: 0.37\n",
      " resources: 0.36\n",
      " climate change: 0.28\n",
      " human: 0.28\n",
      " cent: 0.27\n",
      " years: 0.27\n",
      "Topic 05\n",
      " human: 1.79\n",
      " rights: 1.59\n",
      " development: 1.53\n",
      " human rights: 1.18\n",
      " world: 0.58\n",
      " international: 0.51\n",
      " global: 0.48\n",
      " social: 0.43\n",
      " sustainable: 0.40\n",
      " goals: 0.38\n",
      "Topic 06\n",
      " general: 2.42\n",
      " assembly: 1.84\n",
      " session: 1.67\n",
      " general assembly: 1.49\n",
      " mr: 0.98\n",
      " secretary: 0.92\n",
      " secretary general: 0.91\n",
      " president: 0.74\n",
      " session general: 0.67\n",
      " session general assembly: 0.66\n",
      "Topic 07\n",
      " people: 1.14\n",
      " republic: 0.99\n",
      " government: 0.65\n",
      " united: 0.57\n",
      " states: 0.57\n",
      " united states: 0.51\n",
      " country: 0.50\n",
      " new: 0.44\n",
      " democratic: 0.44\n",
      " soviet: 0.42\n",
      "Topic 08\n",
      " peace: 1.45\n",
      " conflict: 0.55\n",
      " region: 0.55\n",
      " east: 0.46\n",
      " international: 0.46\n",
      " country: 0.45\n",
      " efforts: 0.44\n",
      " solution: 0.44\n",
      " security: 0.43\n",
      " government: 0.42\n",
      "Topic 09\n",
      " security: 1.39\n",
      " nuclear: 1.29\n",
      " international: 1.11\n",
      " weapons: 0.95\n",
      " council: 0.92\n",
      " disarmament: 0.74\n",
      " security council: 0.72\n",
      " states: 0.58\n",
      " terrorism: 0.57\n",
      " arms: 0.55\n"
     ]
    }
   ],
   "source": [
    "display_topics(lda_para, count_para_vectorizer.get_feature_names_out(), 10)"
   ],
   "metadata": {
    "collapsed": false,
    "ExecuteTime": {
     "end_time": "2024-02-20T22:58:23.582969Z",
     "start_time": "2024-02-20T22:58:23.179022Z"
    }
   },
   "id": "d96bd10861dd0233",
   "execution_count": 49
  },
  {
   "cell_type": "code",
   "outputs": [],
   "source": [],
   "metadata": {
    "collapsed": false
   },
   "id": "1d213fea9a94a51c"
  }
 ],
 "metadata": {
  "kernelspec": {
   "display_name": "Python 3",
   "language": "python",
   "name": "python3"
  },
  "language_info": {
   "codemirror_mode": {
    "name": "ipython",
    "version": 2
   },
   "file_extension": ".py",
   "mimetype": "text/x-python",
   "name": "python",
   "nbconvert_exporter": "python",
   "pygments_lexer": "ipython2",
   "version": "2.7.6"
  }
 },
 "nbformat": 4,
 "nbformat_minor": 5
}
