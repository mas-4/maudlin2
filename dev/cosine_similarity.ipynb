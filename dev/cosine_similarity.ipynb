{
 "cells": [
  {
   "cell_type": "code",
   "execution_count": 81,
   "id": "initial_id",
   "metadata": {
    "collapsed": true,
    "ExecuteTime": {
     "end_time": "2024-03-02T18:20:10.445689Z",
     "start_time": "2024-03-02T18:20:09.996107Z"
    }
   },
   "source": [
    "from app.models import Session, Headline, Article, Agency\n",
    "from app.queries import Queries\n",
    "s = Session()\n",
    "\n",
    "articles = Queries.get_todays_articles(s).all()\n",
    "articles\n"
   ],
   "outputs": []
  },
  {
   "cell_type": "code",
   "source": [
    "import pandas as pd\n",
    "df = pd.DataFrame([[a.most_recent_headline().title, a.last_accessed, a.agency.name] for a in articles], columns=['headline', 'last_accessed', 'agency'])\n",
    "df.head()"
   ],
   "metadata": {
    "collapsed": false,
    "ExecuteTime": {
     "end_time": "2024-03-02T18:20:10.459809Z",
     "start_time": "2024-03-02T18:20:10.446696Z"
    }
   },
   "id": "faf2ab6f3f4d06b",
   "execution_count": 82,
   "outputs": []
  },
  {
   "cell_type": "code",
   "source": [
    "repr_sample = df[df['headline'].str.contains('Musk')].iloc[2].headline\n",
    "repr_sample"
   ],
   "metadata": {
    "collapsed": false,
    "ExecuteTime": {
     "end_time": "2024-03-02T18:20:11.750526Z",
     "start_time": "2024-03-02T18:20:11.731775Z"
    }
   },
   "id": "b13078bbc4718be2",
   "execution_count": 83,
   "outputs": []
  },
  {
   "cell_type": "code",
   "source": [
    "from sklearn.feature_extraction.text import TfidfVectorizer\n",
    "from app.pipelines import Pipelines, prepare, trem, tnorm, STOPWORDS\n",
    "\n",
    "pipeline = [\n",
    "    str.lower,\n",
    "    Pipelines.split_camelcase,\n",
    "    tnorm.hyphenated_words,\n",
    "    tnorm.quotation_marks,\n",
    "    tnorm.unicode,\n",
    "    tnorm.whitespace,\n",
    "    trem.accents,\n",
    "    trem.brackets,\n",
    "    trem.punctuation,\n",
    "    Pipelines.tokenize,\n",
    "    Pipelines.decontract,\n",
    "    lambda x: Pipelines.remove_stop(x, STOPWORDS),\n",
    "    # lambda x: ' '.join(x)\n",
    "]\n",
    "\n",
    "tfidf = TfidfVectorizer(\n",
    "    tokenizer=lambda x: prepare(x, pipeline),\n",
    "    max_features=1000\n",
    ")\n",
    "dt = tfidf.fit_transform(df['headline'])"
   ],
   "metadata": {
    "collapsed": false,
    "ExecuteTime": {
     "end_time": "2024-03-02T18:20:14.430699Z",
     "start_time": "2024-03-02T18:20:14.089368Z"
    }
   },
   "id": "f6bd56c938b61a9",
   "execution_count": 84,
   "outputs": []
  },
  {
   "cell_type": "code",
   "source": [
    "rep = tfidf.transform([repr_sample])"
   ],
   "metadata": {
    "collapsed": false,
    "ExecuteTime": {
     "end_time": "2024-03-02T18:20:19.178323Z",
     "start_time": "2024-03-02T18:20:19.173532Z"
    }
   },
   "id": "f65c28f27b8c28ce",
   "execution_count": 85,
   "outputs": []
  },
  {
   "cell_type": "code",
   "source": [
    "from sklearn.metrics.pairwise import cosine_similarity\n",
    "cosine_similarity(dt, rep)"
   ],
   "metadata": {
    "collapsed": false,
    "ExecuteTime": {
     "end_time": "2024-03-02T18:20:20.791831Z",
     "start_time": "2024-03-02T18:20:20.786292Z"
    }
   },
   "id": "612ef77378616bb2",
   "execution_count": 86,
   "outputs": []
  },
  {
   "cell_type": "code",
   "source": [
    "df['similarity'] = cosine_similarity(dt, rep)\n",
    "df = df.sort_values('similarity', ascending=False)"
   ],
   "metadata": {
    "collapsed": false,
    "ExecuteTime": {
     "end_time": "2024-03-02T18:20:27.281219Z",
     "start_time": "2024-03-02T18:20:27.269984Z"
    }
   },
   "id": "a60555d92f5e45c1",
   "execution_count": 87,
   "outputs": []
  },
  {
   "cell_type": "code",
   "source": [
    "len(df[df['similarity'] > 0.5])"
   ],
   "metadata": {
    "collapsed": false,
    "ExecuteTime": {
     "end_time": "2024-03-02T18:21:44.202062Z",
     "start_time": "2024-03-02T18:21:44.198127Z"
    }
   },
   "id": "e88fcea3c0531329",
   "execution_count": 98,
   "outputs": []
  },
  {
   "cell_type": "code",
   "source": [
    "df[df['headline'].str.contains('Musk')]['similarity'].hist()"
   ],
   "metadata": {
    "collapsed": false,
    "ExecuteTime": {
     "end_time": "2024-03-02T18:21:44.494261Z",
     "start_time": "2024-03-02T18:21:44.417573Z"
    }
   },
   "id": "e08a4fdb6165f815",
   "execution_count": 99,
   "outputs": []
  },
  {
   "cell_type": "code",
   "source": [
    "cutoff = 0.4\n",
    "print(\"Full len:\", len(df[df['similarity'] > cutoff]))\n",
    "df[df['similarity'] > cutoff].sort_values('similarity', ascending=True).head(10)\n",
    "contains = len(df[(df['similarity'] > cutoff) & (df['headline'].str.contains('Musk'))])\n",
    "doesnt = len(df[(df['similarity'] > cutoff) & (~df['headline'].str.contains('Musk'))])\n",
    "print(\"Contains:\", contains)\n",
    "print(\"Doesn't:\", doesnt)\n",
    "ratio = contains / (contains + doesnt)\n",
    "print(\"Ratio:\", ratio)\n"
   ],
   "metadata": {
    "collapsed": false,
    "ExecuteTime": {
     "end_time": "2024-03-02T18:22:40.163632Z",
     "start_time": "2024-03-02T18:22:40.141491Z"
    }
   },
   "id": "734fe93471b4da97",
   "execution_count": 105,
   "outputs": []
  },
  {
   "cell_type": "code",
   "source": [
    "import numpy as np\n",
    "tfidf.get_feature_names_out()"
   ],
   "metadata": {
    "collapsed": false,
    "ExecuteTime": {
     "end_time": "2024-03-02T18:08:21.597409Z",
     "start_time": "2024-03-02T18:08:21.591798Z"
    }
   },
   "id": "9c3447a87f49e0d2",
   "execution_count": 51,
   "outputs": []
  },
  {
   "cell_type": "code",
   "source": [
    "from sklearn.feature_extraction.text import CountVectorizer\n",
    "\n",
    "def xkeyscore(representations, x):\n",
    "    cv = CountVectorizer(\n",
    "        tokenizer=lambda x: prepare(x, pipeline),\n",
    "        max_features=20,\n",
    "        ngram_range=(1, 3),\n",
    "        lowercase=False\n",
    "    ).fit(representations)\n",
    "    xdt = cv.transform(x).todense()\n",
    "    top_indices = np.argsort(np.sum(xdt, axis=1).A1)[-20:]\n",
    "    return sum(xdt[0, i] for i in top_indices if xdt[0, i] > 0)\n",
    "\n",
    "# def calculate_xkeyscore(df):\n",
    "#     n_features = 1000\n",
    "#     df['prepared'] = df['title'].apply(lambda x: prepare(x, pipeline=pipeline))\n",
    "#     dense = CountVectorizer(max_features=n_features, ngram_range=(1, 3), lowercase=False).fit_transform(\n",
    "#         df['prepared']\n",
    "#     ).todense()\n",
    "#     top_indices = np.argsort(np.sum(dense, axis=0).A1)[-n_features:]\n",
    "#     df['score'] = [sum(doc[0, i] for i in top_indices if doc[0, i] > 0) for doc in dense]\n",
    "#     df = df.sort_values(by='score', ascending=False)\n",
    "#     df.drop('prepared', axis=1, inplace=True)\n",
    "#     return df"
   ],
   "metadata": {
    "collapsed": false,
    "ExecuteTime": {
     "end_time": "2024-03-02T18:25:24.485926Z",
     "start_time": "2024-03-02T18:25:24.480771Z"
    }
   },
   "id": "b734e71262f3a3fe",
   "execution_count": 116,
   "outputs": []
  },
  {
   "cell_type": "code",
   "source": [
    "samples = df[df['headline'].str.contains('Musk')].iloc[:5]['headline']\n",
    "samples"
   ],
   "metadata": {
    "collapsed": false,
    "ExecuteTime": {
     "end_time": "2024-03-02T18:25:24.992186Z",
     "start_time": "2024-03-02T18:25:24.982292Z"
    }
   },
   "id": "7e333c3c71744eef",
   "execution_count": 117,
   "outputs": []
  },
  {
   "cell_type": "code",
   "source": [
    "df['xkeyscore'] = xkeyscore(samples, df['headline'])\n",
    "df = df.sort_values('xkeyscore', ascending=False)\n",
    "df.head(10)"
   ],
   "metadata": {
    "collapsed": false,
    "ExecuteTime": {
     "end_time": "2024-03-02T18:25:26.278373Z",
     "start_time": "2024-03-02T18:25:25.896061Z"
    }
   },
   "id": "1f95ceddeacaf963",
   "execution_count": 118,
   "outputs": []
  },
  {
   "cell_type": "code",
   "source": [
    "df"
   ],
   "metadata": {
    "collapsed": false,
    "ExecuteTime": {
     "end_time": "2024-03-02T18:24:52.217932Z",
     "start_time": "2024-03-02T18:24:52.209908Z"
    }
   },
   "id": "86473671cafd107a",
   "execution_count": 115,
   "outputs": []
  },
  {
   "cell_type": "code",
   "source": [],
   "metadata": {
    "collapsed": false
   },
   "id": "84a2c84a1118230",
   "execution_count": null,
   "outputs": []
  }
 ],
 "metadata": {
  "kernelspec": {
   "display_name": "Python 3",
   "language": "python",
   "name": "python3"
  },
  "language_info": {
   "codemirror_mode": {
    "name": "ipython",
    "version": 2
   },
   "file_extension": ".py",
   "mimetype": "text/x-python",
   "name": "python",
   "nbconvert_exporter": "python",
   "pygments_lexer": "ipython2",
   "version": "2.7.6"
  }
 },
 "nbformat": 4,
 "nbformat_minor": 5
}
