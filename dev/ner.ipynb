{
 "cells": [
  {
   "cell_type": "code",
   "id": "initial_id",
   "metadata": {
    "collapsed": true,
    "ExecuteTime": {
     "end_time": "2024-05-15T10:55:04.998034Z",
     "start_time": "2024-05-15T10:55:00.410285Z"
    }
   },
   "source": [
    "from app.analysis.ner import query_data, setup, EntityAnalyzer\n",
    "\n",
    "df = query_data(0)"
   ],
   "outputs": [
    {
     "name": "stdout",
     "output_type": "stream",
     "text": [
      "[2024-05-15 06:55:02,105:    INFO] \u001B[90mQuerying data.\u001B[0m (ner.py:81)\n"
     ]
    }
   ],
   "execution_count": 1
  },
  {
   "metadata": {
    "ExecuteTime": {
     "end_time": "2024-05-15T10:55:05.005692Z",
     "start_time": "2024-05-15T10:55:04.998034Z"
    }
   },
   "cell_type": "code",
   "source": "df",
   "id": "c57f015683316dce",
   "outputs": [
    {
     "data": {
      "text/plain": [
       "         headline_id                                              title\n",
       "0                  1  Schweizer's 'Blood Money' Rockets to #1 on Ama...\n",
       "1                  2          Who Can Win a Nobel Prize? by Yasmin Nair\n",
       "2                  3  Rafah offensive could make humanitarian situat...\n",
       "3                  4  SPEAK UP: CNN: 24 things to look forward to in...\n",
       "4                  5                     To Russia, With Love, From GOP\n",
       "...              ...                                                ...\n",
       "1026099      1127537  OpenAI Launches Voice Assistant Inspired by Ho...\n",
       "1026100      1127538  Berkshire Hathaway's Mystery Stock Purchase Co...\n",
       "1026101      1127539  This unconventional inflation hedge may be mor...\n",
       "1026102      1127540  Why Wednesday's CPI report is taking on outsiz...\n",
       "1026103      1127541  Rihanna Finds a Buyer for $25 Million Los Ange...\n",
       "\n",
       "[1026104 rows x 2 columns]"
      ],
      "text/html": [
       "<div>\n",
       "<style scoped>\n",
       "    .dataframe tbody tr th:only-of-type {\n",
       "        vertical-align: middle;\n",
       "    }\n",
       "\n",
       "    .dataframe tbody tr th {\n",
       "        vertical-align: top;\n",
       "    }\n",
       "\n",
       "    .dataframe thead th {\n",
       "        text-align: right;\n",
       "    }\n",
       "</style>\n",
       "<table border=\"1\" class=\"dataframe\">\n",
       "  <thead>\n",
       "    <tr style=\"text-align: right;\">\n",
       "      <th></th>\n",
       "      <th>headline_id</th>\n",
       "      <th>title</th>\n",
       "    </tr>\n",
       "  </thead>\n",
       "  <tbody>\n",
       "    <tr>\n",
       "      <th>0</th>\n",
       "      <td>1</td>\n",
       "      <td>Schweizer's 'Blood Money' Rockets to #1 on Ama...</td>\n",
       "    </tr>\n",
       "    <tr>\n",
       "      <th>1</th>\n",
       "      <td>2</td>\n",
       "      <td>Who Can Win a Nobel Prize? by Yasmin Nair</td>\n",
       "    </tr>\n",
       "    <tr>\n",
       "      <th>2</th>\n",
       "      <td>3</td>\n",
       "      <td>Rafah offensive could make humanitarian situat...</td>\n",
       "    </tr>\n",
       "    <tr>\n",
       "      <th>3</th>\n",
       "      <td>4</td>\n",
       "      <td>SPEAK UP: CNN: 24 things to look forward to in...</td>\n",
       "    </tr>\n",
       "    <tr>\n",
       "      <th>4</th>\n",
       "      <td>5</td>\n",
       "      <td>To Russia, With Love, From GOP</td>\n",
       "    </tr>\n",
       "    <tr>\n",
       "      <th>...</th>\n",
       "      <td>...</td>\n",
       "      <td>...</td>\n",
       "    </tr>\n",
       "    <tr>\n",
       "      <th>1026099</th>\n",
       "      <td>1127537</td>\n",
       "      <td>OpenAI Launches Voice Assistant Inspired by Ho...</td>\n",
       "    </tr>\n",
       "    <tr>\n",
       "      <th>1026100</th>\n",
       "      <td>1127538</td>\n",
       "      <td>Berkshire Hathaway's Mystery Stock Purchase Co...</td>\n",
       "    </tr>\n",
       "    <tr>\n",
       "      <th>1026101</th>\n",
       "      <td>1127539</td>\n",
       "      <td>This unconventional inflation hedge may be mor...</td>\n",
       "    </tr>\n",
       "    <tr>\n",
       "      <th>1026102</th>\n",
       "      <td>1127540</td>\n",
       "      <td>Why Wednesday's CPI report is taking on outsiz...</td>\n",
       "    </tr>\n",
       "    <tr>\n",
       "      <th>1026103</th>\n",
       "      <td>1127541</td>\n",
       "      <td>Rihanna Finds a Buyer for $25 Million Los Ange...</td>\n",
       "    </tr>\n",
       "  </tbody>\n",
       "</table>\n",
       "<p>1026104 rows × 2 columns</p>\n",
       "</div>"
      ]
     },
     "execution_count": 2,
     "metadata": {},
     "output_type": "execute_result"
    }
   ],
   "execution_count": 2
  },
  {
   "metadata": {
    "ExecuteTime": {
     "end_time": "2024-05-15T13:53:23.946257Z",
     "start_time": "2024-05-15T10:55:05.005692Z"
    }
   },
   "cell_type": "code",
   "source": [
    "analyzer = EntityAnalyzer()\n",
    "df = setup(df, analyzer)"
   ],
   "id": "b0140507b9987e3e",
   "outputs": [
    {
     "name": "stdout",
     "output_type": "stream",
     "text": [
      "[2024-05-15 06:55:09,079:    INFO] \u001B[90mExtracting entities for 1026104 headlines...\u001B[0m (ner.py:133)\n"
     ]
    },
    {
     "name": "stderr",
     "output_type": "stream",
     "text": [
      "100%|██████████| 1026104/1026104 [2:56:51<00:00, 96.70it/s]  "
     ]
    },
    {
     "name": "stdout",
     "output_type": "stream",
     "text": [
      "[2024-05-15 09:52:00,263:    INFO] \u001B[90mDone.\u001B[0m (ner.py:150)\n"
     ]
    },
    {
     "name": "stderr",
     "output_type": "stream",
     "text": [
      "\n"
     ]
    }
   ],
   "execution_count": 3
  },
  {
   "metadata": {
    "ExecuteTime": {
     "end_time": "2024-05-15T19:42:48.760750Z",
     "start_time": "2024-05-15T19:42:46.734172Z"
    }
   },
   "cell_type": "code",
   "source": [
    "import pandas as pd\n",
    "df = pd.read_csv('entity_checkpoint.csv')\n",
    "df.head()"
   ],
   "id": "131b71a4f4dc007b",
   "outputs": [
    {
     "data": {
      "text/plain": [
       "   headline_id                                              title  \\\n",
       "0            1  Schweizer's 'Blood Money' Rockets to #1 on Ama...   \n",
       "1            1  Schweizer's 'Blood Money' Rockets to #1 on Ama...   \n",
       "2            1  Schweizer's 'Blood Money' Rockets to #1 on Ama...   \n",
       "3            2          Who Can Win a Nobel Prize? by Yasmin Nair   \n",
       "4            3  Rafah offensive could make humanitarian situat...   \n",
       "\n",
       "              entity   label        simplified   run  \n",
       "0          Schweizer     ORG         Schweizer  True  \n",
       "1             Amazon     ORG            Amazon  True  \n",
       "2  Movers & Shakers'     ORG  Movers & Shakers  True  \n",
       "3        Yasmin Nair  PERSON       Yasmin Nair  True  \n",
       "4                 EU     ORG                EU  True  "
      ],
      "text/html": [
       "<div>\n",
       "<style scoped>\n",
       "    .dataframe tbody tr th:only-of-type {\n",
       "        vertical-align: middle;\n",
       "    }\n",
       "\n",
       "    .dataframe tbody tr th {\n",
       "        vertical-align: top;\n",
       "    }\n",
       "\n",
       "    .dataframe thead th {\n",
       "        text-align: right;\n",
       "    }\n",
       "</style>\n",
       "<table border=\"1\" class=\"dataframe\">\n",
       "  <thead>\n",
       "    <tr style=\"text-align: right;\">\n",
       "      <th></th>\n",
       "      <th>headline_id</th>\n",
       "      <th>title</th>\n",
       "      <th>entity</th>\n",
       "      <th>label</th>\n",
       "      <th>simplified</th>\n",
       "      <th>run</th>\n",
       "    </tr>\n",
       "  </thead>\n",
       "  <tbody>\n",
       "    <tr>\n",
       "      <th>0</th>\n",
       "      <td>1</td>\n",
       "      <td>Schweizer's 'Blood Money' Rockets to #1 on Ama...</td>\n",
       "      <td>Schweizer</td>\n",
       "      <td>ORG</td>\n",
       "      <td>Schweizer</td>\n",
       "      <td>True</td>\n",
       "    </tr>\n",
       "    <tr>\n",
       "      <th>1</th>\n",
       "      <td>1</td>\n",
       "      <td>Schweizer's 'Blood Money' Rockets to #1 on Ama...</td>\n",
       "      <td>Amazon</td>\n",
       "      <td>ORG</td>\n",
       "      <td>Amazon</td>\n",
       "      <td>True</td>\n",
       "    </tr>\n",
       "    <tr>\n",
       "      <th>2</th>\n",
       "      <td>1</td>\n",
       "      <td>Schweizer's 'Blood Money' Rockets to #1 on Ama...</td>\n",
       "      <td>Movers &amp; Shakers'</td>\n",
       "      <td>ORG</td>\n",
       "      <td>Movers &amp; Shakers</td>\n",
       "      <td>True</td>\n",
       "    </tr>\n",
       "    <tr>\n",
       "      <th>3</th>\n",
       "      <td>2</td>\n",
       "      <td>Who Can Win a Nobel Prize? by Yasmin Nair</td>\n",
       "      <td>Yasmin Nair</td>\n",
       "      <td>PERSON</td>\n",
       "      <td>Yasmin Nair</td>\n",
       "      <td>True</td>\n",
       "    </tr>\n",
       "    <tr>\n",
       "      <th>4</th>\n",
       "      <td>3</td>\n",
       "      <td>Rafah offensive could make humanitarian situat...</td>\n",
       "      <td>EU</td>\n",
       "      <td>ORG</td>\n",
       "      <td>EU</td>\n",
       "      <td>True</td>\n",
       "    </tr>\n",
       "  </tbody>\n",
       "</table>\n",
       "</div>"
      ]
     },
     "execution_count": 9,
     "metadata": {},
     "output_type": "execute_result"
    }
   ],
   "execution_count": 9
  },
  {
   "metadata": {
    "ExecuteTime": {
     "end_time": "2024-05-15T19:42:48.874352Z",
     "start_time": "2024-05-15T19:42:48.760750Z"
    }
   },
   "cell_type": "code",
   "source": [
    "df['lowercase'] = df['simplified'].str.lower()\n",
    "df.head()"
   ],
   "id": "cab2b0dea7fcc88f",
   "outputs": [
    {
     "data": {
      "text/plain": [
       "   headline_id                                              title  \\\n",
       "0            1  Schweizer's 'Blood Money' Rockets to #1 on Ama...   \n",
       "1            1  Schweizer's 'Blood Money' Rockets to #1 on Ama...   \n",
       "2            1  Schweizer's 'Blood Money' Rockets to #1 on Ama...   \n",
       "3            2          Who Can Win a Nobel Prize? by Yasmin Nair   \n",
       "4            3  Rafah offensive could make humanitarian situat...   \n",
       "\n",
       "              entity   label        simplified   run         lowercase  \n",
       "0          Schweizer     ORG         Schweizer  True         schweizer  \n",
       "1             Amazon     ORG            Amazon  True            amazon  \n",
       "2  Movers & Shakers'     ORG  Movers & Shakers  True  movers & shakers  \n",
       "3        Yasmin Nair  PERSON       Yasmin Nair  True       yasmin nair  \n",
       "4                 EU     ORG                EU  True                eu  "
      ],
      "text/html": [
       "<div>\n",
       "<style scoped>\n",
       "    .dataframe tbody tr th:only-of-type {\n",
       "        vertical-align: middle;\n",
       "    }\n",
       "\n",
       "    .dataframe tbody tr th {\n",
       "        vertical-align: top;\n",
       "    }\n",
       "\n",
       "    .dataframe thead th {\n",
       "        text-align: right;\n",
       "    }\n",
       "</style>\n",
       "<table border=\"1\" class=\"dataframe\">\n",
       "  <thead>\n",
       "    <tr style=\"text-align: right;\">\n",
       "      <th></th>\n",
       "      <th>headline_id</th>\n",
       "      <th>title</th>\n",
       "      <th>entity</th>\n",
       "      <th>label</th>\n",
       "      <th>simplified</th>\n",
       "      <th>run</th>\n",
       "      <th>lowercase</th>\n",
       "    </tr>\n",
       "  </thead>\n",
       "  <tbody>\n",
       "    <tr>\n",
       "      <th>0</th>\n",
       "      <td>1</td>\n",
       "      <td>Schweizer's 'Blood Money' Rockets to #1 on Ama...</td>\n",
       "      <td>Schweizer</td>\n",
       "      <td>ORG</td>\n",
       "      <td>Schweizer</td>\n",
       "      <td>True</td>\n",
       "      <td>schweizer</td>\n",
       "    </tr>\n",
       "    <tr>\n",
       "      <th>1</th>\n",
       "      <td>1</td>\n",
       "      <td>Schweizer's 'Blood Money' Rockets to #1 on Ama...</td>\n",
       "      <td>Amazon</td>\n",
       "      <td>ORG</td>\n",
       "      <td>Amazon</td>\n",
       "      <td>True</td>\n",
       "      <td>amazon</td>\n",
       "    </tr>\n",
       "    <tr>\n",
       "      <th>2</th>\n",
       "      <td>1</td>\n",
       "      <td>Schweizer's 'Blood Money' Rockets to #1 on Ama...</td>\n",
       "      <td>Movers &amp; Shakers'</td>\n",
       "      <td>ORG</td>\n",
       "      <td>Movers &amp; Shakers</td>\n",
       "      <td>True</td>\n",
       "      <td>movers &amp; shakers</td>\n",
       "    </tr>\n",
       "    <tr>\n",
       "      <th>3</th>\n",
       "      <td>2</td>\n",
       "      <td>Who Can Win a Nobel Prize? by Yasmin Nair</td>\n",
       "      <td>Yasmin Nair</td>\n",
       "      <td>PERSON</td>\n",
       "      <td>Yasmin Nair</td>\n",
       "      <td>True</td>\n",
       "      <td>yasmin nair</td>\n",
       "    </tr>\n",
       "    <tr>\n",
       "      <th>4</th>\n",
       "      <td>3</td>\n",
       "      <td>Rafah offensive could make humanitarian situat...</td>\n",
       "      <td>EU</td>\n",
       "      <td>ORG</td>\n",
       "      <td>EU</td>\n",
       "      <td>True</td>\n",
       "      <td>eu</td>\n",
       "    </tr>\n",
       "  </tbody>\n",
       "</table>\n",
       "</div>"
      ]
     },
     "execution_count": 10,
     "metadata": {},
     "output_type": "execute_result"
    }
   ],
   "execution_count": 10
  },
  {
   "metadata": {
    "ExecuteTime": {
     "end_time": "2024-05-15T19:42:48.918890Z",
     "start_time": "2024-05-15T19:42:48.874352Z"
    }
   },
   "cell_type": "code",
   "source": [
    "df.drop(columns=['run'], inplace=True)\n",
    "df.head()"
   ],
   "id": "50a44ea68a009743",
   "outputs": [
    {
     "data": {
      "text/plain": [
       "   headline_id                                              title  \\\n",
       "0            1  Schweizer's 'Blood Money' Rockets to #1 on Ama...   \n",
       "1            1  Schweizer's 'Blood Money' Rockets to #1 on Ama...   \n",
       "2            1  Schweizer's 'Blood Money' Rockets to #1 on Ama...   \n",
       "3            2          Who Can Win a Nobel Prize? by Yasmin Nair   \n",
       "4            3  Rafah offensive could make humanitarian situat...   \n",
       "\n",
       "              entity   label        simplified         lowercase  \n",
       "0          Schweizer     ORG         Schweizer         schweizer  \n",
       "1             Amazon     ORG            Amazon            amazon  \n",
       "2  Movers & Shakers'     ORG  Movers & Shakers  movers & shakers  \n",
       "3        Yasmin Nair  PERSON       Yasmin Nair       yasmin nair  \n",
       "4                 EU     ORG                EU                eu  "
      ],
      "text/html": [
       "<div>\n",
       "<style scoped>\n",
       "    .dataframe tbody tr th:only-of-type {\n",
       "        vertical-align: middle;\n",
       "    }\n",
       "\n",
       "    .dataframe tbody tr th {\n",
       "        vertical-align: top;\n",
       "    }\n",
       "\n",
       "    .dataframe thead th {\n",
       "        text-align: right;\n",
       "    }\n",
       "</style>\n",
       "<table border=\"1\" class=\"dataframe\">\n",
       "  <thead>\n",
       "    <tr style=\"text-align: right;\">\n",
       "      <th></th>\n",
       "      <th>headline_id</th>\n",
       "      <th>title</th>\n",
       "      <th>entity</th>\n",
       "      <th>label</th>\n",
       "      <th>simplified</th>\n",
       "      <th>lowercase</th>\n",
       "    </tr>\n",
       "  </thead>\n",
       "  <tbody>\n",
       "    <tr>\n",
       "      <th>0</th>\n",
       "      <td>1</td>\n",
       "      <td>Schweizer's 'Blood Money' Rockets to #1 on Ama...</td>\n",
       "      <td>Schweizer</td>\n",
       "      <td>ORG</td>\n",
       "      <td>Schweizer</td>\n",
       "      <td>schweizer</td>\n",
       "    </tr>\n",
       "    <tr>\n",
       "      <th>1</th>\n",
       "      <td>1</td>\n",
       "      <td>Schweizer's 'Blood Money' Rockets to #1 on Ama...</td>\n",
       "      <td>Amazon</td>\n",
       "      <td>ORG</td>\n",
       "      <td>Amazon</td>\n",
       "      <td>amazon</td>\n",
       "    </tr>\n",
       "    <tr>\n",
       "      <th>2</th>\n",
       "      <td>1</td>\n",
       "      <td>Schweizer's 'Blood Money' Rockets to #1 on Ama...</td>\n",
       "      <td>Movers &amp; Shakers'</td>\n",
       "      <td>ORG</td>\n",
       "      <td>Movers &amp; Shakers</td>\n",
       "      <td>movers &amp; shakers</td>\n",
       "    </tr>\n",
       "    <tr>\n",
       "      <th>3</th>\n",
       "      <td>2</td>\n",
       "      <td>Who Can Win a Nobel Prize? by Yasmin Nair</td>\n",
       "      <td>Yasmin Nair</td>\n",
       "      <td>PERSON</td>\n",
       "      <td>Yasmin Nair</td>\n",
       "      <td>yasmin nair</td>\n",
       "    </tr>\n",
       "    <tr>\n",
       "      <th>4</th>\n",
       "      <td>3</td>\n",
       "      <td>Rafah offensive could make humanitarian situat...</td>\n",
       "      <td>EU</td>\n",
       "      <td>ORG</td>\n",
       "      <td>EU</td>\n",
       "      <td>eu</td>\n",
       "    </tr>\n",
       "  </tbody>\n",
       "</table>\n",
       "</div>"
      ]
     },
     "execution_count": 11,
     "metadata": {},
     "output_type": "execute_result"
    }
   ],
   "execution_count": 11
  },
  {
   "metadata": {
    "ExecuteTime": {
     "end_time": "2024-05-15T19:52:13.844341Z",
     "start_time": "2024-05-15T19:52:13.841731Z"
    }
   },
   "cell_type": "code",
   "source": [
    "def is_match(a, b):\n",
    "    return a in b or b in a"
   ],
   "id": "bdcf5f148a0c1345",
   "outputs": [],
   "execution_count": 12
  },
  {
   "metadata": {
    "ExecuteTime": {
     "end_time": "2024-05-15T19:56:56.328180Z",
     "start_time": "2024-05-15T19:56:56.316040Z"
    }
   },
   "cell_type": "code",
   "source": [
    "# Let's create a n nxn matrix of matches for each entity\n",
    "import numpy as np\n",
    "\n",
    "# use numpy broadcasting\n",
    "matches = np.zeros((len(df), len(df)), dtype=bool)\n",
    "for i, row in df.iterrows():\n",
    "    matches[i] = df['lowercase'].apply(lambda x: is_match(row['lowercase'], x))\n",
    "matches"
   ],
   "id": "d3705d72381e5dfc",
   "outputs": [
    {
     "ename": "MemoryError",
     "evalue": "Unable to allocate 2.54 TiB for an array with shape (1671655, 1671655) and data type bool",
     "output_type": "error",
     "traceback": [
      "\u001B[1;31m---------------------------------------------------------------------------\u001B[0m",
      "\u001B[1;31mMemoryError\u001B[0m                               Traceback (most recent call last)",
      "Cell \u001B[1;32mIn[13], line 5\u001B[0m\n\u001B[0;32m      2\u001B[0m \u001B[38;5;28;01mimport\u001B[39;00m \u001B[38;5;21;01mnumpy\u001B[39;00m \u001B[38;5;28;01mas\u001B[39;00m \u001B[38;5;21;01mnp\u001B[39;00m\n\u001B[0;32m      4\u001B[0m \u001B[38;5;66;03m# use numpy broadcasting\u001B[39;00m\n\u001B[1;32m----> 5\u001B[0m matches \u001B[38;5;241m=\u001B[39m \u001B[43mnp\u001B[49m\u001B[38;5;241;43m.\u001B[39;49m\u001B[43mzeros\u001B[49m\u001B[43m(\u001B[49m\u001B[43m(\u001B[49m\u001B[38;5;28;43mlen\u001B[39;49m\u001B[43m(\u001B[49m\u001B[43mdf\u001B[49m\u001B[43m)\u001B[49m\u001B[43m,\u001B[49m\u001B[43m \u001B[49m\u001B[38;5;28;43mlen\u001B[39;49m\u001B[43m(\u001B[49m\u001B[43mdf\u001B[49m\u001B[43m)\u001B[49m\u001B[43m)\u001B[49m\u001B[43m,\u001B[49m\u001B[43m \u001B[49m\u001B[43mdtype\u001B[49m\u001B[38;5;241;43m=\u001B[39;49m\u001B[38;5;28;43mbool\u001B[39;49m\u001B[43m)\u001B[49m\n\u001B[0;32m      6\u001B[0m \u001B[38;5;28;01mfor\u001B[39;00m i, row \u001B[38;5;129;01min\u001B[39;00m df\u001B[38;5;241m.\u001B[39miterrows():\n\u001B[0;32m      7\u001B[0m     matches[i] \u001B[38;5;241m=\u001B[39m df[\u001B[38;5;124m'\u001B[39m\u001B[38;5;124mlowercase\u001B[39m\u001B[38;5;124m'\u001B[39m]\u001B[38;5;241m.\u001B[39mapply(\u001B[38;5;28;01mlambda\u001B[39;00m x: is_match(row[\u001B[38;5;124m'\u001B[39m\u001B[38;5;124mlowercase\u001B[39m\u001B[38;5;124m'\u001B[39m], x))\n",
      "\u001B[1;31mMemoryError\u001B[0m: Unable to allocate 2.54 TiB for an array with shape (1671655, 1671655) and data type bool"
     ]
    }
   ],
   "execution_count": 13
  },
  {
   "metadata": {
    "ExecuteTime": {
     "end_time": "2024-05-15T19:58:20.138293Z",
     "start_time": "2024-05-15T19:58:20.000488Z"
    }
   },
   "cell_type": "code",
   "source": [
    "deduped = df.drop_duplicates(['lowercase'])\n",
    "len(deduped)"
   ],
   "id": "6465f81a43573edc",
   "outputs": [
    {
     "data": {
      "text/plain": [
       "166047"
      ]
     },
     "execution_count": 14,
     "metadata": {},
     "output_type": "execute_result"
    }
   ],
   "execution_count": 14
  },
  {
   "metadata": {
    "ExecuteTime": {
     "end_time": "2024-05-15T19:58:24.011030Z",
     "start_time": "2024-05-15T19:58:24.007972Z"
    }
   },
   "cell_type": "code",
   "source": "len(df)",
   "id": "55f7e83b53fb36b1",
   "outputs": [
    {
     "data": {
      "text/plain": [
       "1671655"
      ]
     },
     "execution_count": 15,
     "metadata": {},
     "output_type": "execute_result"
    }
   ],
   "execution_count": 15
  },
  {
   "metadata": {
    "ExecuteTime": {
     "end_time": "2024-05-15T19:58:41.232393Z",
     "start_time": "2024-05-15T19:58:40.968606Z"
    }
   },
   "cell_type": "code",
   "source": "df[df['lowercase'].str.contains('trump')]",
   "id": "7616685403d9d44a",
   "outputs": [
    {
     "ename": "ValueError",
     "evalue": "Cannot mask with non-boolean array containing NA / NaN values",
     "output_type": "error",
     "traceback": [
      "\u001B[1;31m---------------------------------------------------------------------------\u001B[0m",
      "\u001B[1;31mValueError\u001B[0m                                Traceback (most recent call last)",
      "Cell \u001B[1;32mIn[16], line 1\u001B[0m\n\u001B[1;32m----> 1\u001B[0m \u001B[43mdf\u001B[49m\u001B[43m[\u001B[49m\u001B[43mdf\u001B[49m\u001B[43m[\u001B[49m\u001B[38;5;124;43m'\u001B[39;49m\u001B[38;5;124;43mlowercase\u001B[39;49m\u001B[38;5;124;43m'\u001B[39;49m\u001B[43m]\u001B[49m\u001B[38;5;241;43m.\u001B[39;49m\u001B[43mstr\u001B[49m\u001B[38;5;241;43m.\u001B[39;49m\u001B[43mcontains\u001B[49m\u001B[43m(\u001B[49m\u001B[38;5;124;43m'\u001B[39;49m\u001B[38;5;124;43mtrump\u001B[39;49m\u001B[38;5;124;43m'\u001B[39;49m\u001B[43m)\u001B[49m\u001B[43m]\u001B[49m\n",
      "File \u001B[1;32m~\\Desktop\\_dev\\maudlin2\\venv\\Lib\\site-packages\\pandas\\core\\frame.py:4092\u001B[0m, in \u001B[0;36mDataFrame.__getitem__\u001B[1;34m(self, key)\u001B[0m\n\u001B[0;32m   4089\u001B[0m     \u001B[38;5;28;01mreturn\u001B[39;00m \u001B[38;5;28mself\u001B[39m\u001B[38;5;241m.\u001B[39mwhere(key)\n\u001B[0;32m   4091\u001B[0m \u001B[38;5;66;03m# Do we have a (boolean) 1d indexer?\u001B[39;00m\n\u001B[1;32m-> 4092\u001B[0m \u001B[38;5;28;01mif\u001B[39;00m \u001B[43mcom\u001B[49m\u001B[38;5;241;43m.\u001B[39;49m\u001B[43mis_bool_indexer\u001B[49m\u001B[43m(\u001B[49m\u001B[43mkey\u001B[49m\u001B[43m)\u001B[49m:\n\u001B[0;32m   4093\u001B[0m     \u001B[38;5;28;01mreturn\u001B[39;00m \u001B[38;5;28mself\u001B[39m\u001B[38;5;241m.\u001B[39m_getitem_bool_array(key)\n\u001B[0;32m   4095\u001B[0m \u001B[38;5;66;03m# We are left with two options: a single key, and a collection of keys,\u001B[39;00m\n\u001B[0;32m   4096\u001B[0m \u001B[38;5;66;03m# We interpret tuples as collections only for non-MultiIndex\u001B[39;00m\n",
      "File \u001B[1;32m~\\Desktop\\_dev\\maudlin2\\venv\\Lib\\site-packages\\pandas\\core\\common.py:136\u001B[0m, in \u001B[0;36mis_bool_indexer\u001B[1;34m(key)\u001B[0m\n\u001B[0;32m    132\u001B[0m     na_msg \u001B[38;5;241m=\u001B[39m \u001B[38;5;124m\"\u001B[39m\u001B[38;5;124mCannot mask with non-boolean array containing NA / NaN values\u001B[39m\u001B[38;5;124m\"\u001B[39m\n\u001B[0;32m    133\u001B[0m     \u001B[38;5;28;01mif\u001B[39;00m lib\u001B[38;5;241m.\u001B[39mis_bool_array(key_array, skipna\u001B[38;5;241m=\u001B[39m\u001B[38;5;28;01mTrue\u001B[39;00m):\n\u001B[0;32m    134\u001B[0m         \u001B[38;5;66;03m# Don't raise on e.g. [\"A\", \"B\", np.nan], see\u001B[39;00m\n\u001B[0;32m    135\u001B[0m         \u001B[38;5;66;03m#  test_loc_getitem_list_of_labels_categoricalindex_with_na\u001B[39;00m\n\u001B[1;32m--> 136\u001B[0m         \u001B[38;5;28;01mraise\u001B[39;00m \u001B[38;5;167;01mValueError\u001B[39;00m(na_msg)\n\u001B[0;32m    137\u001B[0m     \u001B[38;5;28;01mreturn\u001B[39;00m \u001B[38;5;28;01mFalse\u001B[39;00m\n\u001B[0;32m    138\u001B[0m \u001B[38;5;28;01mreturn\u001B[39;00m \u001B[38;5;28;01mTrue\u001B[39;00m\n",
      "\u001B[1;31mValueError\u001B[0m: Cannot mask with non-boolean array containing NA / NaN values"
     ]
    }
   ],
   "execution_count": 16
  },
  {
   "metadata": {
    "ExecuteTime": {
     "end_time": "2024-05-15T19:59:44.826266Z",
     "start_time": "2024-05-15T19:59:44.367175Z"
    }
   },
   "cell_type": "code",
   "source": [
    "df.dropna(inplace=True)\n",
    "df[df['lowercase'].str.contains('trump')]"
   ],
   "id": "97eee68d06dbaf14",
   "outputs": [
    {
     "data": {
      "text/plain": [
       "         headline_id                                              title  \\\n",
       "11                 9  Legal Analyst: It's 'Game Over' if Fani Willis...   \n",
       "46                33  See where the big Trump cases stand in the mon...   \n",
       "95                72  What the Polls Say: No Haley Comeback in South...   \n",
       "100               73  Putin: Biden Better for Russia Than Trump, 'Mo...   \n",
       "110               80  Ex-DOJ Official Says This Chain Of Donald Trum...   \n",
       "...              ...                                                ...   \n",
       "1671561      1127487  Michael Cohen testifies that Trump worried abo...   \n",
       "1671562      1127488  \"Just do it,\" then-candidate Donald Trump alle...   \n",
       "1671573      1127493  Michael Cohen calmly describes Trump's hush mo...   \n",
       "1671578      1127496  Michael Cohen calmly describes Trump's hush mo...   \n",
       "1671632      1127527  Cohen and former CFO Allen Weisselberg mulled ...   \n",
       "\n",
       "                 entity   label    simplified     lowercase  \n",
       "11                Trump     GPE         Trump         trump  \n",
       "46                Trump     GPE         Trump         trump  \n",
       "95                Trump  PERSON         Trump         trump  \n",
       "100               Trump  PERSON         Trump         trump  \n",
       "110      Donald Trump's  PERSON  Donald Trump  donald trump  \n",
       "...                 ...     ...           ...           ...  \n",
       "1671561           Trump  PERSON         Trump         trump  \n",
       "1671562    Donald Trump  PERSON  Donald Trump  donald trump  \n",
       "1671573           Trump  PERSON         Trump         trump  \n",
       "1671578           Trump  PERSON         Trump         trump  \n",
       "1671632           Trump  PERSON         Trump         trump  \n",
       "\n",
       "[56593 rows x 6 columns]"
      ],
      "text/html": [
       "<div>\n",
       "<style scoped>\n",
       "    .dataframe tbody tr th:only-of-type {\n",
       "        vertical-align: middle;\n",
       "    }\n",
       "\n",
       "    .dataframe tbody tr th {\n",
       "        vertical-align: top;\n",
       "    }\n",
       "\n",
       "    .dataframe thead th {\n",
       "        text-align: right;\n",
       "    }\n",
       "</style>\n",
       "<table border=\"1\" class=\"dataframe\">\n",
       "  <thead>\n",
       "    <tr style=\"text-align: right;\">\n",
       "      <th></th>\n",
       "      <th>headline_id</th>\n",
       "      <th>title</th>\n",
       "      <th>entity</th>\n",
       "      <th>label</th>\n",
       "      <th>simplified</th>\n",
       "      <th>lowercase</th>\n",
       "    </tr>\n",
       "  </thead>\n",
       "  <tbody>\n",
       "    <tr>\n",
       "      <th>11</th>\n",
       "      <td>9</td>\n",
       "      <td>Legal Analyst: It's 'Game Over' if Fani Willis...</td>\n",
       "      <td>Trump</td>\n",
       "      <td>GPE</td>\n",
       "      <td>Trump</td>\n",
       "      <td>trump</td>\n",
       "    </tr>\n",
       "    <tr>\n",
       "      <th>46</th>\n",
       "      <td>33</td>\n",
       "      <td>See where the big Trump cases stand in the mon...</td>\n",
       "      <td>Trump</td>\n",
       "      <td>GPE</td>\n",
       "      <td>Trump</td>\n",
       "      <td>trump</td>\n",
       "    </tr>\n",
       "    <tr>\n",
       "      <th>95</th>\n",
       "      <td>72</td>\n",
       "      <td>What the Polls Say: No Haley Comeback in South...</td>\n",
       "      <td>Trump</td>\n",
       "      <td>PERSON</td>\n",
       "      <td>Trump</td>\n",
       "      <td>trump</td>\n",
       "    </tr>\n",
       "    <tr>\n",
       "      <th>100</th>\n",
       "      <td>73</td>\n",
       "      <td>Putin: Biden Better for Russia Than Trump, 'Mo...</td>\n",
       "      <td>Trump</td>\n",
       "      <td>PERSON</td>\n",
       "      <td>Trump</td>\n",
       "      <td>trump</td>\n",
       "    </tr>\n",
       "    <tr>\n",
       "      <th>110</th>\n",
       "      <td>80</td>\n",
       "      <td>Ex-DOJ Official Says This Chain Of Donald Trum...</td>\n",
       "      <td>Donald Trump's</td>\n",
       "      <td>PERSON</td>\n",
       "      <td>Donald Trump</td>\n",
       "      <td>donald trump</td>\n",
       "    </tr>\n",
       "    <tr>\n",
       "      <th>...</th>\n",
       "      <td>...</td>\n",
       "      <td>...</td>\n",
       "      <td>...</td>\n",
       "      <td>...</td>\n",
       "      <td>...</td>\n",
       "      <td>...</td>\n",
       "    </tr>\n",
       "    <tr>\n",
       "      <th>1671561</th>\n",
       "      <td>1127487</td>\n",
       "      <td>Michael Cohen testifies that Trump worried abo...</td>\n",
       "      <td>Trump</td>\n",
       "      <td>PERSON</td>\n",
       "      <td>Trump</td>\n",
       "      <td>trump</td>\n",
       "    </tr>\n",
       "    <tr>\n",
       "      <th>1671562</th>\n",
       "      <td>1127488</td>\n",
       "      <td>\"Just do it,\" then-candidate Donald Trump alle...</td>\n",
       "      <td>Donald Trump</td>\n",
       "      <td>PERSON</td>\n",
       "      <td>Donald Trump</td>\n",
       "      <td>donald trump</td>\n",
       "    </tr>\n",
       "    <tr>\n",
       "      <th>1671573</th>\n",
       "      <td>1127493</td>\n",
       "      <td>Michael Cohen calmly describes Trump's hush mo...</td>\n",
       "      <td>Trump</td>\n",
       "      <td>PERSON</td>\n",
       "      <td>Trump</td>\n",
       "      <td>trump</td>\n",
       "    </tr>\n",
       "    <tr>\n",
       "      <th>1671578</th>\n",
       "      <td>1127496</td>\n",
       "      <td>Michael Cohen calmly describes Trump's hush mo...</td>\n",
       "      <td>Trump</td>\n",
       "      <td>PERSON</td>\n",
       "      <td>Trump</td>\n",
       "      <td>trump</td>\n",
       "    </tr>\n",
       "    <tr>\n",
       "      <th>1671632</th>\n",
       "      <td>1127527</td>\n",
       "      <td>Cohen and former CFO Allen Weisselberg mulled ...</td>\n",
       "      <td>Trump</td>\n",
       "      <td>PERSON</td>\n",
       "      <td>Trump</td>\n",
       "      <td>trump</td>\n",
       "    </tr>\n",
       "  </tbody>\n",
       "</table>\n",
       "<p>56593 rows × 6 columns</p>\n",
       "</div>"
      ]
     },
     "execution_count": 19,
     "metadata": {},
     "output_type": "execute_result"
    }
   ],
   "execution_count": 19
  },
  {
   "metadata": {},
   "cell_type": "code",
   "outputs": [],
   "execution_count": null,
   "source": "",
   "id": "494e1a045eda377f"
  }
 ],
 "metadata": {
  "kernelspec": {
   "display_name": "Python 3",
   "language": "python",
   "name": "python3"
  },
  "language_info": {
   "codemirror_mode": {
    "name": "ipython",
    "version": 2
   },
   "file_extension": ".py",
   "mimetype": "text/x-python",
   "name": "python",
   "nbconvert_exporter": "python",
   "pygments_lexer": "ipython2",
   "version": "2.7.6"
  }
 },
 "nbformat": 4,
 "nbformat_minor": 5
}
