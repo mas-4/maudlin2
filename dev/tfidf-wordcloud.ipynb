{
 "cells": [
  {
   "cell_type": "code",
   "execution_count": 17,
   "id": "initial_id",
   "metadata": {
    "collapsed": true,
    "ExecuteTime": {
     "end_time": "2024-02-19T18:37:22.847420Z",
     "start_time": "2024-02-19T18:37:22.843351Z"
    }
   },
   "source": [
    "from app.models import Session, Article, Agency, Headline\n",
    "import pandas as pd\n",
    "import wordcloud\n",
    "import matplotlib.pyplot as plt\n",
    "import seaborn as sns\n",
    "import nltk\n",
    "import numpy as np"
   ],
   "outputs": []
  },
  {
   "cell_type": "code",
   "source": [
    "s = Session()"
   ],
   "metadata": {
    "collapsed": false,
    "ExecuteTime": {
     "end_time": "2024-02-19T18:23:32.394154Z",
     "start_time": "2024-02-19T18:23:32.392795Z"
    }
   },
   "id": "8ed26ee7164a2f1d",
   "execution_count": 2,
   "outputs": []
  },
  {
   "cell_type": "code",
   "source": [
    "data = s.query(Headline.last_accessed, Headline.title, Headline.comp, Article.url, Agency.name, Agency._bias, Agency._credibility).join(Headline.article).join(Article.agency).all()\n",
    "df = pd.DataFrame(data, columns=['date', 'title', 'comp', 'url', 'name', 'bias', 'credibility'])\n",
    "df['date'] = pd.to_datetime(df['date'])\n",
    "df.head()"
   ],
   "metadata": {
    "collapsed": false,
    "ExecuteTime": {
     "end_time": "2024-02-19T18:26:27.687206Z",
     "start_time": "2024-02-19T18:26:27.570997Z"
    }
   },
   "id": "3e80687654022888",
   "execution_count": 5,
   "outputs": []
  },
  {
   "cell_type": "code",
   "source": [
    "import string\n",
    "nltk.download('stopwords')\n",
    "stopwords = set(nltk.corpus.stopwords.words('english'))\n",
    "include_stopwords = {'dear', 'New York Times', 'Getty Images', 'AP', \"'s\", \"’\", \"``\", \"''\", \"—\", \"–\", \"“\", \"”\", \"‘\", \"’\"}\n",
    "include_stopwords.update(string.punctuation)\n",
    "exclude_stopwords = {'not', 'no', 'nor', 'none', 'neither', 'never', 'nothing', 'nowhere', 'nobody', 'noone', 'nought', 'nay', 'nix', 'nil', 'negatory', 'nay', 'nope', 'nah', 'naw', 'no way', 'no way', 'ago', 'said', 'go'}\n",
    "stopwords |= include_stopwords\n",
    "stopwords -= exclude_stopwords\n",
    "def remove_stop(text):\n",
    "    return [word for word in text if word not in stopwords]\n",
    "\n",
    "POS = ['NN', 'NNS', 'NNP', 'NNPS']\n",
    "\n",
    "def pos_filter(text, pos=POS):\n",
    "    return [word for word, tag in nltk.pos_tag(text) if tag in pos]\n",
    "\n",
    "pipeline = [str.lower, nltk.word_tokenize, pos_filter, remove_stop]\n",
    "def prepare(text, pipeline):\n",
    "    for transform in pipeline:\n",
    "        text = transform(text)\n",
    "    return text"
   ],
   "metadata": {
    "collapsed": false,
    "ExecuteTime": {
     "end_time": "2024-02-19T19:18:02.047898Z",
     "start_time": "2024-02-19T19:18:02.038482Z"
    }
   },
   "id": "1cc7b2a1a9c9320",
   "execution_count": 70,
   "outputs": []
  },
  {
   "cell_type": "code",
   "source": [
    "df['tokens'] = df['title'].apply(prepare, pipeline=pipeline)\n",
    "df.head()"
   ],
   "metadata": {
    "collapsed": false,
    "ExecuteTime": {
     "end_time": "2024-02-19T18:54:04.331473Z",
     "start_time": "2024-02-19T18:53:55.939933Z"
    }
   },
   "id": "4477b3183e3d076d",
   "execution_count": 46,
   "outputs": []
  },
  {
   "cell_type": "code",
   "source": [
    "from collections import Counter\n",
    "def compute_idf(df, column='tokens', preprocess=None, min_df=2):\n",
    "    def update(doc):\n",
    "        tokens = doc if preprocess is None else preprocess(doc)\n",
    "        counter.update(set(tokens))\n",
    "    counter = Counter()\n",
    "    df[column].map(update)\n",
    "    \n",
    "    idf_df = pd.DataFrame.from_dict(counter, orient='index', columns=['df'])\n",
    "    idf_df = idf_df.query('df >= @min_df')\n",
    "    idf_df['idf'] = np.log(len(df) / idf_df['df']) + 0.1\n",
    "    idf_df.index.name = 'token'\n",
    "    return idf_df"
   ],
   "metadata": {
    "collapsed": false,
    "ExecuteTime": {
     "end_time": "2024-02-19T18:54:06.580410Z",
     "start_time": "2024-02-19T18:54:06.578416Z"
    }
   },
   "id": "79d8fa34a92f1abd",
   "execution_count": 47,
   "outputs": []
  },
  {
   "cell_type": "code",
   "source": [
    "idf_df = compute_idf(df)\n",
    "idf_df.head()"
   ],
   "metadata": {
    "collapsed": false,
    "ExecuteTime": {
     "end_time": "2024-02-19T18:54:06.926672Z",
     "start_time": "2024-02-19T18:54:06.912056Z"
    }
   },
   "id": "306720e7e9113b13",
   "execution_count": 48,
   "outputs": []
  },
  {
   "cell_type": "code",
   "source": [
    "def count_words(df, column='tokens', preprocess=None):\n",
    "    def update(doc):\n",
    "        tokens = doc if preprocess is None else preprocess(doc)\n",
    "        counter.update(tokens)\n",
    "    counter = Counter()\n",
    "    df[column].map(update)\n",
    "    freq_df = pd.DataFrame.from_dict(counter, orient='index', columns=['freq'])\n",
    "    freq_df = freq_df[freq_df['freq'] >= freq_df['freq'].min()]\n",
    "    freq_df.index.name = 'token'\n",
    "    return freq_df.sort_values('freq', ascending=False)"
   ],
   "metadata": {
    "collapsed": false,
    "ExecuteTime": {
     "end_time": "2024-02-19T18:54:07.835468Z",
     "start_time": "2024-02-19T18:54:07.820312Z"
    }
   },
   "id": "21f02c36f0c67fde",
   "execution_count": 49,
   "outputs": []
  },
  {
   "cell_type": "code",
   "source": [
    "freq_df = count_words(df)\n",
    "freq_df.head()"
   ],
   "metadata": {
    "collapsed": false,
    "ExecuteTime": {
     "end_time": "2024-02-19T18:54:08.708420Z",
     "start_time": "2024-02-19T18:54:08.700438Z"
    }
   },
   "id": "311981313f56dcb2",
   "execution_count": 50,
   "outputs": []
  },
  {
   "cell_type": "code",
   "source": [
    "freq_df['tfidf'] = freq_df['freq'] * idf_df['idf']\n"
   ],
   "metadata": {
    "collapsed": false,
    "ExecuteTime": {
     "end_time": "2024-02-19T18:54:09.725169Z",
     "start_time": "2024-02-19T18:54:09.718239Z"
    }
   },
   "id": "4c3a967e57ac588f",
   "execution_count": 51,
   "outputs": []
  },
  {
   "cell_type": "code",
   "source": [
    "wc = wordcloud.WordCloud(width=800, height=400, max_words=100, background_color='white').generate_from_frequencies(freq_df['tfidf'])\n",
    "plt.imshow(wc, interpolation='bilinear')"
   ],
   "metadata": {
    "collapsed": false,
    "ExecuteTime": {
     "end_time": "2024-02-19T18:54:10.815743Z",
     "start_time": "2024-02-19T18:54:10.379158Z"
    }
   },
   "id": "429e820ab5a853a3",
   "execution_count": 52,
   "outputs": []
  },
  {
   "cell_type": "code",
   "source": [
    "from textacy.extract import kwic\n",
    "for k in kwic.keyword_in_context(' '.join(df['title']), ' go ', window_width=35):\n",
    "    print(k)\n",
    "    "
   ],
   "metadata": {
    "collapsed": false,
    "ExecuteTime": {
     "end_time": "2024-02-19T19:05:48.877753Z",
     "start_time": "2024-02-19T19:05:48.868543Z"
    }
   },
   "id": "93a5b801eae1899b",
   "execution_count": 65,
   "outputs": []
  },
  {
   "cell_type": "code",
   "source": [
    "# Search df title for phrase 'Go to' and show the agency:\n",
    "\n",
    "df[df['title'].str.contains('go to item', case=False, na=False)]['title']"
   ],
   "metadata": {
    "collapsed": false,
    "ExecuteTime": {
     "end_time": "2024-02-19T19:11:00.476330Z",
     "start_time": "2024-02-19T19:11:00.452778Z"
    }
   },
   "id": "f9aba1e60b3d93b",
   "execution_count": 69,
   "outputs": []
  },
  {
   "cell_type": "code",
   "source": [],
   "metadata": {
    "collapsed": false
   },
   "id": "cdb2d06333265599",
   "execution_count": null,
   "outputs": []
  }
 ],
 "metadata": {
  "kernelspec": {
   "display_name": "Python 3",
   "language": "python",
   "name": "python3"
  },
  "language_info": {
   "codemirror_mode": {
    "name": "ipython",
    "version": 2
   },
   "file_extension": ".py",
   "mimetype": "text/x-python",
   "name": "python",
   "nbconvert_exporter": "python",
   "pygments_lexer": "ipython2",
   "version": "2.7.6"
  }
 },
 "nbformat": 4,
 "nbformat_minor": 5
}
