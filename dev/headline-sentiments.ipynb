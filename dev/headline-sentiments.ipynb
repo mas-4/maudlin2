{
 "cells": [
  {
   "cell_type": "code",
   "execution_count": 1,
   "id": "initial_id",
   "metadata": {
    "collapsed": true,
    "ExecuteTime": {
     "end_time": "2024-02-19T17:07:22.826598Z",
     "start_time": "2024-02-19T17:07:22.361089Z"
    }
   },
   "source": [
    "import pandas as pd\n",
    "import seaborn as sns\n",
    "import matplotlib.pyplot as plt\n",
    "from app.models import Session, Article, Headline, Agency\n",
    "from sqlalchemy import func"
   ],
   "outputs": []
  },
  {
   "cell_type": "code",
   "source": [
    "session = Session()"
   ],
   "metadata": {
    "collapsed": false,
    "ExecuteTime": {
     "end_time": "2024-02-19T17:07:22.827424Z",
     "start_time": "2024-02-19T17:07:22.824974Z"
    }
   },
   "id": "f51b3664d8656a5d",
   "execution_count": 2,
   "outputs": []
  },
  {
   "cell_type": "code",
   "source": [
    "articles = session.query(Article).join(Headline).group_by(Article.id).having(func.count(Headline.id) >= 3).all()"
   ],
   "metadata": {
    "collapsed": false,
    "ExecuteTime": {
     "end_time": "2024-02-19T17:07:22.870752Z",
     "start_time": "2024-02-19T17:07:22.830873Z"
    }
   },
   "id": "ba75dc548cb4143d",
   "execution_count": 3,
   "outputs": []
  },
  {
   "cell_type": "code",
   "source": [
    "len(articles)"
   ],
   "metadata": {
    "collapsed": false,
    "ExecuteTime": {
     "end_time": "2024-02-19T17:07:22.879804Z",
     "start_time": "2024-02-19T17:07:22.871390Z"
    }
   },
   "id": "11b7d1462f16479f",
   "execution_count": 4,
   "outputs": []
  },
  {
   "cell_type": "code",
   "source": [
    "articles[0].headlines"
   ],
   "metadata": {
    "collapsed": false,
    "ExecuteTime": {
     "end_time": "2024-02-19T17:07:22.886435Z",
     "start_time": "2024-02-19T17:07:22.875751Z"
    }
   },
   "id": "785a0a6438849cb8",
   "execution_count": 5,
   "outputs": []
  },
  {
   "cell_type": "code",
   "source": [
    "articles = list(sorted(articles, key=lambda x: len(x.headlines), reverse=True))"
   ],
   "metadata": {
    "collapsed": false,
    "ExecuteTime": {
     "end_time": "2024-02-19T17:07:23.387457Z",
     "start_time": "2024-02-19T17:07:22.885447Z"
    }
   },
   "id": "306304ccc159b173",
   "execution_count": 6,
   "outputs": []
  },
  {
   "cell_type": "code",
   "source": [
    "articles[0].headlines"
   ],
   "metadata": {
    "collapsed": false,
    "ExecuteTime": {
     "end_time": "2024-02-19T17:07:23.398767Z",
     "start_time": "2024-02-19T17:07:23.391368Z"
    }
   },
   "id": "b3bd071df81ba8ee",
   "execution_count": 7,
   "outputs": []
  },
  {
   "cell_type": "code",
   "source": [
    "article = articles[0]"
   ],
   "metadata": {
    "collapsed": false,
    "ExecuteTime": {
     "end_time": "2024-02-19T17:07:23.399222Z",
     "start_time": "2024-02-19T17:07:23.394692Z"
    }
   },
   "id": "ce0389a0e3972f6",
   "execution_count": 8,
   "outputs": []
  },
  {
   "cell_type": "code",
   "source": [
    "df = pd.DataFrame([{'sentiment': h.headcompound, 'time': h.last_accessed} for h in article.headlines])"
   ],
   "metadata": {
    "collapsed": false,
    "ExecuteTime": {
     "end_time": "2024-02-19T17:07:23.514848Z",
     "start_time": "2024-02-19T17:07:23.397756Z"
    }
   },
   "id": "ef6e09f0b6b242f3",
   "execution_count": 9,
   "outputs": []
  },
  {
   "cell_type": "code",
   "source": [
    "df"
   ],
   "metadata": {
    "collapsed": false,
    "ExecuteTime": {
     "end_time": "2024-02-19T17:07:23.592513Z",
     "start_time": "2024-02-19T17:07:23.584198Z"
    }
   },
   "id": "6a20c8b361c7c8c",
   "execution_count": 10,
   "outputs": []
  },
  {
   "cell_type": "code",
   "source": [
    "sns.lineplot(x='time', y='sentiment', data=df)"
   ],
   "metadata": {
    "collapsed": false,
    "ExecuteTime": {
     "end_time": "2024-02-19T17:07:24.294043Z",
     "start_time": "2024-02-19T17:07:24.286706Z"
    }
   },
   "id": "87252cef21349fb0",
   "execution_count": 11,
   "outputs": []
  },
  {
   "cell_type": "code",
   "source": [
    "changes = []\n",
    "for article in articles:\n",
    "    df = pd.DataFrame([{'title': h.title, 'sentiment': h.headcompound, 'time': h.last_accessed} for h in article.headlines])\n",
    "    if df.sentiment.nunique() > 1:\n",
    "        changes.append(df)"
   ],
   "metadata": {
    "collapsed": false,
    "ExecuteTime": {
     "end_time": "2024-02-19T17:07:24.519880Z",
     "start_time": "2024-02-19T17:07:24.516172Z"
    }
   },
   "id": "c1137ceca457f68a",
   "execution_count": 12,
   "outputs": []
  },
  {
   "cell_type": "code",
   "source": [
    "import matplotlib.dates as mdates\n",
    "sns.lineplot(x='time', y='sentiment', data=changes[0])\n",
    "ax = plt.gca()\n",
    "ax.xaxis.set_major_formatter(mdates.DateFormatter('%H:%M:%S'))\n",
    "plt.xticks(rotation=45)\n",
    "plt.show()"
   ],
   "metadata": {
    "collapsed": false,
    "ExecuteTime": {
     "end_time": "2024-02-19T17:07:24.719673Z",
     "start_time": "2024-02-19T17:07:24.717585Z"
    }
   },
   "id": "6d0988285f7a368c",
   "execution_count": 13,
   "outputs": []
  },
  {
   "cell_type": "code",
   "source": [],
   "metadata": {
    "collapsed": false,
    "ExecuteTime": {
     "end_time": "2024-02-19T17:07:24.925354Z",
     "start_time": "2024-02-19T17:07:24.923022Z"
    }
   },
   "id": "446eeb13b268f3e7",
   "execution_count": 13,
   "outputs": []
  },
  {
   "cell_type": "code",
   "source": [
    "s = session"
   ],
   "metadata": {
    "collapsed": false,
    "ExecuteTime": {
     "end_time": "2024-02-19T17:13:49.706331Z",
     "start_time": "2024-02-19T17:13:49.702036Z"
    }
   },
   "id": "717bea28467ef469",
   "execution_count": 29,
   "outputs": []
  },
  {
   "cell_type": "code",
   "source": [
    "data = s.query(Headline.comp, Headline.last_accessed, Agency._bias)\\\n",
    "    .join(Headline.article).join(Article.agency).all()\n",
    "df = pd.DataFrame(data, columns=['Sentiment', 'Last Accessed', 'Bias'])\n",
    "df['Date'] = pd.to_datetime(df['Last Accessed'])\n",
    "df['PSI'] = df['Sentiment'] * df['Bias']\n",
    "agg = df.set_index('Date').groupby(pd.Grouper(freq='D'))\\\n",
    "    .agg({'Sentiment': ['mean', 'median'], 'PSI': 'mean'}).dropna().reset_index()\n",
    "agg.columns = [' '.join(col).strip() for col in agg.columns.values]\n",
    "agg"
   ],
   "metadata": {
    "collapsed": false,
    "ExecuteTime": {
     "end_time": "2024-02-19T17:30:21.193990Z",
     "start_time": "2024-02-19T17:30:20.975122Z"
    }
   },
   "id": "7cc47b3cf4b07cc3",
   "execution_count": 52,
   "outputs": []
  },
  {
   "cell_type": "code",
   "source": [
    "fig, ax = plt.subplots(2, 2)\n",
    "fig.set_size_inches(10, 8)\n",
    "sns.lineplot(x='Date', y='Sentiment mean', data=agg, ax=ax[0, 0], label='Mean Sentiment')\n",
    "sns.lineplot(x='Date', y='Sentiment median', data=agg, ax=ax[0, 1], label='Median Sentiment')\n",
    "sns.lineplot(x='Date', y='PSI mean', data=agg, ax=ax[1, 0], label='Mean Partisan Sentiment Index')\n",
    "sns.scatterplot(x='PSI mean', y='Sentiment mean', data=agg, ax=ax[1, 1], label='Mean Sentiment vs PSI')\n",
    "for i in range(2):\n",
    "    for j in range(2):\n",
    "        if i == 1 and j == 1:\n",
    "            continue\n",
    "        ax[i, j].xaxis.set_major_formatter(mdates.DateFormatter('%m-%d'))\n",
    "        ax[i, j].set_xticks(ax[i, j].get_xticks()[::2])\n",
    "        ax[i, j].set_xticklabels(ax[i, j].get_xticklabels(), rotation=45)\n",
    "ax[1, 1].set_title('Mean Sentiment vs PSI')\n",
    "plt.tight_layout()"
   ],
   "metadata": {
    "collapsed": false,
    "ExecuteTime": {
     "end_time": "2024-02-19T17:34:15.225115Z",
     "start_time": "2024-02-19T17:34:14.879056Z"
    }
   },
   "id": "dc6071743115f45c",
   "execution_count": 60,
   "outputs": []
  },
  {
   "cell_type": "code",
   "source": [
    "subq = session.query(Headline.article_id).join(Article).group_by(Headline.article_id).having(func.count(Headline.id) > 3).subquery()\n",
    "data = s.query(Headline.last_accessed, Headline.comp, Headline.title, Article.url, Agency.name).join(Headline.article).join(Article.agency).filter(Article.id.in_(subq)).order_by(Headline.last_accessed).all()\n",
    "df = pd.DataFrame(data, columns=['Date', 'Sentiment', 'Title', 'URL', 'Agency'])\n",
    "df"
   ],
   "metadata": {
    "collapsed": false,
    "ExecuteTime": {
     "end_time": "2024-02-19T17:59:22.640642Z",
     "start_time": "2024-02-19T17:59:22.580204Z"
    }
   },
   "id": "a744af4b65bb1cb7",
   "execution_count": 85,
   "outputs": []
  },
  {
   "cell_type": "code",
   "source": [
    "urls = df['URL'].unique()\n",
    "urls"
   ],
   "metadata": {
    "collapsed": false,
    "ExecuteTime": {
     "end_time": "2024-02-19T17:59:22.915967Z",
     "start_time": "2024-02-19T17:59:22.912203Z"
    }
   },
   "id": "b6e9c9cabd3e337c",
   "execution_count": 86,
   "outputs": []
  },
  {
   "cell_type": "code",
   "source": [
    "good_urls = []\n",
    "for url in urls:\n",
    "    if len(df[df['URL'] == urls[6]]['Sentiment'].unique()) > 1:\n",
    "        if df[df['URL'] == urls[6]]['Sentiment'].std() > 0.1:\n",
    "            good_urls.append(url)"
   ],
   "metadata": {
    "collapsed": false,
    "ExecuteTime": {
     "end_time": "2024-02-19T18:03:15.256537Z",
     "start_time": "2024-02-19T18:03:14.489246Z"
    }
   },
   "id": "4711770221061504",
   "execution_count": 94,
   "outputs": []
  },
  {
   "cell_type": "code",
   "source": [
    "len(good_urls)"
   ],
   "metadata": {
    "collapsed": false,
    "ExecuteTime": {
     "end_time": "2024-02-19T18:03:32.624059Z",
     "start_time": "2024-02-19T18:03:32.609017Z"
    }
   },
   "id": "b5b4b1abab5aede5",
   "execution_count": 95,
   "outputs": []
  },
  {
   "cell_type": "code",
   "source": [
    "df[df['URL'] == urls[6]].plot(x='Date', y='Sentiment', kind='scatter')"
   ],
   "metadata": {
    "collapsed": false,
    "ExecuteTime": {
     "end_time": "2024-02-19T18:03:48.915504Z",
     "start_time": "2024-02-19T18:03:48.740858Z"
    }
   },
   "id": "212eb9e8cbc2ebb7",
   "execution_count": 96,
   "outputs": []
  },
  {
   "cell_type": "code",
   "source": [
    "df[df['URL'] == urls[6]]['Title']"
   ],
   "metadata": {
    "collapsed": false,
    "ExecuteTime": {
     "end_time": "2024-02-19T18:04:11.785374Z",
     "start_time": "2024-02-19T18:04:11.781698Z"
    }
   },
   "id": "45e5cc9dd7b3be50",
   "execution_count": 98,
   "outputs": []
  },
  {
   "cell_type": "code",
   "source": [
    "from afinn import Afinn\n",
    "afinn = Afinn()\n",
    "afinn.score(\" China’s coast guard has triggered ‘panic’ in Taiwan. That’s only part of Beijing’s plan \")"
   ],
   "metadata": {
    "collapsed": false,
    "ExecuteTime": {
     "end_time": "2024-02-21T21:56:24.719875Z",
     "start_time": "2024-02-21T21:56:24.690466Z"
    }
   },
   "id": "2135955dd5ad2c1c",
   "execution_count": 2,
   "outputs": []
  },
  {
   "cell_type": "code",
   "source": [],
   "metadata": {
    "collapsed": false
   },
   "id": "cc75f382b8080aa1",
   "execution_count": null,
   "outputs": []
  }
 ],
 "metadata": {
  "kernelspec": {
   "display_name": "Python 3",
   "language": "python",
   "name": "python3"
  },
  "language_info": {
   "codemirror_mode": {
    "name": "ipython",
    "version": 2
   },
   "file_extension": ".py",
   "mimetype": "text/x-python",
   "name": "python",
   "nbconvert_exporter": "python",
   "pygments_lexer": "ipython2",
   "version": "2.7.6"
  }
 },
 "nbformat": 4,
 "nbformat_minor": 5
}
