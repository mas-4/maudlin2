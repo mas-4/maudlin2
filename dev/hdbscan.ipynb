{
 "cells": [
  {
   "cell_type": "code",
   "id": "initial_id",
   "metadata": {
    "collapsed": true,
    "ExecuteTime": {
     "end_time": "2024-04-13T15:31:57.729851Z",
     "start_time": "2024-04-13T15:31:57.260666Z"
    }
   },
   "source": [
    "import numpy as np\n",
    "\n",
    "from app.models import Session, Headline, Article, Agency, Topic\n",
    "import pandas as pd\n",
    "from datetime import datetime as dt, timedelta as td\n",
    "from app.utils.constants import Constants, Country\n",
    "from app.utils.config import Config\n",
    "from sqlalchemy import or_\n",
    "\n",
    "\n",
    "with Session() as s:\n",
    "    headlines = s.query(Headline.processed, Headline.first_accessed, Article.url, Topic.name, Agency.name, Agency._bias)\\\n",
    "        .join(Headline.article).join(Article.agency).join(Article.topic)\\\n",
    "        .filter(\n",
    "            Article.first_accessed > dt.now() - td(days=7),\n",
    "            or_(Agency._country==Country.us.value, Agency.name.in_(Config.exempted_foreign_media))\n",
    "        ).all()\n",
    "topic_df = pd.DataFrame(headlines, columns=['headline', 'date', 'url', 'topic', 'agency', 'bias'])\n",
    "topic_df.head()"
   ],
   "execution_count": 48,
   "outputs": []
  },
  {
   "metadata": {
    "ExecuteTime": {
     "end_time": "2024-04-13T15:31:58.161451Z",
     "start_time": "2024-04-13T15:31:57.729851Z"
    }
   },
   "cell_type": "code",
   "source": [
    "with Session() as s:\n",
    "    headlines = s.query(Headline.processed, Headline.first_accessed, Article.url, Agency.name, Agency._bias)\\\n",
    "        .join(Headline.article).join(Article.agency)\\\n",
    "        .filter(\n",
    "            Article.first_accessed > dt.now() - td(days=7),\n",
    "            or_(Agency._country==Country.us.value, Agency.name.in_(Config.exempted_foreign_media))\n",
    "        ).all()\n",
    "df = pd.DataFrame(headlines, columns=['headline', 'date', 'url', 'agency', 'bias'])"
   ],
   "id": "3992c5fa038f8983",
   "execution_count": 49,
   "outputs": []
  },
  {
   "metadata": {
    "ExecuteTime": {
     "end_time": "2024-04-13T15:31:58.164744Z",
     "start_time": "2024-04-13T15:31:58.161451Z"
    }
   },
   "cell_type": "code",
   "source": "len(df)",
   "id": "d1e3223ffa50d27d",
   "execution_count": 50,
   "outputs": []
  },
  {
   "metadata": {
    "ExecuteTime": {
     "end_time": "2024-04-13T15:31:58.169143Z",
     "start_time": "2024-04-13T15:31:58.165750Z"
    }
   },
   "cell_type": "code",
   "source": [
    "from nltk.stem import WordNetLemmatizer\n",
    "from nltk.corpus import stopwords\n",
    "from nltk.tokenize import word_tokenize\n",
    "import string\n",
    "\n",
    "stop_words = set(stopwords.words('english'))\n",
    "lemmatizer = WordNetLemmatizer()\n",
    "\n",
    "def preprocess(text):\n",
    "    text = text.lower()\n",
    "    text = text.translate(str.maketrans('', '', string.punctuation))\n",
    "    tokens = word_tokenize(text)\n",
    "    return ' '.join([lemmatizer.lemmatize(word) for word in tokens if word not in stop_words])"
   ],
   "id": "96d838073dc279f8",
   "execution_count": 51,
   "outputs": []
  },
  {
   "metadata": {
    "ExecuteTime": {
     "end_time": "2024-04-13T15:34:40.296256Z",
     "start_time": "2024-04-13T15:34:37.069926Z"
    }
   },
   "cell_type": "code",
   "source": [
    "from sklearn.feature_extraction.text import TfidfVectorizer\n",
    "\n",
    "df['processed'] = df['headline'].apply(preprocess)\n",
    "print(len(df))\n",
    "# get the first 3000 samples\n",
    "samples = df.sample(25000)\n",
    "vectorizer = TfidfVectorizer(ngram_range=(1, 2))\n",
    "tfidf_matrix = vectorizer.fit_transform(samples['processed'])\n"
   ],
   "id": "6c9cce703b674f1c",
   "execution_count": 58,
   "outputs": []
  },
  {
   "metadata": {
    "ExecuteTime": {
     "end_time": "2024-04-13T16:05:14.447055Z",
     "start_time": "2024-04-13T16:05:14.007849Z"
    }
   },
   "cell_type": "code",
   "source": [
    "today_df = df[df['date'] > dt.now() - td(days=1)].copy()\n",
    "today_df['processed'] = today_df['headline'].apply(preprocess)\n",
    "# take cosine similarity and drop all headlines without any similarity\n",
    "from sklearn.metrics.pairwise import cosine_similarity\n",
    "cosine_sim = cosine_similarity(tfidf_matrix, vectorizer.transform(today_df['processed']))\n",
    "\n",
    "\n",
    "today_tfidf = vectorizer.transform(today_df['processed'])\n",
    "print(len(today_df))"
   ],
   "id": "c2c53eb2531f927c",
   "execution_count": 70,
   "outputs": []
  },
  {
   "metadata": {
    "ExecuteTime": {
     "end_time": "2024-04-13T16:11:23.339658Z",
     "start_time": "2024-04-13T16:05:44.558620Z"
    }
   },
   "cell_type": "code",
   "source": [
    "from sklearn.decomposition import PCA\n",
    "from sklearn.preprocessing import StandardScaler\n",
    "\n",
    "scaler = StandardScaler()\n",
    "data_scaled = scaler.fit_transform(today_tfidf.toarray())\n",
    "pca = PCA(n_components=0.95)\n",
    "data_pca = pca.fit_transform(data_scaled)\n",
    "print(\"Original shape:\", data_scaled.shape)\n",
    "print(\"Reduced shape:\", data_pca.shape)"
   ],
   "id": "e44293fe1fa75040",
   "execution_count": 72,
   "outputs": []
  },
  {
   "metadata": {
    "ExecuteTime": {
     "end_time": "2024-04-13T16:19:57.508676Z",
     "start_time": "2024-04-13T16:19:56.343361Z"
    }
   },
   "cell_type": "code",
   "source": [
    "import hdbscan\n",
    "today_clusterer = hdbscan.HDBSCAN(min_cluster_size=5, min_samples=5, cluster_selection_epsilon=0.000001, cluster_selection_method='leaf')\n",
    "today_labels = today_clusterer.fit_predict(today_tfidf)\n",
    "today_df['cluster'] = today_labels\n",
    "print(\"Number of clusters:\", len(today_df['cluster'].unique()))"
   ],
   "id": "9898c14e18a2df43",
   "execution_count": 102,
   "outputs": []
  },
  {
   "metadata": {
    "ExecuteTime": {
     "end_time": "2024-04-13T16:19:57.515335Z",
     "start_time": "2024-04-13T16:19:57.509680Z"
    }
   },
   "cell_type": "code",
   "source": [
    "cluster = today_df[today_df['cluster'] == 0]\n",
    "print(len(cluster))\n",
    "cluster"
   ],
   "id": "631106ac7f5ba87b",
   "execution_count": 103,
   "outputs": []
  },
  {
   "metadata": {
    "ExecuteTime": {
     "end_time": "2024-04-13T16:19:57.521710Z",
     "start_time": "2024-04-13T16:19:57.515335Z"
    }
   },
   "cell_type": "code",
   "source": [
    "cluster = today_df[today_df['cluster'] == 1]\n",
    "print(len(cluster))\n",
    "cluster"
   ],
   "id": "49f6980805b5375d",
   "execution_count": 104,
   "outputs": []
  },
  {
   "metadata": {
    "ExecuteTime": {
     "end_time": "2024-04-13T16:19:57.759626Z",
     "start_time": "2024-04-13T16:19:57.753580Z"
    }
   },
   "cell_type": "code",
   "source": [
    "cluster = today_df[today_df['cluster'] == 2]\n",
    "print(len(cluster))\n",
    "cluster"
   ],
   "id": "5c2d278bc8adbd4b",
   "execution_count": 105,
   "outputs": []
  },
  {
   "metadata": {
    "ExecuteTime": {
     "end_time": "2024-04-13T16:18:02.810120Z",
     "start_time": "2024-04-13T16:18:02.803823Z"
    }
   },
   "cell_type": "code",
   "source": [
    "cluster = today_df[today_df['cluster'] == 3]\n",
    "print(len(cluster))\n",
    "cluster"
   ],
   "id": "ed536d9af25ff0",
   "execution_count": 99,
   "outputs": []
  },
  {
   "metadata": {
    "ExecuteTime": {
     "end_time": "2024-04-13T16:18:03.007396Z",
     "start_time": "2024-04-13T16:18:03.000206Z"
    }
   },
   "cell_type": "code",
   "source": [
    "cluster = today_df[today_df['cluster'] == -1]\n",
    "print(len(cluster))\n",
    "cluster"
   ],
   "id": "3690022a9e61ad5a",
   "execution_count": 100,
   "outputs": []
  },
  {
   "metadata": {
    "ExecuteTime": {
     "end_time": "2024-04-13T16:18:03.578539Z",
     "start_time": "2024-04-13T16:18:03.572435Z"
    }
   },
   "cell_type": "code",
   "source": "today_df[today_df['cluster'] == 100]",
   "id": "4975f83be626e644",
   "execution_count": 101,
   "outputs": []
  },
  {
   "metadata": {},
   "cell_type": "code",
   "execution_count": null,
   "source": "",
   "id": "80c515cf93eb3875",
   "outputs": []
  },
  {
   "metadata": {},
   "cell_type": "code",
   "execution_count": null,
   "source": "",
   "id": "b4a1e0a8fa7e2c83",
   "outputs": []
  },
  {
   "metadata": {},
   "cell_type": "code",
   "execution_count": null,
   "source": "",
   "id": "5ece34482183a983",
   "outputs": []
  },
  {
   "metadata": {
    "ExecuteTime": {
     "end_time": "2024-04-13T14:57:08.676321Z",
     "start_time": "2024-04-13T14:57:08.468589Z"
    }
   },
   "cell_type": "code",
   "source": [
    "from sklearn.metrics.pairwise import cosine_similarity\n",
    "\n",
    "cosine_sim = cosine_similarity(today_tfidf, today_tfidf)"
   ],
   "id": "3fdfb68073e13460",
   "execution_count": 11,
   "outputs": []
  },
  {
   "metadata": {
    "ExecuteTime": {
     "end_time": "2024-04-13T14:57:19.972414Z",
     "start_time": "2024-04-13T14:57:08.677333Z"
    }
   },
   "cell_type": "code",
   "source": [
    "import pandas as pd\n",
    "sim_df = pd.DataFrame(cosine_sim, index=today_df.index, columns=today_df.index)\n",
    "np.fill_diagonal(sim_df.values, 0)\n",
    "top_indices = pd.DataFrame(sim_df.unstack(), columns=['cosine_sim'])\n",
    "pairs = top_indices.sort_values(by='cosine_sim', ascending=False)\n",
    "pairs = pairs[pairs['cosine_sim'] > 0.05]"
   ],
   "id": "a54682a08d78a117",
   "execution_count": 12,
   "outputs": []
  },
  {
   "metadata": {
    "ExecuteTime": {
     "end_time": "2024-04-13T14:58:56.030194Z",
     "start_time": "2024-04-13T14:57:19.972414Z"
    }
   },
   "cell_type": "code",
   "source": [
    "pairs['headline1'] = pairs.index.map(lambda x: df.iloc[x[0]]['headline'])\n",
    "pairs['headline2'] = pairs.index.map(lambda x: df.iloc[x[1]]['headline'])\n",
    "pairs"
   ],
   "id": "9a671ad9b603d9c1",
   "execution_count": 13,
   "outputs": []
  },
  {
   "metadata": {
    "ExecuteTime": {
     "end_time": "2024-04-13T14:58:56.082442Z",
     "start_time": "2024-04-13T14:58:56.030194Z"
    }
   },
   "cell_type": "code",
   "source": "len(pairs[pairs['cosine_sim'] > 0.05])",
   "id": "f55491118f3cedcf",
   "execution_count": 14,
   "outputs": []
  },
  {
   "metadata": {
    "ExecuteTime": {
     "end_time": "2024-04-13T14:58:56.115441Z",
     "start_time": "2024-04-13T14:58:56.082442Z"
    }
   },
   "cell_type": "code",
   "source": "pairs[pairs['cosine_sim'] < 0.1]",
   "id": "674dff6197a78594",
   "execution_count": 15,
   "outputs": []
  },
  {
   "metadata": {},
   "cell_type": "code",
   "execution_count": null,
   "source": "",
   "id": "f552af9bf59bfb75",
   "outputs": []
  }
 ],
 "metadata": {
  "kernelspec": {
   "display_name": "Python 3",
   "language": "python",
   "name": "python3"
  },
  "language_info": {
   "codemirror_mode": {
    "name": "ipython",
    "version": 2
   },
   "file_extension": ".py",
   "mimetype": "text/x-python",
   "name": "python",
   "nbconvert_exporter": "python",
   "pygments_lexer": "ipython2",
   "version": "2.7.6"
  }
 },
 "nbformat": 4,
 "nbformat_minor": 5
}
