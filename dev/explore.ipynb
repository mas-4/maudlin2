{
 "cells": [
  {
   "cell_type": "code",
   "execution_count": 5,
   "id": "initial_id",
   "metadata": {
    "collapsed": true,
    "ExecuteTime": {
     "end_time": "2024-02-24T18:05:52.048697Z",
     "start_time": "2024-02-24T18:05:51.804212Z"
    }
   },
   "outputs": [],
   "source": [
    "from app.models import Session, Article, Agency, Headline\n",
    "import pandas as pd"
   ]
  },
  {
   "cell_type": "code",
   "outputs": [],
   "source": [
    "s = Session()"
   ],
   "metadata": {
    "collapsed": false,
    "ExecuteTime": {
     "end_time": "2024-02-24T18:11:45.676019Z",
     "start_time": "2024-02-24T18:11:45.673207Z"
    }
   },
   "id": "d70f630ace6963e6",
   "execution_count": 21
  },
  {
   "cell_type": "code",
   "outputs": [
    {
     "data": {
      "text/plain": "Agency(id=26, name='Foreign Policy', url='https://foreignpolicy.com/')"
     },
     "execution_count": 22,
     "metadata": {},
     "output_type": "execute_result"
    }
   ],
   "source": [
    "a = s.query(Agency).filter(Agency.name=='Foreign Policy').first()\n",
    "a"
   ],
   "metadata": {
    "collapsed": false,
    "ExecuteTime": {
     "end_time": "2024-02-24T18:11:45.921378Z",
     "start_time": "2024-02-24T18:11:45.916059Z"
    }
   },
   "id": "c392da860206264d",
   "execution_count": 22
  },
  {
   "cell_type": "code",
   "outputs": [
    {
     "data": {
      "text/plain": "[Article(id=41, agency='Foreign Policy', url='https://foreignpolicy.com/2023/12/31/books-new-releases-foreign-policy-international-relations-global-affairs-history-2024/'),\n Article(id=86, agency='Foreign Policy', url='https://foreignpolicy.com/2024/02/12/poland-abortion-rights-pro-choice-election-coalition-pis-law-ban/'),\n Article(id=131, agency='Foreign Policy', url='https://foreignpolicy.com/2020/06/19/why-race-matters-international-relations-ir/'),\n Article(id=176, agency='Foreign Policy', url='https://foreignpolicy.com/2024/02/16/alexei-navalny-dead-obituary-russia-putin-opposition-prison-penal-colony/?tpcc=recirc_latest062921'),\n Article(id=220, agency='Foreign Policy', url='https://foreignpolicy.com/2024/01/03/2024-elections-ai-tech-social-media-disinformation/'),\n Article(id=265, agency='Foreign Policy', url='https://foreignpolicy.com/2024/02/16/us-israel-gaza-conditional-aid-diplomacy/?tpcc=recirc_latest062921'),\n Article(id=309, agency='Foreign Policy', url='https://foreignpolicy.com/2024/02/12/trump-nato-comments-europe-2024/'),\n Article(id=352, agency='Foreign Policy', url='https://foreignpolicy.com/2024/02/16/latin-america-economics-democracy-west-report-nearshoring-china/'),\n Article(id=396, agency='Foreign Policy', url='https://foreignpolicy.com/2024/02/14/ukraines-struggle-to-survive-without-u-s-aid/'),\n Article(id=440, agency='Foreign Policy', url='https://foreignpolicy.com/2024/02/07/china-trump-biden-us-presidential-election-2024/'),\n Article(id=483, agency='Foreign Policy', url='https://foreignpolicy.com/2024/02/13/imf-gita-gopinath-us-economy-china-russia/'),\n Article(id=525, agency='Foreign Policy', url='https://foreignpolicy.com/2024/02/16/does-the-united-states-need-a-new-ukraine-strategy/'),\n Article(id=567, agency='Foreign Policy', url='https://foreignpolicy.com/2024/02/14/india-navy-red-sea-pirates-shipping/'),\n Article(id=607, agency='Foreign Policy', url='https://foreignpolicy.com/2024/02/07/james-stavridis-us-iran-proxies-middle-east-strikes-news/'),\n Article(id=646, agency='Foreign Policy', url='https://foreignpolicy.com/2023/12/28/geopolitics-strategy-eurasia-autocracies-democracies-china-russia-us-putin-xi/'),\n Article(id=686, agency='Foreign Policy', url='https://foreignpolicy.com/2022/02/01/black-history-foreign-policy-international-relations/'),\n Article(id=724, agency='Foreign Policy', url='https://foreignpolicy.com/2024/02/12/us-ukraine-middle-east-taiwan-geopolitics-strategy-conflict-russia-china/'),\n Article(id=764, agency='Foreign Policy', url='https://foreignpolicy.com/2024/01/06/women-cia-spies-intelligence-espionage-us-government-history-valerie-plame/'),\n Article(id=802, agency='Foreign Policy', url='https://foreignpolicy.com/2024/02/14/pakistan-elections-pti-imran-khan-upset-military/'),\n Article(id=841, agency='Foreign Policy', url='https://foreignpolicy.com/2024/02/01/china-decoupling-derisking-technology-sanctions-trade-us-eu-west/'),\n Article(id=875, agency='Foreign Policy', url='https://foreignpolicy.com/2024/01/31/china-israel-hamas-global-south-us-foreign-policy/'),\n Article(id=911, agency='Foreign Policy', url='https://foreignpolicy.com/2024/02/10/germany-far-extreme-right-protests-dresden-bombing-anniversary-world-war-ii/'),\n Article(id=943, agency='Foreign Policy', url='https://foreignpolicy.com/2024/02/16/foreign-policy-news-quiz-trump-nato-comments-pakistan-elections-protests-drc/?tpcc=recirc_latest062921'),\n Article(id=977, agency='Foreign Policy', url='https://foreignpolicy.com/2024/02/15/palestine-demilitarized-israel-postwar/?tpcc=recirc_latest062921'),\n Article(id=1008, agency='Foreign Policy', url='https://foreignpolicy.com/2024/02/14/biden-middle-east-plan-gaza-hamas-israel-netanyahu/'),\n Article(id=1040, agency='Foreign Policy', url='https://foreignpolicy.com/2024/02/11/nauru-deep-sea-mining-economy-china-taiwan/'),\n Article(id=1072, agency='Foreign Policy', url='https://foreignpolicy.com/2024/02/11/revolutionary-spring-christopher-clark-history-1848-turning-point-europe/'),\n Article(id=1103, agency='Foreign Policy', url='https://foreignpolicy.com/2024/02/06/russia-ukraine-taiwan-china-invasion-poll-us-experts-academics/'),\n Article(id=1134, agency='Foreign Policy', url='https://foreignpolicy.com/2024/02/16/india-uttarakhand-ucc-bill-modi-bjp-religion/?tpcc=recirc_latest062921'),\n Article(id=1194, agency='Foreign Policy', url='https://foreignpolicy.com/2023/12/20/patrice-lumumba-cia-eisenhower-belgium-assassination/'),\n Article(id=1222, agency='Foreign Policy', url='https://foreignpolicy.com/2024/02/10/frantz-fanon-book-decolonization-history-colonialism-algerian-revolution/'),\n Article(id=1250, agency='Foreign Policy', url='https://foreignpolicy.com/2024/02/04/china-war-military-taiwan-us-asia-xi-escalation-crisis/'),\n Article(id=1280, agency='Foreign Policy', url='https://foreignpolicy.com/2024/02/14/gaza-war-israel-civilian-deaths-urban-warfare-hamas/'),\n Article(id=1308, agency='Foreign Policy', url='https://foreignpolicy.com/2024/02/14/biden-gaza-israel-hamas-black-voters/'),\n Article(id=1337, agency='Foreign Policy', url='https://foreignpolicy.com/2024/02/03/review-ramon-pacheco-pardo-scott-snyder-south-korea-us-strategy-alliance-geopolitics/'),\n Article(id=1363, agency='Foreign Policy', url='https://foreignpolicy.com/2024/02/13/us-election-trump-biden-politics-foreign-policy/'),\n Article(id=1392, agency='Foreign Policy', url='https://foreignpolicy.com/2024/01/03/us-elections-2024-trump-biden-policy-diplomacy-china-europe/'),\n Article(id=1418, agency='Foreign Policy', url='https://foreignpolicy.com/2023/12/25/international-books-2023-top-reviews/'),\n Article(id=1445, agency='Foreign Policy', url='https://foreignpolicy.com/2024/02/16/succession-biden-trump-soviet-ussr-democracy/?tpcc=recirc_latest062921'),\n Article(id=1473, agency='Foreign Policy', url='https://foreignpolicy.com/2024/02/06/how-policymakers-should-handle-a-fragmenting-world/'),\n Article(id=1496, agency='Foreign Policy', url='https://foreignpolicy.com/2024/02/14/prabowo-indonesia-election-democracy-jokowi/'),\n Article(id=1521, agency='Foreign Policy', url='https://foreignpolicy.com/2024/02/13/philippines-manila-airport-development-ferdinand-marcos-china-bri/'),\n Article(id=1546, agency='Foreign Policy', url='https://foreignpolicy.com/2024/01/03/nationalism-elections-2024-democracy-liberalism/'),\n Article(id=1569, agency='Foreign Policy', url='https://foreignpolicy.com/2023/12/10/mount-big-little-casears-book-review-wannabe-dictators-johnson-trump/'),\n Article(id=1593, agency='Foreign Policy', url='https://foreignpolicy.com/2024/02/16/indonesia-economy-elections-2024-modernization-program/'),\n Article(id=1616, agency='Foreign Policy', url='https://foreignpolicy.com/2024/01/31/united-states-maternal-mortality-crisis-statistics-health/'),\n Article(id=1638, agency='Foreign Policy', url='https://foreignpolicy.com/2024/02/06/china-stock-market-pessimism-lunar-new-year-economy/'),\n Article(id=1661, agency='Foreign Policy', url='https://foreignpolicy.com/2024/02/16/pakistan-elections-military-imran-khan-pti-discontent-economy/'),\n Article(id=1683, agency='Foreign Policy', url='https://foreignpolicy.com/2024/02/16/alexei-navalny-dead-obituary-russia-putin-opposition-prison-penal-colony/'),\n Article(id=1705, agency='Foreign Policy', url='https://foreignpolicy.com/2024/02/14/red-sea-crisis-china-middle-east-strategy-egypt-yemen/'),\n Article(id=1769, agency='Foreign Policy', url='https://foreignpolicy.com/2024/01/07/democrats-socialism-identity-biden-trump/'),\n Article(id=1790, agency='Foreign Policy', url='https://foreignpolicy.com/2024/02/13/javier-milei-policies-libertarian-argentina-economy/'),\n Article(id=1813, agency='Foreign Policy', url='https://foreignpolicy.com/2024/02/13/biden-putin-russia-policy-presidential-elections/'),\n Article(id=1834, agency='Foreign Policy', url='https://foreignpolicy.com/2024/02/10/noorzai-afghanistan-taliban-china-mining-drug-kingpin/'),\n Article(id=1855, agency='Foreign Policy', url='https://foreignpolicy.com/2024/02/03/long-season-tv-review-amazon-prime-china/'),\n Article(id=1902, agency='Foreign Policy', url='https://foreignpolicy.com/2024/02/10/afcon-soccer-football-nigeria-morocco-migration/'),\n Article(id=1922, agency='Foreign Policy', url='https://foreignpolicy.com/2024/02/14/senegal-sall-sonko-wade-election-delay-ecowas/'),\n Article(id=1964, agency='Foreign Policy', url='https://foreignpolicy.com/2024/02/09/biden-doctrine-israel-palestine-middle-east-peace/'),\n Article(id=3056, agency='Foreign Policy', url='https://foreignpolicy.com/2024/02/12/pentagon-diu-doug-beck-austin-china-russia-ukraine/'),\n Article(id=3344, agency='Foreign Policy', url='https://foreignpolicy.com/2024/02/12/pakistan-election-imran-khan-youth-voters-democracy/?tpcc=recirc_trending062921'),\n Article(id=3350, agency='Foreign Policy', url='https://foreignpolicy.com/2024/02/12/us-foreign-policy-bombing-deterrence-north-korea-nuclear-sanctions/?tpcc=recirc_trending062921'),\n Article(id=3515, agency='Foreign Policy', url='https://foreignpolicy.com/2024/02/09/israel-gaza-health-care-hospitals-genocide-icj/?tpcc=recirc_trending062921'),\n Article(id=3518, agency='Foreign Policy', url='https://foreignpolicy.com/2024/02/16/navalny-munich-russia-putin-biden-ukraine-munich-security-conference/?tpcc=recirc_latest062921'),\n Article(id=3525, agency='Foreign Policy', url='https://foreignpolicy.com/2021/03/05/alexei-navalny-amnesty-prisoner-conscience-dissidents-saints/?tpcc=recirc_trending062921'),\n Article(id=3680, agency='Foreign Policy', url='https://foreignpolicy.com/2021/02/10/when-it-comes-to-rwanda-dont-believe-everything-you-see-in-the-movies/?tpcc=recirc_trending062921'),\n Article(id=4068, agency='Foreign Policy', url='https://foreignpolicy.com/2023/11/16/us-russia-china-gaza-ukraine-world-war-defense-security-strategy/?tpcc=recirc_trending062921'),\n Article(id=4245, agency='Foreign Policy', url='https://foreignpolicy.com/2024/02/16/alexei-navalny-death-russia-putin-polar-wolf-prison/?tpcc=recirc_latest062921'),\n Article(id=4350, agency='Foreign Policy', url='https://foreignpolicy.com/2021/03/26/why-is-putin-afraid-of-jehovahs-witnesses/?tpcc=recirc_trending062921'),\n Article(id=4419, agency='Foreign Policy', url='https://foreignpolicy.com/2024/02/13/biden-israel-palestinian-statehood-grand-deal-middle-east-saudi-arabia-gaza-hamas/?tpcc=recirc_trending062921'),\n Article(id=4470, agency='Foreign Policy', url='https://foreignpolicy.com/2021/01/15/far-right-extremism-global-problem-worldwide-solutions/?tpcc=recirc_trending062921'),\n Article(id=4509, agency='Foreign Policy', url='https://foreignpolicy.com/2019/12/06/referendum-ethnic-sidama-throws-a-wrench-in-abiy-ahmed-plans-for-ethiopia/?tpcc=recirc_trending062921'),\n Article(id=4634, agency='Foreign Policy', url='https://foreignpolicy.com/2024/02/12/ai-public-private-partnerships-task-force-nairr/?tpcc=recirc_trending062921'),\n Article(id=4637, agency='Foreign Policy', url='https://foreignpolicy.com/2024/01/30/biden-russia-ukraine-assets-banks-senate/?tpcc=recirc_trending062921'),\n Article(id=4691, agency='Foreign Policy', url='https://foreignpolicy.com/2023/11/22/hamas-gaza-israel-netanyahu-palestine-apartheid-containment-resistance/?tpcc=recirc_trending062921'),\n Article(id=4697, agency='Foreign Policy', url='https://foreignpolicy.com/2023/12/21/red-sea-houthi-attacks-shipping-trade-energy-economy/?tpcc=recirc_trending062921'),\n Article(id=4752, agency='Foreign Policy', url='https://foreignpolicy.com/2023/05/27/machiavelli-democracy-republic-prince-tyranny-authoritarian/?tpcc=recirc_trending062921'),\n Article(id=4753, agency='Foreign Policy', url='https://foreignpolicy.com/2019/10/17/golden-rice-genetically-modified-superfood-almost-saved-millions/?tpcc=recirc_trending062921'),\n Article(id=4823, agency='Foreign Policy', url='https://foreignpolicy.com/2024/02/09/ivalo-nato-finland-border-russia/?tpcc=recirc_trending062921'),\n Article(id=4859, agency='Foreign Policy', url='https://foreignpolicy.com/2024/02/15/munich-security-conference-biden-putin-ukraine-china-trump-presidency/?tpcc=recirc_trending062921'),\n Article(id=4919, agency='Foreign Policy', url='https://foreignpolicy.com/2020/03/14/duterte-quarantine-philippines-coronavirus-lockdown-launches-manila-into-pandemonium/?tpcc=recirc_trending062921'),\n Article(id=4920, agency='Foreign Policy', url='https://foreignpolicy.com/2023/10/05/usa-china-multipolar-bipolar-unipolar/?tpcc=recirc_trending062921'),\n Article(id=4987, agency='Foreign Policy', url='https://foreignpolicy.com/2024/02/08/chips-act-us-eu-ttc-china-japan-germany-tsmc-intel/?tpcc=recirc_trending062921'),\n Article(id=4997, agency='Foreign Policy', url='https://foreignpolicy.com/2023/11/05/russia-ukraine-empire-imperialism-war/?tpcc=recirc_trending062921'),\n Article(id=4998, agency='Foreign Policy', url='https://foreignpolicy.com/2023/10/22/israel-hamas-war-books-about-palestinians-gaza-history-conflict/?tpcc=recirc_trending062921'),\n Article(id=4999, agency='Foreign Policy', url='https://foreignpolicy.com/2024/01/20/url-red-sea-houthis-china-belt-road-suez-trade-corridors/?tpcc=recirc_trending062921'),\n Article(id=5001, agency='Foreign Policy', url='https://foreignpolicy.com/2023/11/13/russia-sanctions-evasion-oil-revenue-ukraine-war/?tpcc=recirc_trending062921'),\n Article(id=5049, agency='Foreign Policy', url='https://foreignpolicy.com/2021/03/09/ethiopia-tigray-conflict-united-nations-undp-memo-atrocities-ethnic-cleansing-allegations/?tpcc=recirc_trending062921'),\n Article(id=5083, agency='Foreign Policy', url='https://foreignpolicy.com/2024/02/17/ukraine-art-culture-war-history/?tpcc=recirc_latest062921'),\n Article(id=5162, agency='Foreign Policy', url='https://foreignpolicy.com/2024/02/17/world-safe-for-commerce-review-dale-copeland-economics-history-great-power-foreign-policy__trashed/?tpcc=recirc_latest062921'),\n Article(id=5333, agency='Foreign Policy', url='https://foreignpolicy.com/2024/02/17/ukraine-art-culture-war-history/?tpcc=recirc_trending062921'),\n Article(id=5799, agency='Foreign Policy', url='https://foreignpolicy.com/2022/07/26/misperception-security-dilemma-ir-theory-russia-ukraine/?tpcc=recirc_trending062921')]"
     },
     "execution_count": 23,
     "metadata": {},
     "output_type": "execute_result"
    }
   ],
   "source": [
    "a.articles.all()"
   ],
   "metadata": {
    "collapsed": false,
    "ExecuteTime": {
     "end_time": "2024-02-24T18:11:46.594230Z",
     "start_time": "2024-02-24T18:11:46.583162Z"
    }
   },
   "id": "a0a261aeacb02e81",
   "execution_count": 23
  },
  {
   "cell_type": "code",
   "outputs": [
    {
     "data": {
      "text/plain": "                                             headline  \\\n0                  The Most Anticipated Books of 2024   \n1     Will Poland’s New Government Legalize Abortion?   \n2         Why Race Matters in International Relations   \n3   Alexei Navalny Wanted to Make Russia a ‘Normal...   \n4                        What AI Will Do to Elections   \n..                                                ...   \n87  UNDP Memo Echoes Ethiopian Talking Points on T...   \n88                               Ukraine’s War of Art   \n89  When Economics and Great-Power Foreign Policy ...   \n90                               Ukraine's War of Art   \n91  Does Anyone Still Understand the ‘Security Dil...   \n\n                                                  url   vader  afinn  \\\n0   https://foreignpolicy.com/2023/12/31/books-new...  0.0000    0.0   \n1   https://foreignpolicy.com/2024/02/12/poland-ab...  0.0000    0.0   \n2   https://foreignpolicy.com/2020/06/19/why-race-...  0.0258    1.0   \n3   https://foreignpolicy.com/2024/02/16/alexei-na...  0.0000    0.0   \n4   https://foreignpolicy.com/2024/01/03/2024-elec...  0.0000    0.0   \n..                                                ...     ...    ...   \n87  https://foreignpolicy.com/2021/03/09/ethiopia-...  0.0000    0.0   \n88  https://foreignpolicy.com/2024/02/17/ukraine-a... -0.5994   -2.0   \n89  https://foreignpolicy.com/2024/02/17/world-saf... -0.0772    2.0   \n90  https://foreignpolicy.com/2024/02/17/ukraine-a... -0.5994   -2.0   \n91  https://foreignpolicy.com/2022/07/26/mispercep...  0.0000   -1.0   \n\n        first_accessed  \n0  2024-02-16 20:07:48  \n1  2024-02-16 20:07:52  \n2  2024-02-16 20:07:55  \n3  2024-02-16 20:07:57  \n4  2024-02-16 20:12:06  \n..                 ...  \n87 2024-02-17 11:00:29  \n88 2024-02-17 11:10:23  \n89 2024-02-17 12:10:20  \n90 2024-02-17 13:10:19  \n91 2024-02-17 14:10:25  \n\n[92 rows x 5 columns]",
      "text/html": "<div>\n<style scoped>\n    .dataframe tbody tr th:only-of-type {\n        vertical-align: middle;\n    }\n\n    .dataframe tbody tr th {\n        vertical-align: top;\n    }\n\n    .dataframe thead th {\n        text-align: right;\n    }\n</style>\n<table border=\"1\" class=\"dataframe\">\n  <thead>\n    <tr style=\"text-align: right;\">\n      <th></th>\n      <th>headline</th>\n      <th>url</th>\n      <th>vader</th>\n      <th>afinn</th>\n      <th>first_accessed</th>\n    </tr>\n  </thead>\n  <tbody>\n    <tr>\n      <th>0</th>\n      <td>The Most Anticipated Books of 2024</td>\n      <td>https://foreignpolicy.com/2023/12/31/books-new...</td>\n      <td>0.0000</td>\n      <td>0.0</td>\n      <td>2024-02-16 20:07:48</td>\n    </tr>\n    <tr>\n      <th>1</th>\n      <td>Will Poland’s New Government Legalize Abortion?</td>\n      <td>https://foreignpolicy.com/2024/02/12/poland-ab...</td>\n      <td>0.0000</td>\n      <td>0.0</td>\n      <td>2024-02-16 20:07:52</td>\n    </tr>\n    <tr>\n      <th>2</th>\n      <td>Why Race Matters in International Relations</td>\n      <td>https://foreignpolicy.com/2020/06/19/why-race-...</td>\n      <td>0.0258</td>\n      <td>1.0</td>\n      <td>2024-02-16 20:07:55</td>\n    </tr>\n    <tr>\n      <th>3</th>\n      <td>Alexei Navalny Wanted to Make Russia a ‘Normal...</td>\n      <td>https://foreignpolicy.com/2024/02/16/alexei-na...</td>\n      <td>0.0000</td>\n      <td>0.0</td>\n      <td>2024-02-16 20:07:57</td>\n    </tr>\n    <tr>\n      <th>4</th>\n      <td>What AI Will Do to Elections</td>\n      <td>https://foreignpolicy.com/2024/01/03/2024-elec...</td>\n      <td>0.0000</td>\n      <td>0.0</td>\n      <td>2024-02-16 20:12:06</td>\n    </tr>\n    <tr>\n      <th>...</th>\n      <td>...</td>\n      <td>...</td>\n      <td>...</td>\n      <td>...</td>\n      <td>...</td>\n    </tr>\n    <tr>\n      <th>87</th>\n      <td>UNDP Memo Echoes Ethiopian Talking Points on T...</td>\n      <td>https://foreignpolicy.com/2021/03/09/ethiopia-...</td>\n      <td>0.0000</td>\n      <td>0.0</td>\n      <td>2024-02-17 11:00:29</td>\n    </tr>\n    <tr>\n      <th>88</th>\n      <td>Ukraine’s War of Art</td>\n      <td>https://foreignpolicy.com/2024/02/17/ukraine-a...</td>\n      <td>-0.5994</td>\n      <td>-2.0</td>\n      <td>2024-02-17 11:10:23</td>\n    </tr>\n    <tr>\n      <th>89</th>\n      <td>When Economics and Great-Power Foreign Policy ...</td>\n      <td>https://foreignpolicy.com/2024/02/17/world-saf...</td>\n      <td>-0.0772</td>\n      <td>2.0</td>\n      <td>2024-02-17 12:10:20</td>\n    </tr>\n    <tr>\n      <th>90</th>\n      <td>Ukraine's War of Art</td>\n      <td>https://foreignpolicy.com/2024/02/17/ukraine-a...</td>\n      <td>-0.5994</td>\n      <td>-2.0</td>\n      <td>2024-02-17 13:10:19</td>\n    </tr>\n    <tr>\n      <th>91</th>\n      <td>Does Anyone Still Understand the ‘Security Dil...</td>\n      <td>https://foreignpolicy.com/2022/07/26/mispercep...</td>\n      <td>0.0000</td>\n      <td>-1.0</td>\n      <td>2024-02-17 14:10:25</td>\n    </tr>\n  </tbody>\n</table>\n<p>92 rows × 5 columns</p>\n</div>"
     },
     "execution_count": 24,
     "metadata": {},
     "output_type": "execute_result"
    }
   ],
   "source": [
    "data = []\n",
    "for article in a.articles.all():\n",
    "    for h in article.headlines:\n",
    "        data.append({\n",
    "            'headline': h.title,\n",
    "            'url': article.url,\n",
    "            'vader': h.vader_compound,\n",
    "            'afinn': h.afinn,\n",
    "            'first_accessed': article.first_accessed\n",
    "        })\n",
    "df = pd.DataFrame(data)\n",
    "df"
   ],
   "metadata": {
    "collapsed": false,
    "ExecuteTime": {
     "end_time": "2024-02-24T18:11:47.930012Z",
     "start_time": "2024-02-24T18:11:47.044483Z"
    }
   },
   "id": "6cf75c4c4401bf7f",
   "execution_count": 24
  },
  {
   "cell_type": "code",
   "outputs": [
    {
     "data": {
      "text/plain": "Empty DataFrame\nColumns: [headline, url, vader, afinn]\nIndex: []",
      "text/html": "<div>\n<style scoped>\n    .dataframe tbody tr th:only-of-type {\n        vertical-align: middle;\n    }\n\n    .dataframe tbody tr th {\n        vertical-align: top;\n    }\n\n    .dataframe thead th {\n        text-align: right;\n    }\n</style>\n<table border=\"1\" class=\"dataframe\">\n  <thead>\n    <tr style=\"text-align: right;\">\n      <th></th>\n      <th>headline</th>\n      <th>url</th>\n      <th>vader</th>\n      <th>afinn</th>\n    </tr>\n  </thead>\n  <tbody>\n  </tbody>\n</table>\n</div>"
     },
     "execution_count": 10,
     "metadata": {},
     "output_type": "execute_result"
    }
   ],
   "source": [
    "df[df['vader'].isna()]"
   ],
   "metadata": {
    "collapsed": false,
    "ExecuteTime": {
     "end_time": "2024-02-24T18:06:37.523544Z",
     "start_time": "2024-02-24T18:06:37.523070Z"
    }
   },
   "id": "ac87b3cbb3d84f14",
   "execution_count": 10
  },
  {
   "cell_type": "code",
   "outputs": [
    {
     "name": "stdout",
     "output_type": "stream",
     "text": [
      "[2024-02-24 13:07:26,296: WARNING] \u001B[33mNo Headline.vader_compound data for Agency(id=26, name='Foreign Policy', url='https://foreignpolicy.com/').\u001B[0m (models.py:45)\n"
     ]
    },
    {
     "name": "stderr",
     "output_type": "stream",
     "text": [
      "/Users/mas/_dev/maudlin2/venv/lib/python3.12/site-packages/numpy/core/fromnumeric.py:3504: RuntimeWarning: Mean of empty slice.\n",
      "  return _methods._mean(a, axis=axis, dtype=dtype,\n",
      "/Users/mas/_dev/maudlin2/venv/lib/python3.12/site-packages/numpy/core/_methods.py:129: RuntimeWarning: invalid value encountered in scalar divide\n",
      "  ret = ret.dtype.type(ret / rcount)\n"
     ]
    },
    {
     "data": {
      "text/plain": "nan"
     },
     "execution_count": 12,
     "metadata": {},
     "output_type": "execute_result"
    }
   ],
   "source": [
    "a.current_vader()"
   ],
   "metadata": {
    "collapsed": false,
    "ExecuteTime": {
     "end_time": "2024-02-24T18:07:26.301388Z",
     "start_time": "2024-02-24T18:07:26.261056Z"
    }
   },
   "id": "a46a5952571f8889",
   "execution_count": 12
  },
  {
   "cell_type": "code",
   "outputs": [
    {
     "data": {
      "text/plain": "datetime.datetime(2024, 2, 16, 20, 7, 48)"
     },
     "execution_count": 15,
     "metadata": {},
     "output_type": "execute_result"
    }
   ],
   "source": [
    "first_date = s.query(Article.first_accessed).filter_by(agency_id=a.id).order_by(Article.first_accessed.asc()).first()[0]\n",
    "first_date"
   ],
   "metadata": {
    "collapsed": false,
    "ExecuteTime": {
     "end_time": "2024-02-24T18:10:11.404389Z",
     "start_time": "2024-02-24T18:10:11.367385Z"
    }
   },
   "id": "93f3523c373e48f6",
   "execution_count": 15
  },
  {
   "cell_type": "code",
   "outputs": [
    {
     "data": {
      "text/plain": "[]"
     },
     "execution_count": 18,
     "metadata": {},
     "output_type": "execute_result"
    }
   ],
   "source": [
    "from datetime import timedelta as td\n",
    "from app.utils import Constants\n",
    "s.query(Headline.vader_compound).join(Article, Article.id == Headline.article_id).filter_by(agency_id=a.id).filter(Article.first_accessed > first_date + td(days=1)).all()"
   ],
   "metadata": {
    "collapsed": false,
    "ExecuteTime": {
     "end_time": "2024-02-24T18:11:12.169233Z",
     "start_time": "2024-02-24T18:11:12.119632Z"
    }
   },
   "id": "c29ac9d6b20b655a",
   "execution_count": 18
  },
  {
   "cell_type": "code",
   "outputs": [],
   "source": [],
   "metadata": {
    "collapsed": false
   },
   "id": "58b432f423dfebe1"
  }
 ],
 "metadata": {
  "kernelspec": {
   "display_name": "Python 3",
   "language": "python",
   "name": "python3"
  },
  "language_info": {
   "codemirror_mode": {
    "name": "ipython",
    "version": 2
   },
   "file_extension": ".py",
   "mimetype": "text/x-python",
   "name": "python",
   "nbconvert_exporter": "python",
   "pygments_lexer": "ipython2",
   "version": "2.7.6"
  }
 },
 "nbformat": 4,
 "nbformat_minor": 5
}
