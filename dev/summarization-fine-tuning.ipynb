{
 "cells": [
  {
   "cell_type": "code",
   "id": "initial_id",
   "metadata": {
    "collapsed": true,
    "ExecuteTime": {
     "end_time": "2024-04-23T20:08:05.238072Z",
     "start_time": "2024-04-23T20:08:03.744603Z"
    }
   },
   "source": [
    "from app.models import Session, Headline, Article, Agency\n",
    "import pandas as pd\n",
    "from datetime import datetime as dt, timedelta as td\n",
    "\n",
    "with Session() as s:\n",
    "    data = s.query(Headline.processed, Headline.first_accessed, Article.url, Agency.name, Agency._bias)\\\n",
    "        .join(Headline.article).join(Article.agency)\\\n",
    "        .filter(Headline.first_accessed > dt.now() - td(hours=12)).all()\n",
    "df = pd.DataFrame(data, columns=['title', 'date', 'url', 'agency', 'bias'])\n",
    "df.head()"
   ],
   "outputs": [
    {
     "name": "stderr",
     "output_type": "stream",
     "text": [
      "[nltk_data] Downloading package vader_lexicon to\n",
      "[nltk_data]     C:\\Users\\malan\\AppData\\Roaming\\nltk_data...\n",
      "[nltk_data]   Package vader_lexicon is already up-to-date!\n",
      "[nltk_data] Downloading package punkt to\n",
      "[nltk_data]     C:\\Users\\malan\\AppData\\Roaming\\nltk_data...\n",
      "[nltk_data]   Package punkt is already up-to-date!\n",
      "[nltk_data] Downloading package averaged_perceptron_tagger to\n",
      "[nltk_data]     C:\\Users\\malan\\AppData\\Roaming\\nltk_data...\n",
      "[nltk_data]   Package averaged_perceptron_tagger is already up-to-\n",
      "[nltk_data]       date!\n",
      "[nltk_data] Downloading package wordnet to\n",
      "[nltk_data]     C:\\Users\\malan\\AppData\\Roaming\\nltk_data...\n",
      "[nltk_data]   Package wordnet is already up-to-date!\n",
      "[nltk_data] Downloading package stopwords to\n",
      "[nltk_data]     C:\\Users\\malan\\AppData\\Roaming\\nltk_data...\n",
      "[nltk_data]   Package stopwords is already up-to-date!\n"
     ]
    },
    {
     "data": {
      "text/plain": [
       "                                               title  \\\n",
       "0  Video captures moment of Israeli bombing in no...   \n",
       "1  Chaotic Scene As NYPD Descends Upon NYU in Rio...   \n",
       "2  Starlink highlights economic security challeng...   \n",
       "3  Mark Hamill has eyebrow-raising opinion on 'th...   \n",
       "4  Pierre Hermé, French chocolatier: 'Learning to...   \n",
       "\n",
       "                        date  \\\n",
       "0 2024-04-23 05:00:02.868398   \n",
       "1 2024-04-23 05:00:02.868398   \n",
       "2 2024-04-23 05:00:02.868398   \n",
       "3 2024-04-23 05:00:02.868398   \n",
       "4 2024-04-23 05:00:02.868398   \n",
       "\n",
       "                                                 url           agency  bias  \n",
       "0  https://www.aljazeera.com/news/liveblog/2024/4...       Al Jazeera    -1  \n",
       "1  https://redstate.com/bobhoge/2024/04/23/nypd-s...        Red State     3  \n",
       "2  https://www.japantimes.co.jp/commentary/2024/0...  The Japan Times     0  \n",
       "3  https://www.theblaze.com/news/mark-hamill-best...        The Blaze     3  \n",
       "4  https://www.lemonde.fr/en/gastronomie/article/...         Le Monde    -1  "
      ],
      "text/html": [
       "<div>\n",
       "<style scoped>\n",
       "    .dataframe tbody tr th:only-of-type {\n",
       "        vertical-align: middle;\n",
       "    }\n",
       "\n",
       "    .dataframe tbody tr th {\n",
       "        vertical-align: top;\n",
       "    }\n",
       "\n",
       "    .dataframe thead th {\n",
       "        text-align: right;\n",
       "    }\n",
       "</style>\n",
       "<table border=\"1\" class=\"dataframe\">\n",
       "  <thead>\n",
       "    <tr style=\"text-align: right;\">\n",
       "      <th></th>\n",
       "      <th>title</th>\n",
       "      <th>date</th>\n",
       "      <th>url</th>\n",
       "      <th>agency</th>\n",
       "      <th>bias</th>\n",
       "    </tr>\n",
       "  </thead>\n",
       "  <tbody>\n",
       "    <tr>\n",
       "      <th>0</th>\n",
       "      <td>Video captures moment of Israeli bombing in no...</td>\n",
       "      <td>2024-04-23 05:00:02.868398</td>\n",
       "      <td>https://www.aljazeera.com/news/liveblog/2024/4...</td>\n",
       "      <td>Al Jazeera</td>\n",
       "      <td>-1</td>\n",
       "    </tr>\n",
       "    <tr>\n",
       "      <th>1</th>\n",
       "      <td>Chaotic Scene As NYPD Descends Upon NYU in Rio...</td>\n",
       "      <td>2024-04-23 05:00:02.868398</td>\n",
       "      <td>https://redstate.com/bobhoge/2024/04/23/nypd-s...</td>\n",
       "      <td>Red State</td>\n",
       "      <td>3</td>\n",
       "    </tr>\n",
       "    <tr>\n",
       "      <th>2</th>\n",
       "      <td>Starlink highlights economic security challeng...</td>\n",
       "      <td>2024-04-23 05:00:02.868398</td>\n",
       "      <td>https://www.japantimes.co.jp/commentary/2024/0...</td>\n",
       "      <td>The Japan Times</td>\n",
       "      <td>0</td>\n",
       "    </tr>\n",
       "    <tr>\n",
       "      <th>3</th>\n",
       "      <td>Mark Hamill has eyebrow-raising opinion on 'th...</td>\n",
       "      <td>2024-04-23 05:00:02.868398</td>\n",
       "      <td>https://www.theblaze.com/news/mark-hamill-best...</td>\n",
       "      <td>The Blaze</td>\n",
       "      <td>3</td>\n",
       "    </tr>\n",
       "    <tr>\n",
       "      <th>4</th>\n",
       "      <td>Pierre Hermé, French chocolatier: 'Learning to...</td>\n",
       "      <td>2024-04-23 05:00:02.868398</td>\n",
       "      <td>https://www.lemonde.fr/en/gastronomie/article/...</td>\n",
       "      <td>Le Monde</td>\n",
       "      <td>-1</td>\n",
       "    </tr>\n",
       "  </tbody>\n",
       "</table>\n",
       "</div>"
      ]
     },
     "execution_count": 1,
     "metadata": {},
     "output_type": "execute_result"
    }
   ],
   "execution_count": 1
  },
  {
   "metadata": {
    "ExecuteTime": {
     "end_time": "2024-04-23T20:08:05.247457Z",
     "start_time": "2024-04-23T20:08:05.239077Z"
    }
   },
   "cell_type": "code",
   "source": [
    "# create separate dataframes for each individual day\n",
    "dfs = [group for _, group in df.groupby(df['date'].dt.date)]\n",
    "dfs[0].head()"
   ],
   "id": "c8ce02469755acce",
   "outputs": [
    {
     "data": {
      "text/plain": [
       "                                               title  \\\n",
       "0  Video captures moment of Israeli bombing in no...   \n",
       "1  Chaotic Scene As NYPD Descends Upon NYU in Rio...   \n",
       "2  Starlink highlights economic security challeng...   \n",
       "3  Mark Hamill has eyebrow-raising opinion on 'th...   \n",
       "4  Pierre Hermé, French chocolatier: 'Learning to...   \n",
       "\n",
       "                        date  \\\n",
       "0 2024-04-23 05:00:02.868398   \n",
       "1 2024-04-23 05:00:02.868398   \n",
       "2 2024-04-23 05:00:02.868398   \n",
       "3 2024-04-23 05:00:02.868398   \n",
       "4 2024-04-23 05:00:02.868398   \n",
       "\n",
       "                                                 url           agency  bias  \n",
       "0  https://www.aljazeera.com/news/liveblog/2024/4...       Al Jazeera    -1  \n",
       "1  https://redstate.com/bobhoge/2024/04/23/nypd-s...        Red State     3  \n",
       "2  https://www.japantimes.co.jp/commentary/2024/0...  The Japan Times     0  \n",
       "3  https://www.theblaze.com/news/mark-hamill-best...        The Blaze     3  \n",
       "4  https://www.lemonde.fr/en/gastronomie/article/...         Le Monde    -1  "
      ],
      "text/html": [
       "<div>\n",
       "<style scoped>\n",
       "    .dataframe tbody tr th:only-of-type {\n",
       "        vertical-align: middle;\n",
       "    }\n",
       "\n",
       "    .dataframe tbody tr th {\n",
       "        vertical-align: top;\n",
       "    }\n",
       "\n",
       "    .dataframe thead th {\n",
       "        text-align: right;\n",
       "    }\n",
       "</style>\n",
       "<table border=\"1\" class=\"dataframe\">\n",
       "  <thead>\n",
       "    <tr style=\"text-align: right;\">\n",
       "      <th></th>\n",
       "      <th>title</th>\n",
       "      <th>date</th>\n",
       "      <th>url</th>\n",
       "      <th>agency</th>\n",
       "      <th>bias</th>\n",
       "    </tr>\n",
       "  </thead>\n",
       "  <tbody>\n",
       "    <tr>\n",
       "      <th>0</th>\n",
       "      <td>Video captures moment of Israeli bombing in no...</td>\n",
       "      <td>2024-04-23 05:00:02.868398</td>\n",
       "      <td>https://www.aljazeera.com/news/liveblog/2024/4...</td>\n",
       "      <td>Al Jazeera</td>\n",
       "      <td>-1</td>\n",
       "    </tr>\n",
       "    <tr>\n",
       "      <th>1</th>\n",
       "      <td>Chaotic Scene As NYPD Descends Upon NYU in Rio...</td>\n",
       "      <td>2024-04-23 05:00:02.868398</td>\n",
       "      <td>https://redstate.com/bobhoge/2024/04/23/nypd-s...</td>\n",
       "      <td>Red State</td>\n",
       "      <td>3</td>\n",
       "    </tr>\n",
       "    <tr>\n",
       "      <th>2</th>\n",
       "      <td>Starlink highlights economic security challeng...</td>\n",
       "      <td>2024-04-23 05:00:02.868398</td>\n",
       "      <td>https://www.japantimes.co.jp/commentary/2024/0...</td>\n",
       "      <td>The Japan Times</td>\n",
       "      <td>0</td>\n",
       "    </tr>\n",
       "    <tr>\n",
       "      <th>3</th>\n",
       "      <td>Mark Hamill has eyebrow-raising opinion on 'th...</td>\n",
       "      <td>2024-04-23 05:00:02.868398</td>\n",
       "      <td>https://www.theblaze.com/news/mark-hamill-best...</td>\n",
       "      <td>The Blaze</td>\n",
       "      <td>3</td>\n",
       "    </tr>\n",
       "    <tr>\n",
       "      <th>4</th>\n",
       "      <td>Pierre Hermé, French chocolatier: 'Learning to...</td>\n",
       "      <td>2024-04-23 05:00:02.868398</td>\n",
       "      <td>https://www.lemonde.fr/en/gastronomie/article/...</td>\n",
       "      <td>Le Monde</td>\n",
       "      <td>-1</td>\n",
       "    </tr>\n",
       "  </tbody>\n",
       "</table>\n",
       "</div>"
      ]
     },
     "execution_count": 2,
     "metadata": {},
     "output_type": "execute_result"
    }
   ],
   "execution_count": 2
  },
  {
   "metadata": {},
   "cell_type": "markdown",
   "source": [
    "from app.analysis.clustering import label_clusters, form_clusters, prepare_cosine\n",
    "\n",
    "for df in dfs:\n",
    "    print(\"Processing\", df['date'].iloc[0])\n",
    "    df = label_clusters(df, form_clusters(prepare_cosine(df['title']), threshold=0.5, min_samples=5))\n",
    "    # merge all headlines in the same cluster\n",
    "    date = df['date'].iloc[0]\n",
    "    df = df[['title', 'cluster']]\n",
    "    df = df.groupby('cluster').agg({'title': ' '.join}).reset_index()\n",
    "    df.to_csv(date.strftime('%Y-%m-%d.csv'), index=False)\n",
    "dfs[0].head()"
   ],
   "id": "2d1aa98cd45a3768"
  },
  {
   "metadata": {},
   "cell_type": "markdown",
   "source": [
    "from transformers import pipeline\n",
    "summarizer = pipeline('summarization', model='facebook/bart-large-cnn')\n",
    "summaries = []\n",
    "for df in dfs:\n",
    "    for key, group in df.groupby('cluster'):\n",
    "        text = '\\n'.join(group['title'])[:1024]\n",
    "        summaries.append([key, text, summarizer(text, min_length=10, max_length=50, do_sample=True)[0]['summary_text']])\n",
    "df = pd.DataFrame(summaries, columns=['cluster', 'text', 'summary'])\n",
    "df.to_csv('summaries.csv', index=False)"
   ],
   "id": "c5ee011a2e1d904"
  },
  {
   "metadata": {
    "ExecuteTime": {
     "end_time": "2024-04-23T20:08:05.256128Z",
     "start_time": "2024-04-23T20:08:05.247457Z"
    }
   },
   "cell_type": "code",
   "source": [
    "df = pd.read_csv('summaries.csv')\n",
    "df.head()"
   ],
   "id": "b416b6bb11af7887",
   "outputs": [
    {
     "data": {
      "text/plain": [
       "   cluster                                               text  \\\n",
       "0        0  European stocks head for positive open despite...   \n",
       "1        1  Mookie Betts and the bullpen lead Dodgers past...   \n",
       "2        2  Former Senator and Florida Governor Bob Graham...   \n",
       "3        3  4 big takeaways from Day 2 of Trump's hush mon...   \n",
       "4        4  Australia's Great Barrier Reef experiencing wo...   \n",
       "\n",
       "                                             summary  \n",
       "0  European stocks head for positive open despite...  \n",
       "1  Mookie Betts tied his career high with five hi...  \n",
       "2  Former U.S. Sen. and two-term Florida Gov. Bob...  \n",
       "3  First 7 jurors for Trump's hush money trial ha...  \n",
       "4  Australia's Great Barrier Reef experiencing wo...  "
      ],
      "text/html": [
       "<div>\n",
       "<style scoped>\n",
       "    .dataframe tbody tr th:only-of-type {\n",
       "        vertical-align: middle;\n",
       "    }\n",
       "\n",
       "    .dataframe tbody tr th {\n",
       "        vertical-align: top;\n",
       "    }\n",
       "\n",
       "    .dataframe thead th {\n",
       "        text-align: right;\n",
       "    }\n",
       "</style>\n",
       "<table border=\"1\" class=\"dataframe\">\n",
       "  <thead>\n",
       "    <tr style=\"text-align: right;\">\n",
       "      <th></th>\n",
       "      <th>cluster</th>\n",
       "      <th>text</th>\n",
       "      <th>summary</th>\n",
       "    </tr>\n",
       "  </thead>\n",
       "  <tbody>\n",
       "    <tr>\n",
       "      <th>0</th>\n",
       "      <td>0</td>\n",
       "      <td>European stocks head for positive open despite...</td>\n",
       "      <td>European stocks head for positive open despite...</td>\n",
       "    </tr>\n",
       "    <tr>\n",
       "      <th>1</th>\n",
       "      <td>1</td>\n",
       "      <td>Mookie Betts and the bullpen lead Dodgers past...</td>\n",
       "      <td>Mookie Betts tied his career high with five hi...</td>\n",
       "    </tr>\n",
       "    <tr>\n",
       "      <th>2</th>\n",
       "      <td>2</td>\n",
       "      <td>Former Senator and Florida Governor Bob Graham...</td>\n",
       "      <td>Former U.S. Sen. and two-term Florida Gov. Bob...</td>\n",
       "    </tr>\n",
       "    <tr>\n",
       "      <th>3</th>\n",
       "      <td>3</td>\n",
       "      <td>4 big takeaways from Day 2 of Trump's hush mon...</td>\n",
       "      <td>First 7 jurors for Trump's hush money trial ha...</td>\n",
       "    </tr>\n",
       "    <tr>\n",
       "      <th>4</th>\n",
       "      <td>4</td>\n",
       "      <td>Australia's Great Barrier Reef experiencing wo...</td>\n",
       "      <td>Australia's Great Barrier Reef experiencing wo...</td>\n",
       "    </tr>\n",
       "  </tbody>\n",
       "</table>\n",
       "</div>"
      ]
     },
     "execution_count": 3,
     "metadata": {},
     "output_type": "execute_result"
    }
   ],
   "execution_count": 3
  },
  {
   "metadata": {
    "ExecuteTime": {
     "end_time": "2024-04-23T20:08:05.781258Z",
     "start_time": "2024-04-23T20:08:05.256128Z"
    }
   },
   "cell_type": "code",
   "source": [
    "from datasets import Dataset\n",
    "\n",
    "dataset = Dataset.from_pandas(df)\n",
    "\n",
    "train_test_split = dataset.train_test_split(test_size=0.1)\n",
    "train_dataset = train_test_split['train']\n",
    "valid_dataset = train_test_split['test']"
   ],
   "id": "77ec3b5dd4bc8d86",
   "outputs": [],
   "execution_count": 4
  },
  {
   "metadata": {
    "ExecuteTime": {
     "end_time": "2024-04-23T20:08:08.526945Z",
     "start_time": "2024-04-23T20:08:05.783264Z"
    }
   },
   "cell_type": "code",
   "source": [
    "from transformers import BartTokenizer\n",
    "\n",
    "tokenizer = BartTokenizer.from_pretrained('facebook/bart-large-cnn')\n",
    "\n",
    "def preprocess_function(examples):\n",
    "    inputs = examples[\"text\"]\n",
    "    targets = examples[\"summary\"]\n",
    "    model_inputs = tokenizer(inputs, max_length=1024, truncation=True, padding=\"max_length\")\n",
    "\n",
    "    # Prepare labels\n",
    "    with tokenizer.as_target_tokenizer():\n",
    "        labels = tokenizer(targets, max_length=128, truncation=True, padding=\"max_length\")\n",
    "\n",
    "    model_inputs[\"labels\"] = [label if label != tokenizer.pad_token_id else -100 for label in labels[\"input_ids\"]]\n",
    "    return model_inputs\n",
    "\n",
    "# Apply the preprocessing function\n",
    "train_dataset = train_dataset.map(preprocess_function, batched=True, remove_columns=['cluster', 'text', 'summary'])\n",
    "valid_dataset = valid_dataset.map(preprocess_function, batched=True, remove_columns=['cluster', 'text', 'summary'])\n",
    "\n"
   ],
   "id": "9a449e6c7be4da19",
   "outputs": [
    {
     "data": {
      "text/plain": [
       "Map:   0%|          | 0/69 [00:00<?, ? examples/s]"
      ],
      "application/vnd.jupyter.widget-view+json": {
       "version_major": 2,
       "version_minor": 0,
       "model_id": "0d2d083c32314ceba10836067ea461ea"
      }
     },
     "metadata": {},
     "output_type": "display_data"
    },
    {
     "name": "stderr",
     "output_type": "stream",
     "text": [
      "C:\\Users\\malan\\Desktop\\_dev\\maudlin2\\venv\\Lib\\site-packages\\transformers\\tokenization_utils_base.py:3935: UserWarning: `as_target_tokenizer` is deprecated and will be removed in v5 of Transformers. You can tokenize your labels by using the argument `text_target` of the regular `__call__` method (either in the same call as your input texts if you use the same keyword arguments, or in a separate call.\n",
      "  warnings.warn(\n"
     ]
    },
    {
     "data": {
      "text/plain": [
       "Map:   0%|          | 0/8 [00:00<?, ? examples/s]"
      ],
      "application/vnd.jupyter.widget-view+json": {
       "version_major": 2,
       "version_minor": 0,
       "model_id": "52b016bf0298421aaf6e92668e05b467"
      }
     },
     "metadata": {},
     "output_type": "display_data"
    }
   ],
   "execution_count": 5
  },
  {
   "metadata": {
    "ExecuteTime": {
     "end_time": "2024-04-23T20:08:08.530741Z",
     "start_time": "2024-04-23T20:08:08.527949Z"
    }
   },
   "cell_type": "code",
   "source": "train_dataset",
   "id": "d26d34bb40b8edee",
   "outputs": [
    {
     "data": {
      "text/plain": [
       "Dataset({\n",
       "    features: ['input_ids', 'attention_mask', 'labels'],\n",
       "    num_rows: 69\n",
       "})"
      ]
     },
     "execution_count": 6,
     "metadata": {},
     "output_type": "execute_result"
    }
   ],
   "execution_count": 6
  },
  {
   "metadata": {
    "ExecuteTime": {
     "end_time": "2024-04-23T20:08:10.067348Z",
     "start_time": "2024-04-23T20:08:08.531757Z"
    }
   },
   "cell_type": "code",
   "source": [
    "from transformers import BartForConditionalGeneration\n",
    "\n",
    "model = BartForConditionalGeneration.from_pretrained('facebook/bart-large-cnn')"
   ],
   "id": "65f6cc59d62973a3",
   "outputs": [],
   "execution_count": 7
  },
  {
   "metadata": {
    "ExecuteTime": {
     "end_time": "2024-04-23T20:08:10.093619Z",
     "start_time": "2024-04-23T20:08:10.067348Z"
    }
   },
   "cell_type": "code",
   "source": [
    "import torch\n",
    "\n",
    "# Check if CUDA is available\n",
    "print(\"CUDA available:\", torch.cuda.is_available())\n",
    "\n",
    "# List available CUDA devices\n",
    "if torch.cuda.is_available():\n",
    "    print(\"List of CUDA devices:\", torch.cuda.device_count())\n",
    "    for i in range(torch.cuda.device_count()):\n",
    "        print(f\"Device {i}: {torch.cuda.get_device_name(i)}\")\n"
   ],
   "id": "61c0e14f73d5e2f3",
   "outputs": [
    {
     "name": "stdout",
     "output_type": "stream",
     "text": [
      "CUDA available: True\n",
      "List of CUDA devices: 1\n",
      "Device 0: NVIDIA GeForce RTX 3080\n"
     ]
    }
   ],
   "execution_count": 8
  },
  {
   "metadata": {
    "ExecuteTime": {
     "end_time": "2024-04-23T20:08:10.559943Z",
     "start_time": "2024-04-23T20:08:10.093619Z"
    }
   },
   "cell_type": "code",
   "source": [
    "from transformers import Trainer, TrainingArguments\n",
    "\n",
    "training_args = TrainingArguments(\n",
    "    output_dir='./results',          # output directory\n",
    "    num_train_epochs=3,              # total number of training epochs\n",
    "    per_device_train_batch_size=2,  # batch size per device during training\n",
    "    per_device_eval_batch_size=2,   # batch size for evaluation\n",
    "    warmup_steps=500,                # number of warmup steps for learning rate scheduler\n",
    "    weight_decay=0.01,               # strength of weight decay\n",
    "    logging_dir='./logs',            # directory for storing logs\n",
    "    logging_steps=10,\n",
    "    evaluation_strategy='steps',\n",
    "    eval_steps=10,\n",
    "    save_strategy='steps',\n",
    "    save_steps=500,\n",
    "    load_best_model_at_end=True,\n",
    ")\n",
    "\n",
    "trainer = Trainer(\n",
    "    model=model,                         # the instantiated 🤗 Transformers model to be trained\n",
    "    args=training_args,                  # training arguments, defined above\n",
    "    train_dataset=train_dataset,         # training dataset\n",
    "    eval_dataset=valid_dataset           # evaluation dataset\n",
    ")"
   ],
   "id": "5230f0be5ac503de",
   "outputs": [
    {
     "name": "stderr",
     "output_type": "stream",
     "text": [
      "C:\\Users\\malan\\Desktop\\_dev\\maudlin2\\venv\\Lib\\site-packages\\accelerate\\accelerator.py:436: FutureWarning: Passing the following arguments to `Accelerator` is deprecated and will be removed in version 1.0 of Accelerate: dict_keys(['dispatch_batches', 'split_batches', 'even_batches', 'use_seedable_sampler']). Please pass an `accelerate.DataLoaderConfiguration` instead: \n",
      "dataloader_config = DataLoaderConfiguration(dispatch_batches=None, split_batches=False, even_batches=True, use_seedable_sampler=True)\n",
      "  warnings.warn(\n"
     ]
    }
   ],
   "execution_count": 9
  },
  {
   "metadata": {
    "ExecuteTime": {
     "end_time": "2024-04-23T20:10:57.312067Z",
     "start_time": "2024-04-23T20:08:10.559943Z"
    }
   },
   "cell_type": "code",
   "source": "trainer.train()",
   "id": "6de482fc71e5318b",
   "outputs": [
    {
     "name": "stderr",
     "output_type": "stream",
     "text": [
      "C:\\Users\\malan\\Desktop\\_dev\\maudlin2\\venv\\Lib\\site-packages\\transformers\\models\\bart\\modeling_bart.py:590: UserWarning: 1Torch was not compiled with flash attention. (Triggered internally at ..\\aten\\src\\ATen\\native\\transformers\\cuda\\sdp_utils.cpp:263.)\n",
      "  attn_output = torch.nn.functional.scaled_dot_product_attention(\n"
     ]
    },
    {
     "data": {
      "text/plain": [
       "<IPython.core.display.HTML object>"
      ],
      "text/html": [
       "\n",
       "    <div>\n",
       "      \n",
       "      <progress value='105' max='105' style='width:300px; height:20px; vertical-align: middle;'></progress>\n",
       "      [105/105 02:46, Epoch 3/3]\n",
       "    </div>\n",
       "    <table border=\"1\" class=\"dataframe\">\n",
       "  <thead>\n",
       " <tr style=\"text-align: left;\">\n",
       "      <th>Step</th>\n",
       "      <th>Training Loss</th>\n",
       "      <th>Validation Loss</th>\n",
       "    </tr>\n",
       "  </thead>\n",
       "  <tbody>\n",
       "    <tr>\n",
       "      <td>10</td>\n",
       "      <td>9.799100</td>\n",
       "      <td>9.027433</td>\n",
       "    </tr>\n",
       "    <tr>\n",
       "      <td>20</td>\n",
       "      <td>8.856400</td>\n",
       "      <td>8.129132</td>\n",
       "    </tr>\n",
       "    <tr>\n",
       "      <td>30</td>\n",
       "      <td>8.105200</td>\n",
       "      <td>7.168039</td>\n",
       "    </tr>\n",
       "    <tr>\n",
       "      <td>40</td>\n",
       "      <td>6.597400</td>\n",
       "      <td>5.579607</td>\n",
       "    </tr>\n",
       "    <tr>\n",
       "      <td>50</td>\n",
       "      <td>4.997000</td>\n",
       "      <td>3.423472</td>\n",
       "    </tr>\n",
       "    <tr>\n",
       "      <td>60</td>\n",
       "      <td>3.054700</td>\n",
       "      <td>1.866109</td>\n",
       "    </tr>\n",
       "    <tr>\n",
       "      <td>70</td>\n",
       "      <td>1.851500</td>\n",
       "      <td>1.139357</td>\n",
       "    </tr>\n",
       "    <tr>\n",
       "      <td>80</td>\n",
       "      <td>1.174000</td>\n",
       "      <td>0.717298</td>\n",
       "    </tr>\n",
       "    <tr>\n",
       "      <td>90</td>\n",
       "      <td>0.785700</td>\n",
       "      <td>0.501656</td>\n",
       "    </tr>\n",
       "    <tr>\n",
       "      <td>100</td>\n",
       "      <td>0.565200</td>\n",
       "      <td>0.374226</td>\n",
       "    </tr>\n",
       "  </tbody>\n",
       "</table><p>"
      ]
     },
     "metadata": {},
     "output_type": "display_data"
    },
    {
     "data": {
      "text/plain": [
       "TrainOutput(global_step=105, training_loss=4.381633009229388, metrics={'train_runtime': 166.647, 'train_samples_per_second': 1.242, 'train_steps_per_second': 0.63, 'total_flos': 448590652637184.0, 'train_loss': 4.381633009229388, 'epoch': 3.0})"
      ]
     },
     "execution_count": 10,
     "metadata": {},
     "output_type": "execute_result"
    }
   ],
   "execution_count": 10
  },
  {
   "metadata": {
    "ExecuteTime": {
     "end_time": "2024-04-23T20:10:58.491751Z",
     "start_time": "2024-04-23T20:10:57.312067Z"
    }
   },
   "cell_type": "code",
   "source": [
    "model.save_pretrained('./fine_tuned_bart')\n",
    "tokenizer.save_pretrained('./fine_tuned_bart')"
   ],
   "id": "4abd16ac0639b7df",
   "outputs": [
    {
     "name": "stderr",
     "output_type": "stream",
     "text": [
      "Some non-default generation parameters are set in the model config. These should go into a GenerationConfig file (https://huggingface.co/docs/transformers/generation_strategies#save-a-custom-decoding-strategy-with-your-model) instead. This warning will be raised to an exception in v4.41.\n",
      "Non-default generation parameters: {'max_length': 142, 'min_length': 56, 'early_stopping': True, 'num_beams': 4, 'length_penalty': 2.0, 'no_repeat_ngram_size': 3, 'forced_bos_token_id': 0, 'forced_eos_token_id': 2}\n"
     ]
    },
    {
     "data": {
      "text/plain": [
       "('./fine_tuned_bart\\\\tokenizer_config.json',\n",
       " './fine_tuned_bart\\\\special_tokens_map.json',\n",
       " './fine_tuned_bart\\\\vocab.json',\n",
       " './fine_tuned_bart\\\\merges.txt',\n",
       " './fine_tuned_bart\\\\added_tokens.json')"
      ]
     },
     "execution_count": 11,
     "metadata": {},
     "output_type": "execute_result"
    }
   ],
   "execution_count": 11
  },
  {
   "metadata": {
    "ExecuteTime": {
     "end_time": "2024-04-23T20:11:01.758497Z",
     "start_time": "2024-04-23T20:10:58.491751Z"
    }
   },
   "cell_type": "code",
   "source": [
    "# evaluate\n",
    "trainer.evaluate()"
   ],
   "id": "96ff529716c56c67",
   "outputs": [
    {
     "data": {
      "text/plain": [
       "<IPython.core.display.HTML object>"
      ],
      "text/html": [
       "\n",
       "    <div>\n",
       "      \n",
       "      <progress value='4' max='4' style='width:300px; height:20px; vertical-align: middle;'></progress>\n",
       "      [4/4 00:02]\n",
       "    </div>\n",
       "    "
      ]
     },
     "metadata": {},
     "output_type": "display_data"
    },
    {
     "data": {
      "text/plain": [
       "<IPython.core.display.HTML object>"
      ],
      "text/html": [
       "\n",
       "    <div>\n",
       "      \n",
       "      <progress value='8' max='4' style='width:300px; height:20px; vertical-align: middle;'></progress>\n",
       "      [4/4 00:05]\n",
       "    </div>\n",
       "    "
      ]
     },
     "metadata": {},
     "output_type": "display_data"
    }
   ],
   "execution_count": 12
  },
  {
   "metadata": {
    "ExecuteTime": {
     "end_time": "2024-04-23T20:11:05.009529Z",
     "start_time": "2024-04-23T20:11:01.759502Z"
    }
   },
   "cell_type": "code",
   "source": "results = trainer.evaluate()",
   "id": "e839d3807a2c902b",
   "outputs": [],
   "execution_count": 13
  },
  {
   "metadata": {
    "ExecuteTime": {
     "end_time": "2024-04-23T20:11:30.985115Z",
     "start_time": "2024-04-23T20:11:30.981210Z"
    }
   },
   "cell_type": "code",
   "source": "results",
   "id": "f284293e4b41d5e5",
   "outputs": [
    {
     "data": {
      "text/plain": [
       "{'eval_loss': 0.3347630798816681,\n",
       " 'eval_runtime': 3.246,\n",
       " 'eval_samples_per_second': 2.465,\n",
       " 'eval_steps_per_second': 1.232,\n",
       " 'epoch': 3.0}"
      ]
     },
     "execution_count": 14,
     "metadata": {},
     "output_type": "execute_result"
    }
   ],
   "execution_count": 14
  },
  {
   "metadata": {},
   "cell_type": "code",
   "outputs": [],
   "execution_count": null,
   "source": "",
   "id": "cbb20e02a178bc0f"
  }
 ],
 "metadata": {
  "kernelspec": {
   "display_name": "Python 3",
   "language": "python",
   "name": "python3"
  },
  "language_info": {
   "codemirror_mode": {
    "name": "ipython",
    "version": 2
   },
   "file_extension": ".py",
   "mimetype": "text/x-python",
   "name": "python",
   "nbconvert_exporter": "python",
   "pygments_lexer": "ipython2",
   "version": "2.7.6"
  }
 },
 "nbformat": 4,
 "nbformat_minor": 5
}
