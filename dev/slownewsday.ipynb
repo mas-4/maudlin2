{
 "cells": [
  {
   "cell_type": "code",
   "id": "initial_id",
   "metadata": {
    "collapsed": true,
    "ExecuteTime": {
     "end_time": "2024-05-18T17:14:37.614733Z",
     "start_time": "2024-05-18T17:14:35.471813Z"
    }
   },
   "source": [
    "from app.models import Session, Headline, Agency, Article\n",
    "from app.utils import Country, Bias, Credibility\n",
    "from app.analysis.clustering import prepare_cosine, form_clusters, label_clusters\n",
    "import pandas as pd"
   ],
   "execution_count": 1,
   "outputs": []
  },
  {
   "metadata": {
    "ExecuteTime": {
     "end_time": "2024-05-18T17:14:44.757886Z",
     "start_time": "2024-05-18T17:14:37.615681Z"
    }
   },
   "cell_type": "code",
   "source": [
    "with Session() as s:\n",
    "    data = s.query(Headline.id, Headline.processed, Headline.first_accessed, Article.url, Agency.name, Agency._country, Agency._bias, Agency._credibility).join(Headline.article).join(Article.agency).all()\n",
    "    df = pd.DataFrame(data, columns=['id', 'headline', 'date', 'url', 'agency', 'country', 'bias', 'credibility'])"
   ],
   "id": "13a1eb9b17de48a4",
   "execution_count": 2,
   "outputs": []
  },
  {
   "metadata": {
    "ExecuteTime": {
     "end_time": "2024-05-18T17:14:44.801592Z",
     "start_time": "2024-05-18T17:14:44.763431Z"
    }
   },
   "cell_type": "code",
   "source": "df.sample(15)",
   "id": "f33133fd97df1671",
   "execution_count": 3,
   "outputs": []
  },
  {
   "metadata": {
    "ExecuteTime": {
     "end_time": "2024-05-18T17:14:45.000411Z",
     "start_time": "2024-05-18T17:14:44.802435Z"
    }
   },
   "cell_type": "code",
   "source": [
    "from app.utils import Config\n",
    "df = df[(df['country'] == Country.us.value) | ((df['country'] == Country.gb.value) & (df['agency'].isin(Config.exempted_foreign_media)))]"
   ],
   "id": "737edde9e55ff119",
   "execution_count": 4,
   "outputs": []
  },
  {
   "metadata": {
    "ExecuteTime": {
     "end_time": "2024-05-18T17:14:45.740694Z",
     "start_time": "2024-05-18T17:14:45.002365Z"
    }
   },
   "cell_type": "code",
   "source": [
    "import pytz\n",
    "# Cast date as utc and then convert it to the NYC eastern\n",
    "df['day'] = df['date'].apply(lambda x: x.date())\n",
    "df.sample(5)"
   ],
   "id": "e0a794b917c1a29e",
   "execution_count": 5,
   "outputs": []
  },
  {
   "metadata": {
    "ExecuteTime": {
     "end_time": "2024-05-18T17:14:48.368510Z",
     "start_time": "2024-05-18T17:14:45.743317Z"
    }
   },
   "cell_type": "code",
   "source": [
    "# SPlit the df into dfs for days\n",
    "dfs = [df[df['day'] == day].copy() for day in df['day'].unique()]\n",
    "dfs[0].head()"
   ],
   "id": "ece30cea2fce9b01",
   "execution_count": 6,
   "outputs": []
  },
  {
   "metadata": {
    "ExecuteTime": {
     "end_time": "2024-05-18T17:15:20.752193Z",
     "start_time": "2024-05-18T17:14:48.369506Z"
    }
   },
   "cell_type": "code",
   "source": [
    "n_samples = 10\n",
    "threshold = 0.5\n",
    "dfs = [label_clusters(df, form_clusters(prepare_cosine(df['headline']), n_samples, 0.5)) for df in dfs]\n",
    "df = pd.concat(dfs)\n",
    "df.sample(5)"
   ],
   "id": "34f3825d4520f39f",
   "execution_count": 7,
   "outputs": []
  },
  {
   "metadata": {
    "ExecuteTime": {
     "end_time": "2024-05-18T17:15:20.904283Z",
     "start_time": "2024-05-18T17:15:20.753455Z"
    }
   },
   "cell_type": "code",
   "source": [
    "# Drop -1's from the cluster column\n",
    "df = df[df['cluster'] != -1]\n",
    "# Combine day and clusterid to get a unique identifier\n",
    "df['clusterid'] = df['day'].astype(str) + df['cluster'].astype(str)\n",
    "\n",
    "# Drop duplicates within each cluster (sometimes an agency will have more than one headline in a cluster)\n",
    "df = df.drop_duplicates(subset=['clusterid', 'agency'])\n",
    "# Drop clusters with less than 10 agencies\n",
    "df = df.groupby('clusterid').filter(lambda x: len(x) >= 10)"
   ],
   "id": "c7f119cba4ea3a68",
   "execution_count": 8,
   "outputs": []
  },
  {
   "metadata": {
    "ExecuteTime": {
     "end_time": "2024-05-18T17:15:20.911076Z",
     "start_time": "2024-05-18T17:15:20.905712Z"
    }
   },
   "cell_type": "code",
   "source": [
    "# Now we want to count entries per day\n",
    "counts = df.groupby('day').size()"
   ],
   "id": "7b1393364eee5c84",
   "execution_count": 9,
   "outputs": []
  },
  {
   "metadata": {
    "ExecuteTime": {
     "end_time": "2024-05-18T17:15:20.914832Z",
     "start_time": "2024-05-18T17:15:20.911857Z"
    }
   },
   "cell_type": "code",
   "source": [
    "# Rename unnamed\n",
    "counts.rename('count', inplace=True)\n",
    "counts.sample(10)"
   ],
   "id": "495b507aa00a9f",
   "execution_count": 10,
   "outputs": []
  },
  {
   "metadata": {
    "ExecuteTime": {
     "end_time": "2024-05-18T17:15:21.487064Z",
     "start_time": "2024-05-18T17:15:20.915486Z"
    }
   },
   "cell_type": "code",
   "source": [
    "import matplotlib.pyplot as plt\n",
    "\n",
    "# Now plot the counts\n",
    "plt.figure(figsize=(10, 5))\n",
    "counts.plot()\n"
   ],
   "id": "8250548dcfc33982",
   "execution_count": 11,
   "outputs": []
  },
  {
   "metadata": {
    "ExecuteTime": {
     "end_time": "2024-05-18T17:15:59.944325Z",
     "start_time": "2024-05-18T17:15:59.933549Z"
    }
   },
   "cell_type": "code",
   "source": [
    "counts = counts.reset_index()\n",
    "counts.sample(10)"
   ],
   "id": "80ace61af40c6fa0",
   "execution_count": 14,
   "outputs": []
  },
  {
   "metadata": {
    "ExecuteTime": {
     "end_time": "2024-05-18T17:16:58.281791Z",
     "start_time": "2024-05-18T17:16:58.188789Z"
    }
   },
   "cell_type": "code",
   "source": [
    "# Let's take the median, then we mark slow and busy news days based on the median\n",
    "median = counts.median()\n",
    "counts['slow'] = counts['count'] < median\n",
    "counts.sample(10)"
   ],
   "id": "19006ab3e4842059",
   "execution_count": 17,
   "outputs": []
  },
  {
   "metadata": {
    "ExecuteTime": {
     "end_time": "2024-05-18T17:17:06.308396Z",
     "start_time": "2024-05-18T17:17:06.302739Z"
    }
   },
   "cell_type": "code",
   "source": "median",
   "id": "9db657bc6c5796be",
   "execution_count": 18,
   "outputs": []
  },
  {
   "metadata": {
    "ExecuteTime": {
     "end_time": "2024-05-18T17:19:20.407798Z",
     "start_time": "2024-05-18T17:19:20.389623Z"
    }
   },
   "cell_type": "code",
   "source": "counts['count']",
   "id": "4f2adb05e98d686e",
   "execution_count": 22,
   "outputs": []
  },
  {
   "metadata": {
    "ExecuteTime": {
     "end_time": "2024-05-18T17:19:56.605305Z",
     "start_time": "2024-05-18T17:19:56.211069Z"
    }
   },
   "cell_type": "code",
   "source": [
    "import pandas as pd\n",
    "\n",
    "# Example DataFrame\n",
    "data = {'count': [1, 2, 3, 4, 5, 6, 7, 8, 9, 10]}\n",
    "counts = pd.DataFrame(data)\n",
    "\n",
    "# Calculate the median\n",
    "median = counts['count'].median()\n",
    "print(\"Median is:\", median)\n",
    "\n",
    "# Create a new column based on the median\n",
    "counts['slow'] = counts['count'] < median\n",
    "\n",
    "# Sample the DataFrame\n",
    "print(counts.sample(10))"
   ],
   "id": "729b67290d87eff7",
   "execution_count": 23,
   "outputs": []
  },
  {
   "metadata": {},
   "cell_type": "code",
   "execution_count": null,
   "source": "",
   "id": "669e47cd3e86e75c",
   "outputs": []
  }
 ],
 "metadata": {
  "kernelspec": {
   "display_name": "Python 3",
   "language": "python",
   "name": "python3"
  },
  "language_info": {
   "codemirror_mode": {
    "name": "ipython",
    "version": 2
   },
   "file_extension": ".py",
   "mimetype": "text/x-python",
   "name": "python",
   "nbconvert_exporter": "python",
   "pygments_lexer": "ipython2",
   "version": "2.7.6"
  }
 },
 "nbformat": 4,
 "nbformat_minor": 5
}
