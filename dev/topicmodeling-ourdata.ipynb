{
 "cells": [
  {
   "cell_type": "code",
   "execution_count": 1,
   "id": "initial_id",
   "metadata": {
    "collapsed": true,
    "ExecuteTime": {
     "end_time": "2024-02-27T20:45:35.320111Z",
     "start_time": "2024-02-27T20:45:33.497606Z"
    }
   },
   "source": [
    "import pandas as pd\n",
    "from app.models import Session, Headline, Article, Agency, Country\n",
    "s = Session()"
   ],
   "outputs": []
  },
  {
   "cell_type": "code",
   "source": [
    "from datetime import datetime\n",
    "# filter only from yesterday\n",
    "headlines = s.query(Headline.title, Agency.name, Agency._bias)\\\n",
    "    .join(Headline.article).join(Article.agency)\\\n",
    "    .filter(Agency._country==Country.us.value,\n",
    "            Headline.first_accessed > datetime(2023, 2, 20)).all()\n",
    "\n",
    "raw = pd.DataFrame(headlines, columns=['title', 'agency', 'bias'])\n",
    "print(raw.shape)\n",
    "raw.head()"
   ],
   "metadata": {
    "collapsed": false,
    "ExecuteTime": {
     "end_time": "2024-02-27T20:45:52.436577Z",
     "start_time": "2024-02-27T20:45:52.236294Z"
    }
   },
   "id": "98b0864c24f6a363",
   "execution_count": 3,
   "outputs": []
  },
  {
   "cell_type": "code",
   "source": [
    "from app.pipelines import prepare, default_pipeline, remove_stop\n",
    "print(default_pipeline)\n",
    "# import stopwords\n",
    "from spacy.lang.en.stop_words import STOP_WORDS as stopwords\n",
    "def strip_stop(text):\n",
    "    return [word for word in text if word not in stopwords]\n",
    "default_pipeline += [strip_stop]"
   ],
   "metadata": {
    "collapsed": false,
    "ExecuteTime": {
     "end_time": "2024-02-27T20:47:02.322758Z",
     "start_time": "2024-02-27T20:47:02.299049Z"
    }
   },
   "id": "52e16abd4218d802",
   "execution_count": 9,
   "outputs": []
  },
  {
   "cell_type": "code",
   "source": [
    "df = raw\n",
    "df['lower'] = df.title.str.lower()\n",
    "biden = df[df.lower.str.contains('biden')]\n",
    "trump = df[df.lower.str.contains('trump')]\n",
    "reduced = pd.concat([biden, trump])\n",
    "len(reduced)\n",
    "df = reduced\n",
    "# drop lines with word 'item'\n",
    "df = df[~df.lower.str.contains('item')]"
   ],
   "metadata": {
    "collapsed": false,
    "ExecuteTime": {
     "end_time": "2024-02-21T23:45:24.914666Z",
     "start_time": "2024-02-21T23:45:24.887101Z"
    }
   },
   "id": "5649b3834d4d321e",
   "execution_count": 24,
   "outputs": []
  },
  {
   "cell_type": "code",
   "source": [
    "df = raw\n",
    "df['clean'] = df.title.apply(prepare, pipeline=default_pipeline)\n",
    "df['cleaned'] = df.clean.map(lambda x: ' '.join(x))\n",
    "df.head()"
   ],
   "metadata": {
    "collapsed": false,
    "ExecuteTime": {
     "end_time": "2024-02-27T20:47:26.818748Z",
     "start_time": "2024-02-27T20:47:23.436480Z"
    }
   },
   "id": "4a192a90822615d",
   "execution_count": 10,
   "outputs": []
  },
  {
   "cell_type": "code",
   "source": [
    "length = len(df)\n",
    "length"
   ],
   "metadata": {
    "collapsed": false,
    "ExecuteTime": {
     "end_time": "2024-02-27T20:48:14.634294Z",
     "start_time": "2024-02-27T20:48:14.631319Z"
    }
   },
   "id": "91384e4b7bf8ed1d",
   "execution_count": 11,
   "outputs": []
  },
  {
   "cell_type": "code",
   "source": [
    "from sklearn.feature_extraction.text import CountVectorizer\n",
    "cv = CountVectorizer(min_df=5, max_df=0.7, ngram_range=(1,3))\n",
    "count_vector = cv.fit_transform(df.cleaned)\n",
    "from sklearn.decomposition import LatentDirichletAllocation\n",
    "# grid search cv\n",
    "from sklearn.model_selection import GridSearchCV\n",
    "portions = [0.3, 0.5, 0.75]\n",
    "search_params = {'n_components': [int(p*length) for p in portions], 'learning_decay': [.5, .7, .9]}"
   ],
   "metadata": {
    "collapsed": false,
    "ExecuteTime": {
     "end_time": "2024-02-27T20:48:48.103663Z",
     "start_time": "2024-02-27T20:48:46.889133Z"
    }
   },
   "id": "789b9ef49bc5f4e",
   "execution_count": 12,
   "outputs": []
  },
  {
   "cell_type": "code",
   "source": [
    "def display_topics(model, feature_names, no_top_words):\n",
    "    for topic, word_vector in enumerate(model.components_):\n",
    "        total = word_vector.sum()\n",
    "        largest = word_vector.argsort()[::-1]\n",
    "        print(\"Topic %02d\" % topic)\n",
    "        for i in range(no_top_words):\n",
    "            print(\"    %s: %.2f\" % (feature_names[largest[i]], word_vector[largest[i]]/total*100.0))\n",
    "           "
   ],
   "metadata": {
    "collapsed": false,
    "ExecuteTime": {
     "end_time": "2024-02-27T20:48:57.487938Z",
     "start_time": "2024-02-27T20:48:57.480856Z"
    }
   },
   "id": "946e78d0f9083d36",
   "execution_count": 13,
   "outputs": []
  },
  {
   "cell_type": "code",
   "source": [
    "lda = LatentDirichletAllocation(n_components=5, random_state=42)\n",
    "search = GridSearchCV(lda, param_grid=search_params, n_jobs=-1)\n",
    "search.fit(count_vector)\n",
    "best_lda = search.best_estimator_\n",
    "display_topics(best_lda, cv.get_feature_names_out(), 10)"
   ],
   "metadata": {
    "collapsed": false,
    "ExecuteTime": {
     "end_time": "2024-02-21T23:45:52.974357Z",
     "start_time": "2024-02-21T23:45:28.546427Z"
    }
   },
   "id": "8e28fc25de85e903",
   "execution_count": 27,
   "outputs": []
  },
  {
   "cell_type": "code",
   "source": [
    "def show_articles(model, feature_names, no_top_words):\n",
    "    for topic, word_vector in enumerate(model.components_):\n",
    "        total = word_vector.sum()\n",
    "        largest = word_vector.argsort()[::-1]\n",
    "        print(\"Topic %02d\" % topic)\n",
    "        for i in range(no_top_words):\n",
    "            print(\"    %s: %.2f\" % (feature_names[largest[i]], word_vector[largest[i]]/total*100.0))\n",
    "            print(\"    \", df[df.topic==topic].title.iloc[i])"
   ],
   "metadata": {
    "collapsed": false,
    "ExecuteTime": {
     "end_time": "2024-02-21T23:46:20.458217Z",
     "start_time": "2024-02-21T23:46:20.436363Z"
    }
   },
   "id": "6003b9f8e69e629d",
   "execution_count": 29,
   "outputs": []
  },
  {
   "cell_type": "code",
   "source": [
    "show_articles(best_lda, cv.get_feature_names_out(), 10)"
   ],
   "metadata": {
    "collapsed": false,
    "ExecuteTime": {
     "end_time": "2024-02-21T23:46:32.928371Z",
     "start_time": "2024-02-21T23:46:32.857568Z"
    }
   },
   "id": "b1e952f591829d2e",
   "execution_count": 31,
   "outputs": []
  },
  {
   "cell_type": "code",
   "source": [
    "display_topics(lda, cv.get_feature_names_out(), 10)"
   ],
   "metadata": {
    "collapsed": false,
    "ExecuteTime": {
     "end_time": "2024-02-21T00:14:40.374146Z",
     "start_time": "2024-02-21T00:14:40.368776Z"
    }
   },
   "id": "e568f71b833540d6",
   "execution_count": 16,
   "outputs": []
  },
  {
   "cell_type": "code",
   "source": [
    "# how to see topic assignments\n",
    "topic_assignments = lda.transform(count_vector)"
   ],
   "metadata": {
    "collapsed": false,
    "ExecuteTime": {
     "end_time": "2024-02-21T00:15:01.598929Z",
     "start_time": "2024-02-21T00:15:01.434688Z"
    }
   },
   "id": "d16a9a35384f6172",
   "execution_count": 17,
   "outputs": []
  },
  {
   "cell_type": "code",
   "source": [
    "df['topic'] = topic_assignments.argmax(axis=1)"
   ],
   "metadata": {
    "collapsed": false,
    "ExecuteTime": {
     "end_time": "2024-02-21T00:15:01.603189Z",
     "start_time": "2024-02-21T00:15:01.600374Z"
    }
   },
   "id": "38330218d6f4fafb",
   "execution_count": 18,
   "outputs": []
  },
  {
   "cell_type": "code",
   "source": [
    "df.head()"
   ],
   "metadata": {
    "collapsed": false,
    "ExecuteTime": {
     "end_time": "2024-02-21T00:15:01.803292Z",
     "start_time": "2024-02-21T00:15:01.799158Z"
    }
   },
   "id": "82c564c0f926d486",
   "execution_count": 19,
   "outputs": []
  },
  {
   "cell_type": "code",
   "source": [],
   "metadata": {
    "collapsed": false
   },
   "id": "255509300bef60e6",
   "execution_count": null,
   "outputs": []
  }
 ],
 "metadata": {
  "kernelspec": {
   "display_name": "Python 3",
   "language": "python",
   "name": "python3"
  },
  "language_info": {
   "codemirror_mode": {
    "name": "ipython",
    "version": 2
   },
   "file_extension": ".py",
   "mimetype": "text/x-python",
   "name": "python",
   "nbconvert_exporter": "python",
   "pygments_lexer": "ipython2",
   "version": "2.7.6"
  }
 },
 "nbformat": 4,
 "nbformat_minor": 5
}
