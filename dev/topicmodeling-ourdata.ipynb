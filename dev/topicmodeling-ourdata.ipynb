{
 "cells": [
  {
   "cell_type": "code",
   "execution_count": 1,
   "id": "initial_id",
   "metadata": {
    "collapsed": true,
    "ExecuteTime": {
     "end_time": "2024-02-27T20:45:35.320111Z",
     "start_time": "2024-02-27T20:45:33.497606Z"
    }
   },
   "outputs": [
    {
     "name": "stderr",
     "output_type": "stream",
     "text": [
      "[nltk_data] Downloading package vader_lexicon to\n",
      "[nltk_data]     /Users/mas/nltk_data...\n",
      "[nltk_data]   Package vader_lexicon is already up-to-date!\n",
      "[nltk_data] Downloading package punkt to /Users/mas/nltk_data...\n",
      "[nltk_data]   Package punkt is already up-to-date!\n",
      "[nltk_data] Downloading package averaged_perceptron_tagger to\n",
      "[nltk_data]     /Users/mas/nltk_data...\n",
      "[nltk_data]   Package averaged_perceptron_tagger is already up-to-\n",
      "[nltk_data]       date!\n",
      "[nltk_data] Downloading package wordnet to /Users/mas/nltk_data...\n",
      "[nltk_data]   Package wordnet is already up-to-date!\n"
     ]
    }
   ],
   "source": [
    "import pandas as pd\n",
    "from app.models import Session, Headline, Article, Agency, Country\n",
    "s = Session()"
   ]
  },
  {
   "cell_type": "code",
   "outputs": [
    {
     "name": "stdout",
     "output_type": "stream",
     "text": [
      "(36619, 3)\n"
     ]
    },
    {
     "data": {
      "text/plain": "                                               title            agency  bias\n0  Schweizer’s ‘Blood Money’ Rockets to #1 on Ama...         Breitbart     3\n1          Who Can Win a Nobel Prize? by Yasmin Nair   Current Affairs    -2\n2                     To Russia, With Love, From GOP  Crooks and Liars    -2\n3  Al Capone's Miami property is on the market fo...  Business Insider    -1\n4  Legal Analyst: It’s ‘Game Over’ if Fani Willis...         Breitbart     3",
      "text/html": "<div>\n<style scoped>\n    .dataframe tbody tr th:only-of-type {\n        vertical-align: middle;\n    }\n\n    .dataframe tbody tr th {\n        vertical-align: top;\n    }\n\n    .dataframe thead th {\n        text-align: right;\n    }\n</style>\n<table border=\"1\" class=\"dataframe\">\n  <thead>\n    <tr style=\"text-align: right;\">\n      <th></th>\n      <th>title</th>\n      <th>agency</th>\n      <th>bias</th>\n    </tr>\n  </thead>\n  <tbody>\n    <tr>\n      <th>0</th>\n      <td>Schweizer’s ‘Blood Money’ Rockets to #1 on Ama...</td>\n      <td>Breitbart</td>\n      <td>3</td>\n    </tr>\n    <tr>\n      <th>1</th>\n      <td>Who Can Win a Nobel Prize? by Yasmin Nair</td>\n      <td>Current Affairs</td>\n      <td>-2</td>\n    </tr>\n    <tr>\n      <th>2</th>\n      <td>To Russia, With Love, From GOP</td>\n      <td>Crooks and Liars</td>\n      <td>-2</td>\n    </tr>\n    <tr>\n      <th>3</th>\n      <td>Al Capone's Miami property is on the market fo...</td>\n      <td>Business Insider</td>\n      <td>-1</td>\n    </tr>\n    <tr>\n      <th>4</th>\n      <td>Legal Analyst: It’s ‘Game Over’ if Fani Willis...</td>\n      <td>Breitbart</td>\n      <td>3</td>\n    </tr>\n  </tbody>\n</table>\n</div>"
     },
     "execution_count": 3,
     "metadata": {},
     "output_type": "execute_result"
    }
   ],
   "source": [
    "from datetime import datetime\n",
    "# filter only from yesterday\n",
    "headlines = s.query(Headline.title, Agency.name, Agency._bias)\\\n",
    "    .join(Headline.article).join(Article.agency)\\\n",
    "    .filter(Agency._country==Country.us.value,\n",
    "            Headline.first_accessed > datetime(2023, 2, 20)).all()\n",
    "\n",
    "raw = pd.DataFrame(headlines, columns=['title', 'agency', 'bias'])\n",
    "print(raw.shape)\n",
    "raw.head()"
   ],
   "metadata": {
    "collapsed": false,
    "ExecuteTime": {
     "end_time": "2024-02-27T20:45:52.436577Z",
     "start_time": "2024-02-27T20:45:52.236294Z"
    }
   },
   "id": "98b0864c24f6a363",
   "execution_count": 3
  },
  {
   "cell_type": "code",
   "outputs": [
    {
     "name": "stdout",
     "output_type": "stream",
     "text": [
      "[<function split_camelcase at 0x2883c1c60>, <function hyphenated_words at 0x2883a28e0>, <function quotation_marks at 0x2883c0cc0>, <function unicode at 0x2883c0e00>, <function whitespace at 0x2883c0ea0>, <function accents at 0x2883c1080>, <function brackets at 0x2883c1120>, <function punctuation at 0x2883c1260>, <method 'lower' of 'str' objects>, <function tokenize at 0x2883c19e0>, <function decontract at 0x2883c1a80>, functools.partial(<function remove_stop at 0x173632480>, stopwords='abcdefghijklmnopqrstuvwxyz'), <function strip_stop at 0x28836f6a0>, <function strip_stop at 0x174d4bba0>, <function strip_stop at 0x28862fb00>, <function strip_stop at 0x107943060>]\n"
     ]
    }
   ],
   "source": [
    "from app.pipelines import prepare, default_pipeline, remove_stop\n",
    "print(default_pipeline)\n",
    "# import stopwords\n",
    "from spacy.lang.en.stop_words import STOP_WORDS as stopwords\n",
    "def strip_stop(text):\n",
    "    return [word for word in text if word not in stopwords]\n",
    "default_pipeline += [strip_stop]"
   ],
   "metadata": {
    "collapsed": false,
    "ExecuteTime": {
     "end_time": "2024-02-27T20:47:02.322758Z",
     "start_time": "2024-02-27T20:47:02.299049Z"
    }
   },
   "id": "52e16abd4218d802",
   "execution_count": 9
  },
  {
   "cell_type": "code",
   "outputs": [],
   "source": [
    "df = raw\n",
    "df['lower'] = df.title.str.lower()\n",
    "biden = df[df.lower.str.contains('biden')]\n",
    "trump = df[df.lower.str.contains('trump')]\n",
    "reduced = pd.concat([biden, trump])\n",
    "len(reduced)\n",
    "df = reduced\n",
    "# drop lines with word 'item'\n",
    "df = df[~df.lower.str.contains('item')]"
   ],
   "metadata": {
    "collapsed": false,
    "ExecuteTime": {
     "end_time": "2024-02-21T23:45:24.914666Z",
     "start_time": "2024-02-21T23:45:24.887101Z"
    }
   },
   "id": "5649b3834d4d321e",
   "execution_count": 24
  },
  {
   "cell_type": "code",
   "outputs": [
    {
     "data": {
      "text/plain": "                                               title            agency  bias  \\\n0  Schweizer’s ‘Blood Money’ Rockets to #1 on Ama...         Breitbart     3   \n1          Who Can Win a Nobel Prize? by Yasmin Nair   Current Affairs    -2   \n2                     To Russia, With Love, From GOP  Crooks and Liars    -2   \n3  Al Capone's Miami property is on the market fo...  Business Insider    -1   \n4  Legal Analyst: It’s ‘Game Over’ if Fani Willis...         Breitbart     3   \n\n                                               clean  \\\n0  [schweizer, blood, money, rockets, to, on, ama...   \n1    [who, can, win, nobel, prize, by, yasmin, nair]   \n2                [to, russia, with, love, from, gop]   \n3  [al, capone, miami, property, is, on, the, mar...   \n4  [legal, analyst, it, game, over, if, fani, wil...   \n\n                                             cleaned  \n0  schweizer blood money rockets to on amazon mov...  \n1             who can win nobel prize by yasmin nair  \n2                       to russia with love from gop  \n3  al capone miami property is on the market for ...  \n4  legal analyst it game over if fani willis lied...  ",
      "text/html": "<div>\n<style scoped>\n    .dataframe tbody tr th:only-of-type {\n        vertical-align: middle;\n    }\n\n    .dataframe tbody tr th {\n        vertical-align: top;\n    }\n\n    .dataframe thead th {\n        text-align: right;\n    }\n</style>\n<table border=\"1\" class=\"dataframe\">\n  <thead>\n    <tr style=\"text-align: right;\">\n      <th></th>\n      <th>title</th>\n      <th>agency</th>\n      <th>bias</th>\n      <th>clean</th>\n      <th>cleaned</th>\n    </tr>\n  </thead>\n  <tbody>\n    <tr>\n      <th>0</th>\n      <td>Schweizer’s ‘Blood Money’ Rockets to #1 on Ama...</td>\n      <td>Breitbart</td>\n      <td>3</td>\n      <td>[schweizer, blood, money, rockets, to, on, ama...</td>\n      <td>schweizer blood money rockets to on amazon mov...</td>\n    </tr>\n    <tr>\n      <th>1</th>\n      <td>Who Can Win a Nobel Prize? by Yasmin Nair</td>\n      <td>Current Affairs</td>\n      <td>-2</td>\n      <td>[who, can, win, nobel, prize, by, yasmin, nair]</td>\n      <td>who can win nobel prize by yasmin nair</td>\n    </tr>\n    <tr>\n      <th>2</th>\n      <td>To Russia, With Love, From GOP</td>\n      <td>Crooks and Liars</td>\n      <td>-2</td>\n      <td>[to, russia, with, love, from, gop]</td>\n      <td>to russia with love from gop</td>\n    </tr>\n    <tr>\n      <th>3</th>\n      <td>Al Capone's Miami property is on the market fo...</td>\n      <td>Business Insider</td>\n      <td>-1</td>\n      <td>[al, capone, miami, property, is, on, the, mar...</td>\n      <td>al capone miami property is on the market for ...</td>\n    </tr>\n    <tr>\n      <th>4</th>\n      <td>Legal Analyst: It’s ‘Game Over’ if Fani Willis...</td>\n      <td>Breitbart</td>\n      <td>3</td>\n      <td>[legal, analyst, it, game, over, if, fani, wil...</td>\n      <td>legal analyst it game over if fani willis lied...</td>\n    </tr>\n  </tbody>\n</table>\n</div>"
     },
     "execution_count": 10,
     "metadata": {},
     "output_type": "execute_result"
    }
   ],
   "source": [
    "df = raw\n",
    "df['clean'] = df.title.apply(prepare, pipeline=default_pipeline)\n",
    "df['cleaned'] = df.clean.map(lambda x: ' '.join(x))\n",
    "df.head()"
   ],
   "metadata": {
    "collapsed": false,
    "ExecuteTime": {
     "end_time": "2024-02-27T20:47:26.818748Z",
     "start_time": "2024-02-27T20:47:23.436480Z"
    }
   },
   "id": "4a192a90822615d",
   "execution_count": 10
  },
  {
   "cell_type": "code",
   "outputs": [
    {
     "data": {
      "text/plain": "36619"
     },
     "execution_count": 11,
     "metadata": {},
     "output_type": "execute_result"
    }
   ],
   "source": [
    "length = len(df)\n",
    "length"
   ],
   "metadata": {
    "collapsed": false,
    "ExecuteTime": {
     "end_time": "2024-02-27T20:48:14.634294Z",
     "start_time": "2024-02-27T20:48:14.631319Z"
    }
   },
   "id": "91384e4b7bf8ed1d",
   "execution_count": 11
  },
  {
   "cell_type": "code",
   "outputs": [],
   "source": [
    "from sklearn.feature_extraction.text import CountVectorizer\n",
    "cv = CountVectorizer(min_df=5, max_df=0.7, ngram_range=(1,3))\n",
    "count_vector = cv.fit_transform(df.cleaned)\n",
    "from sklearn.decomposition import LatentDirichletAllocation\n",
    "# grid search cv\n",
    "from sklearn.model_selection import GridSearchCV\n",
    "portions = [0.3, 0.5, 0.75]\n",
    "search_params = {'n_components': [int(p*length) for p in portions], 'learning_decay': [.5, .7, .9]}"
   ],
   "metadata": {
    "collapsed": false,
    "ExecuteTime": {
     "end_time": "2024-02-27T20:48:48.103663Z",
     "start_time": "2024-02-27T20:48:46.889133Z"
    }
   },
   "id": "789b9ef49bc5f4e",
   "execution_count": 12
  },
  {
   "cell_type": "code",
   "outputs": [],
   "source": [
    "def display_topics(model, feature_names, no_top_words):\n",
    "    for topic, word_vector in enumerate(model.components_):\n",
    "        total = word_vector.sum()\n",
    "        largest = word_vector.argsort()[::-1]\n",
    "        print(\"Topic %02d\" % topic)\n",
    "        for i in range(no_top_words):\n",
    "            print(\"    %s: %.2f\" % (feature_names[largest[i]], word_vector[largest[i]]/total*100.0))\n",
    "           "
   ],
   "metadata": {
    "collapsed": false,
    "ExecuteTime": {
     "end_time": "2024-02-27T20:48:57.487938Z",
     "start_time": "2024-02-27T20:48:57.480856Z"
    }
   },
   "id": "946e78d0f9083d36",
   "execution_count": 13
  },
  {
   "cell_type": "code",
   "outputs": [
    {
     "name": "stdout",
     "output_type": "stream",
     "text": [
      "Topic 00\n",
      "    trump: 4.60\n",
      "    fraud: 1.84\n",
      "    million: 1.54\n",
      "    york: 1.32\n",
      "    judge: 1.12\n",
      "    donald: 1.11\n",
      "    donald trump: 1.11\n",
      "    pay: 1.06\n",
      "    case: 0.89\n",
      "    ruling: 0.80\n",
      "Topic 01\n",
      "    biden: 1.41\n",
      "    trump: 1.25\n",
      "    russian: 0.62\n",
      "    fbi: 0.54\n",
      "    election: 0.53\n",
      "    president: 0.49\n",
      "    hunter: 0.49\n",
      "    hunter biden: 0.48\n",
      "    donald trump: 0.47\n",
      "    donald: 0.47\n",
      "Topic 02\n",
      "    trump: 4.87\n",
      "    biden: 2.26\n",
      "    navalny: 1.52\n",
      "    haley: 1.02\n",
      "    president: 0.98\n",
      "    death: 0.98\n",
      "    donald: 0.96\n",
      "    donald trump: 0.95\n",
      "    putin: 0.94\n",
      "    russian: 0.70\n",
      "Topic 03\n",
      "    biden: 4.63\n",
      "    trump: 3.73\n",
      "    president: 1.26\n",
      "    joe: 0.73\n",
      "    donald: 0.62\n",
      "    donald trump: 0.62\n",
      "    joe biden: 0.62\n",
      "    great: 0.59\n",
      "    says: 0.55\n",
      "    haley: 0.55\n",
      "Topic 04\n",
      "    biden: 1.60\n",
      "    trump: 1.22\n",
      "    president: 1.13\n",
      "    haley: 0.62\n",
      "    year: 0.60\n",
      "    president biden: 0.60\n",
      "    train: 0.57\n",
      "    east: 0.54\n",
      "    east palestine: 0.52\n",
      "    palestine: 0.52\n"
     ]
    }
   ],
   "source": [
    "lda = LatentDirichletAllocation(n_components=5, random_state=42)\n",
    "search = GridSearchCV(lda, param_grid=search_params, n_jobs=-1)\n",
    "search.fit(count_vector)\n",
    "best_lda = search.best_estimator_\n",
    "display_topics(best_lda, cv.get_feature_names_out(), 10)"
   ],
   "metadata": {
    "collapsed": false,
    "ExecuteTime": {
     "end_time": "2024-02-21T23:45:52.974357Z",
     "start_time": "2024-02-21T23:45:28.546427Z"
    }
   },
   "id": "8e28fc25de85e903",
   "execution_count": 27
  },
  {
   "cell_type": "code",
   "outputs": [],
   "source": [
    "def show_articles(model, feature_names, no_top_words):\n",
    "    for topic, word_vector in enumerate(model.components_):\n",
    "        total = word_vector.sum()\n",
    "        largest = word_vector.argsort()[::-1]\n",
    "        print(\"Topic %02d\" % topic)\n",
    "        for i in range(no_top_words):\n",
    "            print(\"    %s: %.2f\" % (feature_names[largest[i]], word_vector[largest[i]]/total*100.0))\n",
    "            print(\"    \", df[df.topic==topic].title.iloc[i])"
   ],
   "metadata": {
    "collapsed": false,
    "ExecuteTime": {
     "end_time": "2024-02-21T23:46:20.458217Z",
     "start_time": "2024-02-21T23:46:20.436363Z"
    }
   },
   "id": "6003b9f8e69e629d",
   "execution_count": 29
  },
  {
   "cell_type": "code",
   "outputs": [
    {
     "name": "stdout",
     "output_type": "stream",
     "text": [
      "Topic 00\n",
      "    trump: 4.60\n"
     ]
    },
    {
     "ename": "AttributeError",
     "evalue": "'DataFrame' object has no attribute 'topic'",
     "output_type": "error",
     "traceback": [
      "\u001B[0;31m---------------------------------------------------------------------------\u001B[0m",
      "\u001B[0;31mAttributeError\u001B[0m                            Traceback (most recent call last)",
      "\u001B[0;32m/var/folders/fd/vfz6tp5d6lg2p2jkv89sf3jm0000gn/T/ipykernel_14210/3436402540.py\u001B[0m in \u001B[0;36m?\u001B[0;34m()\u001B[0m\n\u001B[0;32m----> 1\u001B[0;31m \u001B[0mshow_articles\u001B[0m\u001B[0;34m(\u001B[0m\u001B[0mbest_lda\u001B[0m\u001B[0;34m,\u001B[0m \u001B[0mcv\u001B[0m\u001B[0;34m.\u001B[0m\u001B[0mget_feature_names_out\u001B[0m\u001B[0;34m(\u001B[0m\u001B[0;34m)\u001B[0m\u001B[0;34m,\u001B[0m \u001B[0;36m10\u001B[0m\u001B[0;34m)\u001B[0m\u001B[0;34m\u001B[0m\u001B[0;34m\u001B[0m\u001B[0m\n\u001B[0m",
      "\u001B[0;32m/var/folders/fd/vfz6tp5d6lg2p2jkv89sf3jm0000gn/T/ipykernel_14210/174069633.py\u001B[0m in \u001B[0;36m?\u001B[0;34m(model, feature_names, no_top_words)\u001B[0m\n\u001B[1;32m      4\u001B[0m         \u001B[0mlargest\u001B[0m \u001B[0;34m=\u001B[0m \u001B[0mword_vector\u001B[0m\u001B[0;34m.\u001B[0m\u001B[0margsort\u001B[0m\u001B[0;34m(\u001B[0m\u001B[0;34m)\u001B[0m\u001B[0;34m[\u001B[0m\u001B[0;34m:\u001B[0m\u001B[0;34m:\u001B[0m\u001B[0;34m-\u001B[0m\u001B[0;36m1\u001B[0m\u001B[0;34m]\u001B[0m\u001B[0;34m\u001B[0m\u001B[0;34m\u001B[0m\u001B[0m\n\u001B[1;32m      5\u001B[0m         \u001B[0mprint\u001B[0m\u001B[0;34m(\u001B[0m\u001B[0;34m\"Topic %02d\"\u001B[0m \u001B[0;34m%\u001B[0m \u001B[0mtopic\u001B[0m\u001B[0;34m)\u001B[0m\u001B[0;34m\u001B[0m\u001B[0;34m\u001B[0m\u001B[0m\n\u001B[1;32m      6\u001B[0m         \u001B[0;32mfor\u001B[0m \u001B[0mi\u001B[0m \u001B[0;32min\u001B[0m \u001B[0mrange\u001B[0m\u001B[0;34m(\u001B[0m\u001B[0mno_top_words\u001B[0m\u001B[0;34m)\u001B[0m\u001B[0;34m:\u001B[0m\u001B[0;34m\u001B[0m\u001B[0;34m\u001B[0m\u001B[0m\n\u001B[1;32m      7\u001B[0m             \u001B[0mprint\u001B[0m\u001B[0;34m(\u001B[0m\u001B[0;34m\"    %s: %.2f\"\u001B[0m \u001B[0;34m%\u001B[0m \u001B[0;34m(\u001B[0m\u001B[0mfeature_names\u001B[0m\u001B[0;34m[\u001B[0m\u001B[0mlargest\u001B[0m\u001B[0;34m[\u001B[0m\u001B[0mi\u001B[0m\u001B[0;34m]\u001B[0m\u001B[0;34m]\u001B[0m\u001B[0;34m,\u001B[0m \u001B[0mword_vector\u001B[0m\u001B[0;34m[\u001B[0m\u001B[0mlargest\u001B[0m\u001B[0;34m[\u001B[0m\u001B[0mi\u001B[0m\u001B[0;34m]\u001B[0m\u001B[0;34m]\u001B[0m\u001B[0;34m/\u001B[0m\u001B[0mtotal\u001B[0m\u001B[0;34m*\u001B[0m\u001B[0;36m100.0\u001B[0m\u001B[0;34m)\u001B[0m\u001B[0;34m)\u001B[0m\u001B[0;34m\u001B[0m\u001B[0;34m\u001B[0m\u001B[0m\n\u001B[0;32m----> 8\u001B[0;31m             \u001B[0mprint\u001B[0m\u001B[0;34m(\u001B[0m\u001B[0;34m\"    \"\u001B[0m\u001B[0;34m,\u001B[0m \u001B[0mdf\u001B[0m\u001B[0;34m[\u001B[0m\u001B[0mdf\u001B[0m\u001B[0;34m.\u001B[0m\u001B[0mtopic\u001B[0m\u001B[0;34m==\u001B[0m\u001B[0mtopic\u001B[0m\u001B[0;34m]\u001B[0m\u001B[0;34m.\u001B[0m\u001B[0mtitle\u001B[0m\u001B[0;34m.\u001B[0m\u001B[0miloc\u001B[0m\u001B[0;34m[\u001B[0m\u001B[0mi\u001B[0m\u001B[0;34m]\u001B[0m\u001B[0;34m)\u001B[0m\u001B[0;34m\u001B[0m\u001B[0;34m\u001B[0m\u001B[0m\n\u001B[0m",
      "\u001B[0;32m~/_dev/maudlin2/venv/lib/python3.12/site-packages/pandas/core/generic.py\u001B[0m in \u001B[0;36m?\u001B[0;34m(self, name)\u001B[0m\n\u001B[1;32m   6289\u001B[0m             \u001B[0;32mand\u001B[0m \u001B[0mname\u001B[0m \u001B[0;32mnot\u001B[0m \u001B[0;32min\u001B[0m \u001B[0mself\u001B[0m\u001B[0;34m.\u001B[0m\u001B[0m_accessors\u001B[0m\u001B[0;34m\u001B[0m\u001B[0;34m\u001B[0m\u001B[0m\n\u001B[1;32m   6290\u001B[0m             \u001B[0;32mand\u001B[0m \u001B[0mself\u001B[0m\u001B[0;34m.\u001B[0m\u001B[0m_info_axis\u001B[0m\u001B[0;34m.\u001B[0m\u001B[0m_can_hold_identifiers_and_holds_name\u001B[0m\u001B[0;34m(\u001B[0m\u001B[0mname\u001B[0m\u001B[0;34m)\u001B[0m\u001B[0;34m\u001B[0m\u001B[0;34m\u001B[0m\u001B[0m\n\u001B[1;32m   6291\u001B[0m         \u001B[0;34m)\u001B[0m\u001B[0;34m:\u001B[0m\u001B[0;34m\u001B[0m\u001B[0;34m\u001B[0m\u001B[0m\n\u001B[1;32m   6292\u001B[0m             \u001B[0;32mreturn\u001B[0m \u001B[0mself\u001B[0m\u001B[0;34m[\u001B[0m\u001B[0mname\u001B[0m\u001B[0;34m]\u001B[0m\u001B[0;34m\u001B[0m\u001B[0;34m\u001B[0m\u001B[0m\n\u001B[0;32m-> 6293\u001B[0;31m         \u001B[0;32mreturn\u001B[0m \u001B[0mobject\u001B[0m\u001B[0;34m.\u001B[0m\u001B[0m__getattribute__\u001B[0m\u001B[0;34m(\u001B[0m\u001B[0mself\u001B[0m\u001B[0;34m,\u001B[0m \u001B[0mname\u001B[0m\u001B[0;34m)\u001B[0m\u001B[0;34m\u001B[0m\u001B[0;34m\u001B[0m\u001B[0m\n\u001B[0m",
      "\u001B[0;31mAttributeError\u001B[0m: 'DataFrame' object has no attribute 'topic'"
     ]
    }
   ],
   "source": [
    "show_articles(best_lda, cv.get_feature_names_out(), 10)"
   ],
   "metadata": {
    "collapsed": false,
    "ExecuteTime": {
     "end_time": "2024-02-21T23:46:32.928371Z",
     "start_time": "2024-02-21T23:46:32.857568Z"
    }
   },
   "id": "b1e952f591829d2e",
   "execution_count": 31
  },
  {
   "cell_type": "code",
   "outputs": [
    {
     "name": "stdout",
     "output_type": "stream",
     "text": [
      "Topic 00\n",
      "    biden: 3.24\n",
      "    willis: 0.83\n",
      "    fani: 0.81\n",
      "    fani willis: 0.81\n",
      "    donald: 0.80\n",
      "    donald trump: 0.79\n",
      "    new: 0.70\n",
      "    house: 0.59\n",
      "    day: 0.56\n",
      "    not: 0.56\n",
      "Topic 01\n",
      "    ago: 1.14\n",
      "    president: 1.11\n",
      "    donald trump: 0.98\n",
      "    donald: 0.98\n",
      "    biden: 0.86\n",
      "    million: 0.83\n",
      "    former: 0.65\n",
      "    former president: 0.62\n",
      "    president donald: 0.52\n",
      "    president donald trump: 0.52\n",
      "Topic 02\n",
      "    fraud: 1.99\n",
      "    new: 1.50\n",
      "    new york: 1.33\n",
      "    york: 1.33\n",
      "    million: 1.08\n",
      "    ruling: 0.92\n",
      "    judge: 0.87\n",
      "    business: 0.86\n",
      "    civil: 0.85\n",
      "    pay: 0.85\n",
      "Topic 03\n",
      "    biden: 3.73\n",
      "    president: 1.32\n",
      "    haley: 0.79\n",
      "    navalny: 0.79\n",
      "    donald: 0.77\n",
      "    donald trump: 0.77\n",
      "    putin: 0.74\n",
      "    death: 0.66\n",
      "    joe: 0.64\n",
      "    ago: 0.58\n",
      "Topic 04\n",
      "    biden: 1.35\n",
      "    president: 1.05\n",
      "    ago: 0.99\n",
      "    russian: 0.91\n",
      "    navalny: 0.63\n",
      "    former: 0.54\n",
      "    friday: 0.49\n",
      "    derailment: 0.47\n",
      "    ohio: 0.46\n",
      "    wisconsin: 0.44\n"
     ]
    }
   ],
   "source": [
    "display_topics(lda, cv.get_feature_names_out(), 10)"
   ],
   "metadata": {
    "collapsed": false,
    "ExecuteTime": {
     "end_time": "2024-02-21T00:14:40.374146Z",
     "start_time": "2024-02-21T00:14:40.368776Z"
    }
   },
   "id": "e568f71b833540d6",
   "execution_count": 16
  },
  {
   "cell_type": "code",
   "outputs": [],
   "source": [
    "# how to see topic assignments\n",
    "topic_assignments = lda.transform(count_vector)"
   ],
   "metadata": {
    "collapsed": false,
    "ExecuteTime": {
     "end_time": "2024-02-21T00:15:01.598929Z",
     "start_time": "2024-02-21T00:15:01.434688Z"
    }
   },
   "id": "d16a9a35384f6172",
   "execution_count": 17
  },
  {
   "cell_type": "code",
   "outputs": [
    {
     "name": "stderr",
     "output_type": "stream",
     "text": [
      "/var/folders/fd/vfz6tp5d6lg2p2jkv89sf3jm0000gn/T/ipykernel_86375/1546416292.py:1: SettingWithCopyWarning: \n",
      "A value is trying to be set on a copy of a slice from a DataFrame.\n",
      "Try using .loc[row_indexer,col_indexer] = value instead\n",
      "\n",
      "See the caveats in the documentation: https://pandas.pydata.org/pandas-docs/stable/user_guide/indexing.html#returning-a-view-versus-a-copy\n",
      "  df['topic'] = topic_assignments.argmax(axis=1)\n"
     ]
    }
   ],
   "source": [
    "df['topic'] = topic_assignments.argmax(axis=1)"
   ],
   "metadata": {
    "collapsed": false,
    "ExecuteTime": {
     "end_time": "2024-02-21T00:15:01.603189Z",
     "start_time": "2024-02-21T00:15:01.600374Z"
    }
   },
   "id": "38330218d6f4fafb",
   "execution_count": 18
  },
  {
   "cell_type": "code",
   "outputs": [
    {
     "data": {
      "text/plain": "                                                title  \\\n28  Biden Turns the Screws on MAGA-Republicans ove...   \n47  Biden blames businesses for ‘shrinkflation,’ b...   \n55  A stunning indictment could doom Republican's ...   \n72  Putin: Biden Better for Russia Than Trump, 'Mo...   \n77  An FBI informant is charged with lying about J...   \n\n                                                lower  \\\n28  biden turns the screws on maga-republicans ove...   \n47  biden blames businesses for ‘shrinkflation,’ b...   \n55  a stunning indictment could doom republican's ...   \n72  putin: biden better for russia than trump, 'mo...   \n77  an fbi informant is charged with lying about j...   \n\n                                                clean  \\\n28  [biden, turns, screws, maga, republicans, pres...   \n47  [biden, blames, businesses, shrinkflation, for...   \n55  [stunning, indictment, could, doom, republican...   \n72  [putin, biden, better, russia, trump, predicta...   \n77  [fbi, informant, charged, lying, joe, hunter, ...   \n\n                                              cleaned  topic  \n28  biden turns screws maga republicans press conf...      3  \n47  biden blames businesses shrinkflation forgetti...      4  \n55  stunning indictment could doom republican effo...      2  \n72        putin biden better russia trump predictable      1  \n77  fbi informant charged lying joe hunter biden t...      0  ",
      "text/html": "<div>\n<style scoped>\n    .dataframe tbody tr th:only-of-type {\n        vertical-align: middle;\n    }\n\n    .dataframe tbody tr th {\n        vertical-align: top;\n    }\n\n    .dataframe thead th {\n        text-align: right;\n    }\n</style>\n<table border=\"1\" class=\"dataframe\">\n  <thead>\n    <tr style=\"text-align: right;\">\n      <th></th>\n      <th>title</th>\n      <th>lower</th>\n      <th>clean</th>\n      <th>cleaned</th>\n      <th>topic</th>\n    </tr>\n  </thead>\n  <tbody>\n    <tr>\n      <th>28</th>\n      <td>Biden Turns the Screws on MAGA-Republicans ove...</td>\n      <td>biden turns the screws on maga-republicans ove...</td>\n      <td>[biden, turns, screws, maga, republicans, pres...</td>\n      <td>biden turns screws maga republicans press conf...</td>\n      <td>3</td>\n    </tr>\n    <tr>\n      <th>47</th>\n      <td>Biden blames businesses for ‘shrinkflation,’ b...</td>\n      <td>biden blames businesses for ‘shrinkflation,’ b...</td>\n      <td>[biden, blames, businesses, shrinkflation, for...</td>\n      <td>biden blames businesses shrinkflation forgetti...</td>\n      <td>4</td>\n    </tr>\n    <tr>\n      <th>55</th>\n      <td>A stunning indictment could doom Republican's ...</td>\n      <td>a stunning indictment could doom republican's ...</td>\n      <td>[stunning, indictment, could, doom, republican...</td>\n      <td>stunning indictment could doom republican effo...</td>\n      <td>2</td>\n    </tr>\n    <tr>\n      <th>72</th>\n      <td>Putin: Biden Better for Russia Than Trump, 'Mo...</td>\n      <td>putin: biden better for russia than trump, 'mo...</td>\n      <td>[putin, biden, better, russia, trump, predicta...</td>\n      <td>putin biden better russia trump predictable</td>\n      <td>1</td>\n    </tr>\n    <tr>\n      <th>77</th>\n      <td>An FBI informant is charged with lying about J...</td>\n      <td>an fbi informant is charged with lying about j...</td>\n      <td>[fbi, informant, charged, lying, joe, hunter, ...</td>\n      <td>fbi informant charged lying joe hunter biden t...</td>\n      <td>0</td>\n    </tr>\n  </tbody>\n</table>\n</div>"
     },
     "execution_count": 19,
     "metadata": {},
     "output_type": "execute_result"
    }
   ],
   "source": [
    "df.head()"
   ],
   "metadata": {
    "collapsed": false,
    "ExecuteTime": {
     "end_time": "2024-02-21T00:15:01.803292Z",
     "start_time": "2024-02-21T00:15:01.799158Z"
    }
   },
   "id": "82c564c0f926d486",
   "execution_count": 19
  },
  {
   "cell_type": "code",
   "outputs": [],
   "source": [],
   "metadata": {
    "collapsed": false
   },
   "id": "255509300bef60e6"
  }
 ],
 "metadata": {
  "kernelspec": {
   "display_name": "Python 3",
   "language": "python",
   "name": "python3"
  },
  "language_info": {
   "codemirror_mode": {
    "name": "ipython",
    "version": 2
   },
   "file_extension": ".py",
   "mimetype": "text/x-python",
   "name": "python",
   "nbconvert_exporter": "python",
   "pygments_lexer": "ipython2",
   "version": "2.7.6"
  }
 },
 "nbformat": 4,
 "nbformat_minor": 5
}
