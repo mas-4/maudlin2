{
 "cells": [
  {
   "cell_type": "code",
   "id": "initial_id",
   "metadata": {
    "collapsed": true,
    "ExecuteTime": {
     "end_time": "2024-05-27T19:27:30.932380Z",
     "start_time": "2024-05-27T19:27:30.216436Z"
    }
   },
   "source": [
    "import numpy as np\n",
    "import pandas as pd\n",
    "from sqlalchemy import or_\n",
    "\n",
    "from app.models import Session, Headline, Article, Agency\n",
    "from app.utils import Country, Config"
   ],
   "outputs": [],
   "execution_count": 1
  },
  {
   "metadata": {
    "ExecuteTime": {
     "end_time": "2024-05-27T19:27:34.081549Z",
     "start_time": "2024-05-27T19:27:30.932380Z"
    }
   },
   "cell_type": "code",
   "source": [
    "s = Session()\n",
    "data = s.query(\n",
    "    Headline.id, Article.id, Agency.name, Headline.processed, Headline.first_accessed, Headline.last_accessed\n",
    ").join(Headline.article).join(Article.agency).filter(\n",
    "    or_(Agency._country == Country.us.value, Agency.name.in_(Config.exempted_foreign_media))\n",
    ").all()\n",
    "s.close()"
   ],
   "id": "79b3dbfc0b2606d8",
   "outputs": [],
   "execution_count": 2
  },
  {
   "metadata": {
    "ExecuteTime": {
     "end_time": "2024-05-27T19:27:34.806819Z",
     "start_time": "2024-05-27T19:27:34.081549Z"
    }
   },
   "cell_type": "code",
   "source": [
    "raw_df = pd.DataFrame(data, columns=['hid', 'aid', 'agency', 'title', 'first', 'last'])\n",
    "print(raw_df.shape)"
   ],
   "id": "6898716ed2e926f5",
   "outputs": [
    {
     "name": "stdout",
     "output_type": "stream",
     "text": [
      "(720502, 6)\n"
     ]
    }
   ],
   "execution_count": 3
  },
  {
   "metadata": {
    "ExecuteTime": {
     "end_time": "2024-05-27T19:27:34.885177Z",
     "start_time": "2024-05-27T19:27:34.806819Z"
    }
   },
   "cell_type": "code",
   "source": [
    "from tqdm import tqdm\n",
    "\n",
    "tqdm.pandas()\n",
    "# Take only the first 1000 rows for now\n",
    "# df = raw_df.head(10000).copy()\n",
    "df = raw_df.copy()\n",
    "# Convert the datetimes from utc to NY time. They're not timezone aware\n",
    "df['first'] = df['first'].dt.tz_localize('utc').dt.tz_convert('America/New_York')\n",
    "df['last'] = df['last'].dt.tz_localize('utc').dt.tz_convert('America/New_York')\n",
    "# Get the timedelta between the first and last access\n",
    "df['delta'] = df['last'] - df['first']\n",
    "# Drop the rows where the delta is more than 3 days. This should filter out normal links not to real stories\n",
    "df = df[df['delta'] <= pd.Timedelta(days=3)]"
   ],
   "id": "4ba93890d86fa6c2",
   "outputs": [],
   "execution_count": 4
  },
  {
   "metadata": {
    "ExecuteTime": {
     "end_time": "2024-05-27T19:27:55.688449Z",
     "start_time": "2024-05-27T19:27:34.885177Z"
    }
   },
   "cell_type": "code",
   "source": [
    "# filtering by us and exempted media really improves this!\n",
    "def get_hours(row):\n",
    "    first = row['first']\n",
    "    last = row['last']\n",
    "    # Zero out the minutes and seconds\n",
    "    first_ts = first.replace(minute=0, second=0, microsecond=0).timestamp()\n",
    "    last_ts = last.replace(minute=0, second=0, microsecond=0).timestamp()\n",
    "    # get every half hour between the first and last access\n",
    "    hours = np.arange(first_ts, last_ts, 1800, dtype=int)\n",
    "    # Filter out the hours that are not in the same day as the first access\n",
    "    return hours[(hours <= last_ts) & (hours >= first_ts)]\n",
    "    \n",
    "df['halfhour'] = df.progress_apply(get_hours, axis=1)"
   ],
   "id": "415bf89fb68cd67b",
   "outputs": [
    {
     "name": "stderr",
     "output_type": "stream",
     "text": [
      "100%|██████████| 682300/682300 [00:20<00:00, 32819.55it/s]\n"
     ]
    }
   ],
   "execution_count": 5
  },
  {
   "metadata": {
    "ExecuteTime": {
     "end_time": "2024-05-27T19:27:59.496700Z",
     "start_time": "2024-05-27T19:27:55.688449Z"
    }
   },
   "cell_type": "code",
   "source": [
    "# Next we explode the hours column so that each row corresponds to a single hour\n",
    "df = df.explode('halfhour')\n",
    "# Reset the index\n",
    "df.reset_index(drop=True, inplace=True)\n",
    "# Convert the hours column to a datetime\n",
    "df['halfhour'] = pd.to_datetime(df['halfhour'], unit='s')\n",
    "df = df[['title', 'halfhour']]"
   ],
   "id": "8f7ab35cd662e75d",
   "outputs": [],
   "execution_count": 6
  },
  {
   "metadata": {
    "ExecuteTime": {
     "end_time": "2024-05-27T19:27:59.978725Z",
     "start_time": "2024-05-27T19:27:59.496700Z"
    }
   },
   "cell_type": "code",
   "source": "df.sample(5)",
   "id": "ccf572dc30d7d9c7",
   "outputs": [
    {
     "data": {
      "text/plain": [
       "                                                      title  \\\n",
       "12784645  'Jeopardy!' spinoff focusing on pop culture tr...   \n",
       "52904     Queen Camilla, once shunned by British public,...   \n",
       "14249930  Aaron Rodgers is back with Jets and still the ...   \n",
       "3280543   Biden slams Trump for saying there's 'a lot yo...   \n",
       "5247098   China Uses Surprise Data Announcements to Coun...   \n",
       "\n",
       "                    halfhour  \n",
       "12784645 2024-05-15 02:30:00  \n",
       "52904    2024-02-17 05:30:00  \n",
       "14249930 2024-05-22 02:30:00  \n",
       "3280543  2024-03-12 11:00:00  \n",
       "5247098  2024-03-25 06:00:00  "
      ],
      "text/html": [
       "<div>\n",
       "<style scoped>\n",
       "    .dataframe tbody tr th:only-of-type {\n",
       "        vertical-align: middle;\n",
       "    }\n",
       "\n",
       "    .dataframe tbody tr th {\n",
       "        vertical-align: top;\n",
       "    }\n",
       "\n",
       "    .dataframe thead th {\n",
       "        text-align: right;\n",
       "    }\n",
       "</style>\n",
       "<table border=\"1\" class=\"dataframe\">\n",
       "  <thead>\n",
       "    <tr style=\"text-align: right;\">\n",
       "      <th></th>\n",
       "      <th>title</th>\n",
       "      <th>halfhour</th>\n",
       "    </tr>\n",
       "  </thead>\n",
       "  <tbody>\n",
       "    <tr>\n",
       "      <th>12784645</th>\n",
       "      <td>'Jeopardy!' spinoff focusing on pop culture tr...</td>\n",
       "      <td>2024-05-15 02:30:00</td>\n",
       "    </tr>\n",
       "    <tr>\n",
       "      <th>52904</th>\n",
       "      <td>Queen Camilla, once shunned by British public,...</td>\n",
       "      <td>2024-02-17 05:30:00</td>\n",
       "    </tr>\n",
       "    <tr>\n",
       "      <th>14249930</th>\n",
       "      <td>Aaron Rodgers is back with Jets and still the ...</td>\n",
       "      <td>2024-05-22 02:30:00</td>\n",
       "    </tr>\n",
       "    <tr>\n",
       "      <th>3280543</th>\n",
       "      <td>Biden slams Trump for saying there's 'a lot yo...</td>\n",
       "      <td>2024-03-12 11:00:00</td>\n",
       "    </tr>\n",
       "    <tr>\n",
       "      <th>5247098</th>\n",
       "      <td>China Uses Surprise Data Announcements to Coun...</td>\n",
       "      <td>2024-03-25 06:00:00</td>\n",
       "    </tr>\n",
       "  </tbody>\n",
       "</table>\n",
       "</div>"
      ]
     },
     "execution_count": 7,
     "metadata": {},
     "output_type": "execute_result"
    }
   ],
   "execution_count": 7
  },
  {
   "metadata": {
    "ExecuteTime": {
     "end_time": "2024-05-27T19:28:54.489069Z",
     "start_time": "2024-05-27T19:27:59.979729Z"
    }
   },
   "cell_type": "code",
   "source": [
    "# Group by the hours column and apply the get_newsiness function to the titles\n",
    "# Eventually we can speed this up with multiprocessing I think.\n",
    "# For now though, this is fine. More than a million headlines Seems to be taking under 20 minutes.\n",
    "# Recalculation will be expensive! But we won't do it often.\n",
    "# We'll save the results as a csv for incorporation in the website.\n",
    "# Simple solutions are best.\n",
    "\n",
    "import multiprocessing as mp\n",
    "from app.analysis.newsiness import get_newsiness\n",
    "\n",
    "titles_by_hour = [group[\"title\"].tolist() for _, group in df.groupby('halfhour')]\n",
    "with mp.Pool(mp.cpu_count()) as pool:\n",
    "    results = pool.imap(get_newsiness, titles_by_hour)\n",
    "    newsiness = list(tqdm(results, total=len(titles_by_hour)))\n",
    "\n",
    "\n",
    "# It took almost 22 minutes for the first run.\n",
    "# newsiness = df.groupby('hours')['title'].progress_apply(get_newsiness)\n"
   ],
   "id": "c00b9c3939a79026",
   "outputs": [
    {
     "name": "stderr",
     "output_type": "stream",
     "text": [
      "100%|██████████| 4838/4838 [00:53<00:00, 90.15it/s] \n"
     ]
    }
   ],
   "execution_count": 8
  },
  {
   "metadata": {
    "ExecuteTime": {
     "end_time": "2024-05-27T19:28:55.071273Z",
     "start_time": "2024-05-27T19:28:54.489069Z"
    }
   },
   "cell_type": "code",
   "source": [
    "# Create a dataframe from the groupby object and add a column of the newsiness\n",
    "newsiness_df = df.groupby('halfhour').first().reset_index()\n",
    "newsiness_df = newsiness_df[['halfhour']]\n",
    "newsiness_df['newsiness'] = newsiness\n",
    "newsiness_df.head()"
   ],
   "id": "f0b643c7c17d5a6a",
   "outputs": [
    {
     "data": {
      "text/plain": [
       "             halfhour  newsiness\n",
       "0 2024-02-16 20:00:00   2.750258\n",
       "1 2024-02-16 20:30:00   2.750258\n",
       "2 2024-02-16 21:00:00   2.501889\n",
       "3 2024-02-16 21:30:00   2.501889\n",
       "4 2024-02-16 22:00:00   2.610354"
      ],
      "text/html": [
       "<div>\n",
       "<style scoped>\n",
       "    .dataframe tbody tr th:only-of-type {\n",
       "        vertical-align: middle;\n",
       "    }\n",
       "\n",
       "    .dataframe tbody tr th {\n",
       "        vertical-align: top;\n",
       "    }\n",
       "\n",
       "    .dataframe thead th {\n",
       "        text-align: right;\n",
       "    }\n",
       "</style>\n",
       "<table border=\"1\" class=\"dataframe\">\n",
       "  <thead>\n",
       "    <tr style=\"text-align: right;\">\n",
       "      <th></th>\n",
       "      <th>halfhour</th>\n",
       "      <th>newsiness</th>\n",
       "    </tr>\n",
       "  </thead>\n",
       "  <tbody>\n",
       "    <tr>\n",
       "      <th>0</th>\n",
       "      <td>2024-02-16 20:00:00</td>\n",
       "      <td>2.750258</td>\n",
       "    </tr>\n",
       "    <tr>\n",
       "      <th>1</th>\n",
       "      <td>2024-02-16 20:30:00</td>\n",
       "      <td>2.750258</td>\n",
       "    </tr>\n",
       "    <tr>\n",
       "      <th>2</th>\n",
       "      <td>2024-02-16 21:00:00</td>\n",
       "      <td>2.501889</td>\n",
       "    </tr>\n",
       "    <tr>\n",
       "      <th>3</th>\n",
       "      <td>2024-02-16 21:30:00</td>\n",
       "      <td>2.501889</td>\n",
       "    </tr>\n",
       "    <tr>\n",
       "      <th>4</th>\n",
       "      <td>2024-02-16 22:00:00</td>\n",
       "      <td>2.610354</td>\n",
       "    </tr>\n",
       "  </tbody>\n",
       "</table>\n",
       "</div>"
      ]
     },
     "execution_count": 9,
     "metadata": {},
     "output_type": "execute_result"
    }
   ],
   "execution_count": 9
  },
  {
   "metadata": {
    "ExecuteTime": {
     "end_time": "2024-05-27T19:28:55.233489Z",
     "start_time": "2024-05-27T19:28:55.071273Z"
    }
   },
   "cell_type": "code",
   "source": [
    "import matplotlib.pyplot as plt\n",
    "import seaborn as sns\n",
    "# Plot a histogram of the newsiness\n",
    "plt.figure(figsize=(12, 8))\n",
    "sns.histplot(newsiness_df['newsiness'], bins=50, kde=True)\n",
    "plt.show()\n"
   ],
   "id": "61859384d371f41b",
   "outputs": [
    {
     "data": {
      "text/plain": [
       "<Figure size 1200x800 with 1 Axes>"
      ],
      "image/png": "[encoded data removed]"
     },
     "metadata": {},
     "output_type": "display_data"
    }
   ],
   "execution_count": 10
  },
  {
   "metadata": {
    "ExecuteTime": {
     "end_time": "2024-05-27T19:28:55.238459Z",
     "start_time": "2024-05-27T19:28:55.233489Z"
    }
   },
   "cell_type": "code",
   "source": [
    "# Get some statistics\n",
    "newsiness_df['newsiness'].describe()"
   ],
   "id": "c7cc71d2c678beba",
   "outputs": [
    {
     "data": {
      "text/plain": [
       "count    4838.000000\n",
       "mean        2.200360\n",
       "std         0.691717\n",
       "min         1.100894\n",
       "25%         1.732549\n",
       "50%         2.010163\n",
       "75%         2.492280\n",
       "max         7.202365\n",
       "Name: newsiness, dtype: float64"
      ]
     },
     "execution_count": 11,
     "metadata": {},
     "output_type": "execute_result"
    }
   ],
   "execution_count": 11
  },
  {
   "metadata": {
    "ExecuteTime": {
     "end_time": "2024-05-27T19:28:55.286979Z",
     "start_time": "2024-05-27T19:28:55.238459Z"
    }
   },
   "cell_type": "code",
   "source": [
    "# Let's sample some headlines from the highest newsiness hour\n",
    "df[df['halfhour'] == newsiness_df[newsiness_df['newsiness'] == newsiness_df['newsiness'].max()]['halfhour'].values[0]].sample(10)"
   ],
   "id": "897e03aba94352d6",
   "outputs": [
    {
     "data": {
      "text/plain": [
       "                                                      title  \\\n",
       "13581621  Youngkin vetoes Virginia contraception accessi...   \n",
       "13894234  Operation Oust Joe Biden is Very Real- Democra...   \n",
       "13690629  Feeling good about feeling bad, or how guilt c...   \n",
       "13718487  Airbnb carbon monoxide detector mandate would ...   \n",
       "13885967  Michael Cohen resumes testimony, with closing ...   \n",
       "13660424  Bill Maher Nails What's at the Heart of the Le...   \n",
       "13735759  Despite apology, Sean 'Diddy' Combs faces peri...   \n",
       "13882943  MLB power rankings: AL team's rise from the as...   \n",
       "13794882  TikTok influencers sue U.S. government Eight T...   \n",
       "13745881  Illinois Bill Would Punish Teachers for Sexual...   \n",
       "\n",
       "                    halfhour  \n",
       "13581621 2024-05-20 15:00:00  \n",
       "13894234 2024-05-20 15:00:00  \n",
       "13690629 2024-05-20 15:00:00  \n",
       "13718487 2024-05-20 15:00:00  \n",
       "13885967 2024-05-20 15:00:00  \n",
       "13660424 2024-05-20 15:00:00  \n",
       "13735759 2024-05-20 15:00:00  \n",
       "13882943 2024-05-20 15:00:00  \n",
       "13794882 2024-05-20 15:00:00  \n",
       "13745881 2024-05-20 15:00:00  "
      ],
      "text/html": [
       "<div>\n",
       "<style scoped>\n",
       "    .dataframe tbody tr th:only-of-type {\n",
       "        vertical-align: middle;\n",
       "    }\n",
       "\n",
       "    .dataframe tbody tr th {\n",
       "        vertical-align: top;\n",
       "    }\n",
       "\n",
       "    .dataframe thead th {\n",
       "        text-align: right;\n",
       "    }\n",
       "</style>\n",
       "<table border=\"1\" class=\"dataframe\">\n",
       "  <thead>\n",
       "    <tr style=\"text-align: right;\">\n",
       "      <th></th>\n",
       "      <th>title</th>\n",
       "      <th>halfhour</th>\n",
       "    </tr>\n",
       "  </thead>\n",
       "  <tbody>\n",
       "    <tr>\n",
       "      <th>13581621</th>\n",
       "      <td>Youngkin vetoes Virginia contraception accessi...</td>\n",
       "      <td>2024-05-20 15:00:00</td>\n",
       "    </tr>\n",
       "    <tr>\n",
       "      <th>13894234</th>\n",
       "      <td>Operation Oust Joe Biden is Very Real- Democra...</td>\n",
       "      <td>2024-05-20 15:00:00</td>\n",
       "    </tr>\n",
       "    <tr>\n",
       "      <th>13690629</th>\n",
       "      <td>Feeling good about feeling bad, or how guilt c...</td>\n",
       "      <td>2024-05-20 15:00:00</td>\n",
       "    </tr>\n",
       "    <tr>\n",
       "      <th>13718487</th>\n",
       "      <td>Airbnb carbon monoxide detector mandate would ...</td>\n",
       "      <td>2024-05-20 15:00:00</td>\n",
       "    </tr>\n",
       "    <tr>\n",
       "      <th>13885967</th>\n",
       "      <td>Michael Cohen resumes testimony, with closing ...</td>\n",
       "      <td>2024-05-20 15:00:00</td>\n",
       "    </tr>\n",
       "    <tr>\n",
       "      <th>13660424</th>\n",
       "      <td>Bill Maher Nails What's at the Heart of the Le...</td>\n",
       "      <td>2024-05-20 15:00:00</td>\n",
       "    </tr>\n",
       "    <tr>\n",
       "      <th>13735759</th>\n",
       "      <td>Despite apology, Sean 'Diddy' Combs faces peri...</td>\n",
       "      <td>2024-05-20 15:00:00</td>\n",
       "    </tr>\n",
       "    <tr>\n",
       "      <th>13882943</th>\n",
       "      <td>MLB power rankings: AL team's rise from the as...</td>\n",
       "      <td>2024-05-20 15:00:00</td>\n",
       "    </tr>\n",
       "    <tr>\n",
       "      <th>13794882</th>\n",
       "      <td>TikTok influencers sue U.S. government Eight T...</td>\n",
       "      <td>2024-05-20 15:00:00</td>\n",
       "    </tr>\n",
       "    <tr>\n",
       "      <th>13745881</th>\n",
       "      <td>Illinois Bill Would Punish Teachers for Sexual...</td>\n",
       "      <td>2024-05-20 15:00:00</td>\n",
       "    </tr>\n",
       "  </tbody>\n",
       "</table>\n",
       "</div>"
      ]
     },
     "execution_count": 12,
     "metadata": {},
     "output_type": "execute_result"
    }
   ],
   "execution_count": 12
  },
  {
   "metadata": {
    "ExecuteTime": {
     "end_time": "2024-05-27T19:28:55.295180Z",
     "start_time": "2024-05-27T19:28:55.286979Z"
    }
   },
   "cell_type": "code",
   "source": [
    "# Now create a column of the day of the week\n",
    "newsiness_df['day'] = newsiness_df['halfhour'].dt.day_name()\n",
    "# Convert the \"hours\" column, which is actually halfhour to the hour of the day to an integer representing the 24 hour clock (00, 30, 60, 90, etc)\n",
    "newsiness_df['halfhour'] = newsiness_df['halfhour'].dt.hour * 60 + newsiness_df['halfhour'].dt.minute\n",
    "\n",
    "# Create a df of group by hour and day and take the mean of the newsiness and the median of the newsiness\n",
    "newsiness_df = newsiness_df.groupby(['halfhour', 'day'])['newsiness'].agg(['mean', 'median', 'std']).reset_index()\n",
    "newsiness_df.head()"
   ],
   "id": "b870ec143a13f25f",
   "outputs": [
    {
     "data": {
      "text/plain": [
       "   halfhour       day      mean    median       std\n",
       "0         0    Friday  1.942678  1.883297  0.522981\n",
       "1         0    Monday  2.410457  2.325975  0.622616\n",
       "2         0  Saturday  2.407826  2.154275  0.735628\n",
       "3         0    Sunday  2.225565  2.126182  0.611258\n",
       "4         0  Thursday  2.200948  2.055531  0.591653"
      ],
      "text/html": [
       "<div>\n",
       "<style scoped>\n",
       "    .dataframe tbody tr th:only-of-type {\n",
       "        vertical-align: middle;\n",
       "    }\n",
       "\n",
       "    .dataframe tbody tr th {\n",
       "        vertical-align: top;\n",
       "    }\n",
       "\n",
       "    .dataframe thead th {\n",
       "        text-align: right;\n",
       "    }\n",
       "</style>\n",
       "<table border=\"1\" class=\"dataframe\">\n",
       "  <thead>\n",
       "    <tr style=\"text-align: right;\">\n",
       "      <th></th>\n",
       "      <th>halfhour</th>\n",
       "      <th>day</th>\n",
       "      <th>mean</th>\n",
       "      <th>median</th>\n",
       "      <th>std</th>\n",
       "    </tr>\n",
       "  </thead>\n",
       "  <tbody>\n",
       "    <tr>\n",
       "      <th>0</th>\n",
       "      <td>0</td>\n",
       "      <td>Friday</td>\n",
       "      <td>1.942678</td>\n",
       "      <td>1.883297</td>\n",
       "      <td>0.522981</td>\n",
       "    </tr>\n",
       "    <tr>\n",
       "      <th>1</th>\n",
       "      <td>0</td>\n",
       "      <td>Monday</td>\n",
       "      <td>2.410457</td>\n",
       "      <td>2.325975</td>\n",
       "      <td>0.622616</td>\n",
       "    </tr>\n",
       "    <tr>\n",
       "      <th>2</th>\n",
       "      <td>0</td>\n",
       "      <td>Saturday</td>\n",
       "      <td>2.407826</td>\n",
       "      <td>2.154275</td>\n",
       "      <td>0.735628</td>\n",
       "    </tr>\n",
       "    <tr>\n",
       "      <th>3</th>\n",
       "      <td>0</td>\n",
       "      <td>Sunday</td>\n",
       "      <td>2.225565</td>\n",
       "      <td>2.126182</td>\n",
       "      <td>0.611258</td>\n",
       "    </tr>\n",
       "    <tr>\n",
       "      <th>4</th>\n",
       "      <td>0</td>\n",
       "      <td>Thursday</td>\n",
       "      <td>2.200948</td>\n",
       "      <td>2.055531</td>\n",
       "      <td>0.591653</td>\n",
       "    </tr>\n",
       "  </tbody>\n",
       "</table>\n",
       "</div>"
      ]
     },
     "execution_count": 13,
     "metadata": {},
     "output_type": "execute_result"
    }
   ],
   "execution_count": 13
  },
  {
   "metadata": {
    "ExecuteTime": {
     "end_time": "2024-05-27T19:28:55.807275Z",
     "start_time": "2024-05-27T19:28:55.295180Z"
    }
   },
   "cell_type": "code",
   "source": "newsiness_df.to_csv('../newsiness.csv', index=False)",
   "id": "71a56a61a98d41c5",
   "outputs": [
    {
     "ename": "PermissionError",
     "evalue": "[Errno 13] Permission denied: '../newsiness.csv'",
     "output_type": "error",
     "traceback": [
      "\u001B[1;31m---------------------------------------------------------------------------\u001B[0m",
      "\u001B[1;31mPermissionError\u001B[0m                           Traceback (most recent call last)",
      "Cell \u001B[1;32mIn[14], line 1\u001B[0m\n\u001B[1;32m----> 1\u001B[0m \u001B[43mnewsiness_df\u001B[49m\u001B[38;5;241;43m.\u001B[39;49m\u001B[43mto_csv\u001B[49m\u001B[43m(\u001B[49m\u001B[38;5;124;43m'\u001B[39;49m\u001B[38;5;124;43m../newsiness.csv\u001B[39;49m\u001B[38;5;124;43m'\u001B[39;49m\u001B[43m,\u001B[49m\u001B[43m \u001B[49m\u001B[43mindex\u001B[49m\u001B[38;5;241;43m=\u001B[39;49m\u001B[38;5;28;43;01mFalse\u001B[39;49;00m\u001B[43m)\u001B[49m\n",
      "File \u001B[1;32m~\\Desktop\\_dev\\maudlin2\\venv\\Lib\\site-packages\\pandas\\util\\_decorators.py:333\u001B[0m, in \u001B[0;36mdeprecate_nonkeyword_arguments.<locals>.decorate.<locals>.wrapper\u001B[1;34m(*args, **kwargs)\u001B[0m\n\u001B[0;32m    327\u001B[0m \u001B[38;5;28;01mif\u001B[39;00m \u001B[38;5;28mlen\u001B[39m(args) \u001B[38;5;241m>\u001B[39m num_allow_args:\n\u001B[0;32m    328\u001B[0m     warnings\u001B[38;5;241m.\u001B[39mwarn(\n\u001B[0;32m    329\u001B[0m         msg\u001B[38;5;241m.\u001B[39mformat(arguments\u001B[38;5;241m=\u001B[39m_format_argument_list(allow_args)),\n\u001B[0;32m    330\u001B[0m         \u001B[38;5;167;01mFutureWarning\u001B[39;00m,\n\u001B[0;32m    331\u001B[0m         stacklevel\u001B[38;5;241m=\u001B[39mfind_stack_level(),\n\u001B[0;32m    332\u001B[0m     )\n\u001B[1;32m--> 333\u001B[0m \u001B[38;5;28;01mreturn\u001B[39;00m \u001B[43mfunc\u001B[49m\u001B[43m(\u001B[49m\u001B[38;5;241;43m*\u001B[39;49m\u001B[43margs\u001B[49m\u001B[43m,\u001B[49m\u001B[43m \u001B[49m\u001B[38;5;241;43m*\u001B[39;49m\u001B[38;5;241;43m*\u001B[39;49m\u001B[43mkwargs\u001B[49m\u001B[43m)\u001B[49m\n",
      "File \u001B[1;32m~\\Desktop\\_dev\\maudlin2\\venv\\Lib\\site-packages\\pandas\\core\\generic.py:3967\u001B[0m, in \u001B[0;36mNDFrame.to_csv\u001B[1;34m(self, path_or_buf, sep, na_rep, float_format, columns, header, index, index_label, mode, encoding, compression, quoting, quotechar, lineterminator, chunksize, date_format, doublequote, escapechar, decimal, errors, storage_options)\u001B[0m\n\u001B[0;32m   3956\u001B[0m df \u001B[38;5;241m=\u001B[39m \u001B[38;5;28mself\u001B[39m \u001B[38;5;28;01mif\u001B[39;00m \u001B[38;5;28misinstance\u001B[39m(\u001B[38;5;28mself\u001B[39m, ABCDataFrame) \u001B[38;5;28;01melse\u001B[39;00m \u001B[38;5;28mself\u001B[39m\u001B[38;5;241m.\u001B[39mto_frame()\n\u001B[0;32m   3958\u001B[0m formatter \u001B[38;5;241m=\u001B[39m DataFrameFormatter(\n\u001B[0;32m   3959\u001B[0m     frame\u001B[38;5;241m=\u001B[39mdf,\n\u001B[0;32m   3960\u001B[0m     header\u001B[38;5;241m=\u001B[39mheader,\n\u001B[1;32m   (...)\u001B[0m\n\u001B[0;32m   3964\u001B[0m     decimal\u001B[38;5;241m=\u001B[39mdecimal,\n\u001B[0;32m   3965\u001B[0m )\n\u001B[1;32m-> 3967\u001B[0m \u001B[38;5;28;01mreturn\u001B[39;00m \u001B[43mDataFrameRenderer\u001B[49m\u001B[43m(\u001B[49m\u001B[43mformatter\u001B[49m\u001B[43m)\u001B[49m\u001B[38;5;241;43m.\u001B[39;49m\u001B[43mto_csv\u001B[49m\u001B[43m(\u001B[49m\n\u001B[0;32m   3968\u001B[0m \u001B[43m    \u001B[49m\u001B[43mpath_or_buf\u001B[49m\u001B[43m,\u001B[49m\n\u001B[0;32m   3969\u001B[0m \u001B[43m    \u001B[49m\u001B[43mlineterminator\u001B[49m\u001B[38;5;241;43m=\u001B[39;49m\u001B[43mlineterminator\u001B[49m\u001B[43m,\u001B[49m\n\u001B[0;32m   3970\u001B[0m \u001B[43m    \u001B[49m\u001B[43msep\u001B[49m\u001B[38;5;241;43m=\u001B[39;49m\u001B[43msep\u001B[49m\u001B[43m,\u001B[49m\n\u001B[0;32m   3971\u001B[0m \u001B[43m    \u001B[49m\u001B[43mencoding\u001B[49m\u001B[38;5;241;43m=\u001B[39;49m\u001B[43mencoding\u001B[49m\u001B[43m,\u001B[49m\n\u001B[0;32m   3972\u001B[0m \u001B[43m    \u001B[49m\u001B[43merrors\u001B[49m\u001B[38;5;241;43m=\u001B[39;49m\u001B[43merrors\u001B[49m\u001B[43m,\u001B[49m\n\u001B[0;32m   3973\u001B[0m \u001B[43m    \u001B[49m\u001B[43mcompression\u001B[49m\u001B[38;5;241;43m=\u001B[39;49m\u001B[43mcompression\u001B[49m\u001B[43m,\u001B[49m\n\u001B[0;32m   3974\u001B[0m \u001B[43m    \u001B[49m\u001B[43mquoting\u001B[49m\u001B[38;5;241;43m=\u001B[39;49m\u001B[43mquoting\u001B[49m\u001B[43m,\u001B[49m\n\u001B[0;32m   3975\u001B[0m \u001B[43m    \u001B[49m\u001B[43mcolumns\u001B[49m\u001B[38;5;241;43m=\u001B[39;49m\u001B[43mcolumns\u001B[49m\u001B[43m,\u001B[49m\n\u001B[0;32m   3976\u001B[0m \u001B[43m    \u001B[49m\u001B[43mindex_label\u001B[49m\u001B[38;5;241;43m=\u001B[39;49m\u001B[43mindex_label\u001B[49m\u001B[43m,\u001B[49m\n\u001B[0;32m   3977\u001B[0m \u001B[43m    \u001B[49m\u001B[43mmode\u001B[49m\u001B[38;5;241;43m=\u001B[39;49m\u001B[43mmode\u001B[49m\u001B[43m,\u001B[49m\n\u001B[0;32m   3978\u001B[0m \u001B[43m    \u001B[49m\u001B[43mchunksize\u001B[49m\u001B[38;5;241;43m=\u001B[39;49m\u001B[43mchunksize\u001B[49m\u001B[43m,\u001B[49m\n\u001B[0;32m   3979\u001B[0m \u001B[43m    \u001B[49m\u001B[43mquotechar\u001B[49m\u001B[38;5;241;43m=\u001B[39;49m\u001B[43mquotechar\u001B[49m\u001B[43m,\u001B[49m\n\u001B[0;32m   3980\u001B[0m \u001B[43m    \u001B[49m\u001B[43mdate_format\u001B[49m\u001B[38;5;241;43m=\u001B[39;49m\u001B[43mdate_format\u001B[49m\u001B[43m,\u001B[49m\n\u001B[0;32m   3981\u001B[0m \u001B[43m    \u001B[49m\u001B[43mdoublequote\u001B[49m\u001B[38;5;241;43m=\u001B[39;49m\u001B[43mdoublequote\u001B[49m\u001B[43m,\u001B[49m\n\u001B[0;32m   3982\u001B[0m \u001B[43m    \u001B[49m\u001B[43mescapechar\u001B[49m\u001B[38;5;241;43m=\u001B[39;49m\u001B[43mescapechar\u001B[49m\u001B[43m,\u001B[49m\n\u001B[0;32m   3983\u001B[0m \u001B[43m    \u001B[49m\u001B[43mstorage_options\u001B[49m\u001B[38;5;241;43m=\u001B[39;49m\u001B[43mstorage_options\u001B[49m\u001B[43m,\u001B[49m\n\u001B[0;32m   3984\u001B[0m \u001B[43m\u001B[49m\u001B[43m)\u001B[49m\n",
      "File \u001B[1;32m~\\Desktop\\_dev\\maudlin2\\venv\\Lib\\site-packages\\pandas\\io\\formats\\format.py:1014\u001B[0m, in \u001B[0;36mDataFrameRenderer.to_csv\u001B[1;34m(self, path_or_buf, encoding, sep, columns, index_label, mode, compression, quoting, quotechar, lineterminator, chunksize, date_format, doublequote, escapechar, errors, storage_options)\u001B[0m\n\u001B[0;32m    993\u001B[0m     created_buffer \u001B[38;5;241m=\u001B[39m \u001B[38;5;28;01mFalse\u001B[39;00m\n\u001B[0;32m    995\u001B[0m csv_formatter \u001B[38;5;241m=\u001B[39m CSVFormatter(\n\u001B[0;32m    996\u001B[0m     path_or_buf\u001B[38;5;241m=\u001B[39mpath_or_buf,\n\u001B[0;32m    997\u001B[0m     lineterminator\u001B[38;5;241m=\u001B[39mlineterminator,\n\u001B[1;32m   (...)\u001B[0m\n\u001B[0;32m   1012\u001B[0m     formatter\u001B[38;5;241m=\u001B[39m\u001B[38;5;28mself\u001B[39m\u001B[38;5;241m.\u001B[39mfmt,\n\u001B[0;32m   1013\u001B[0m )\n\u001B[1;32m-> 1014\u001B[0m \u001B[43mcsv_formatter\u001B[49m\u001B[38;5;241;43m.\u001B[39;49m\u001B[43msave\u001B[49m\u001B[43m(\u001B[49m\u001B[43m)\u001B[49m\n\u001B[0;32m   1016\u001B[0m \u001B[38;5;28;01mif\u001B[39;00m created_buffer:\n\u001B[0;32m   1017\u001B[0m     \u001B[38;5;28;01massert\u001B[39;00m \u001B[38;5;28misinstance\u001B[39m(path_or_buf, StringIO)\n",
      "File \u001B[1;32m~\\Desktop\\_dev\\maudlin2\\venv\\Lib\\site-packages\\pandas\\io\\formats\\csvs.py:251\u001B[0m, in \u001B[0;36mCSVFormatter.save\u001B[1;34m(self)\u001B[0m\n\u001B[0;32m    247\u001B[0m \u001B[38;5;250m\u001B[39m\u001B[38;5;124;03m\"\"\"\u001B[39;00m\n\u001B[0;32m    248\u001B[0m \u001B[38;5;124;03mCreate the writer & save.\u001B[39;00m\n\u001B[0;32m    249\u001B[0m \u001B[38;5;124;03m\"\"\"\u001B[39;00m\n\u001B[0;32m    250\u001B[0m \u001B[38;5;66;03m# apply compression and byte/text conversion\u001B[39;00m\n\u001B[1;32m--> 251\u001B[0m \u001B[38;5;28;01mwith\u001B[39;00m \u001B[43mget_handle\u001B[49m\u001B[43m(\u001B[49m\n\u001B[0;32m    252\u001B[0m \u001B[43m    \u001B[49m\u001B[38;5;28;43mself\u001B[39;49m\u001B[38;5;241;43m.\u001B[39;49m\u001B[43mfilepath_or_buffer\u001B[49m\u001B[43m,\u001B[49m\n\u001B[0;32m    253\u001B[0m \u001B[43m    \u001B[49m\u001B[38;5;28;43mself\u001B[39;49m\u001B[38;5;241;43m.\u001B[39;49m\u001B[43mmode\u001B[49m\u001B[43m,\u001B[49m\n\u001B[0;32m    254\u001B[0m \u001B[43m    \u001B[49m\u001B[43mencoding\u001B[49m\u001B[38;5;241;43m=\u001B[39;49m\u001B[38;5;28;43mself\u001B[39;49m\u001B[38;5;241;43m.\u001B[39;49m\u001B[43mencoding\u001B[49m\u001B[43m,\u001B[49m\n\u001B[0;32m    255\u001B[0m \u001B[43m    \u001B[49m\u001B[43merrors\u001B[49m\u001B[38;5;241;43m=\u001B[39;49m\u001B[38;5;28;43mself\u001B[39;49m\u001B[38;5;241;43m.\u001B[39;49m\u001B[43merrors\u001B[49m\u001B[43m,\u001B[49m\n\u001B[0;32m    256\u001B[0m \u001B[43m    \u001B[49m\u001B[43mcompression\u001B[49m\u001B[38;5;241;43m=\u001B[39;49m\u001B[38;5;28;43mself\u001B[39;49m\u001B[38;5;241;43m.\u001B[39;49m\u001B[43mcompression\u001B[49m\u001B[43m,\u001B[49m\n\u001B[0;32m    257\u001B[0m \u001B[43m    \u001B[49m\u001B[43mstorage_options\u001B[49m\u001B[38;5;241;43m=\u001B[39;49m\u001B[38;5;28;43mself\u001B[39;49m\u001B[38;5;241;43m.\u001B[39;49m\u001B[43mstorage_options\u001B[49m\u001B[43m,\u001B[49m\n\u001B[0;32m    258\u001B[0m \u001B[43m\u001B[49m\u001B[43m)\u001B[49m \u001B[38;5;28;01mas\u001B[39;00m handles:\n\u001B[0;32m    259\u001B[0m     \u001B[38;5;66;03m# Note: self.encoding is irrelevant here\u001B[39;00m\n\u001B[0;32m    260\u001B[0m     \u001B[38;5;28mself\u001B[39m\u001B[38;5;241m.\u001B[39mwriter \u001B[38;5;241m=\u001B[39m csvlib\u001B[38;5;241m.\u001B[39mwriter(\n\u001B[0;32m    261\u001B[0m         handles\u001B[38;5;241m.\u001B[39mhandle,\n\u001B[0;32m    262\u001B[0m         lineterminator\u001B[38;5;241m=\u001B[39m\u001B[38;5;28mself\u001B[39m\u001B[38;5;241m.\u001B[39mlineterminator,\n\u001B[1;32m   (...)\u001B[0m\n\u001B[0;32m    267\u001B[0m         quotechar\u001B[38;5;241m=\u001B[39m\u001B[38;5;28mself\u001B[39m\u001B[38;5;241m.\u001B[39mquotechar,\n\u001B[0;32m    268\u001B[0m     )\n\u001B[0;32m    270\u001B[0m     \u001B[38;5;28mself\u001B[39m\u001B[38;5;241m.\u001B[39m_save()\n",
      "File \u001B[1;32m~\\Desktop\\_dev\\maudlin2\\venv\\Lib\\site-packages\\pandas\\io\\common.py:873\u001B[0m, in \u001B[0;36mget_handle\u001B[1;34m(path_or_buf, mode, encoding, compression, memory_map, is_text, errors, storage_options)\u001B[0m\n\u001B[0;32m    868\u001B[0m \u001B[38;5;28;01melif\u001B[39;00m \u001B[38;5;28misinstance\u001B[39m(handle, \u001B[38;5;28mstr\u001B[39m):\n\u001B[0;32m    869\u001B[0m     \u001B[38;5;66;03m# Check whether the filename is to be opened in binary mode.\u001B[39;00m\n\u001B[0;32m    870\u001B[0m     \u001B[38;5;66;03m# Binary mode does not support 'encoding' and 'newline'.\u001B[39;00m\n\u001B[0;32m    871\u001B[0m     \u001B[38;5;28;01mif\u001B[39;00m ioargs\u001B[38;5;241m.\u001B[39mencoding \u001B[38;5;129;01mand\u001B[39;00m \u001B[38;5;124m\"\u001B[39m\u001B[38;5;124mb\u001B[39m\u001B[38;5;124m\"\u001B[39m \u001B[38;5;129;01mnot\u001B[39;00m \u001B[38;5;129;01min\u001B[39;00m ioargs\u001B[38;5;241m.\u001B[39mmode:\n\u001B[0;32m    872\u001B[0m         \u001B[38;5;66;03m# Encoding\u001B[39;00m\n\u001B[1;32m--> 873\u001B[0m         handle \u001B[38;5;241m=\u001B[39m \u001B[38;5;28;43mopen\u001B[39;49m\u001B[43m(\u001B[49m\n\u001B[0;32m    874\u001B[0m \u001B[43m            \u001B[49m\u001B[43mhandle\u001B[49m\u001B[43m,\u001B[49m\n\u001B[0;32m    875\u001B[0m \u001B[43m            \u001B[49m\u001B[43mioargs\u001B[49m\u001B[38;5;241;43m.\u001B[39;49m\u001B[43mmode\u001B[49m\u001B[43m,\u001B[49m\n\u001B[0;32m    876\u001B[0m \u001B[43m            \u001B[49m\u001B[43mencoding\u001B[49m\u001B[38;5;241;43m=\u001B[39;49m\u001B[43mioargs\u001B[49m\u001B[38;5;241;43m.\u001B[39;49m\u001B[43mencoding\u001B[49m\u001B[43m,\u001B[49m\n\u001B[0;32m    877\u001B[0m \u001B[43m            \u001B[49m\u001B[43merrors\u001B[49m\u001B[38;5;241;43m=\u001B[39;49m\u001B[43merrors\u001B[49m\u001B[43m,\u001B[49m\n\u001B[0;32m    878\u001B[0m \u001B[43m            \u001B[49m\u001B[43mnewline\u001B[49m\u001B[38;5;241;43m=\u001B[39;49m\u001B[38;5;124;43m\"\u001B[39;49m\u001B[38;5;124;43m\"\u001B[39;49m\u001B[43m,\u001B[49m\n\u001B[0;32m    879\u001B[0m \u001B[43m        \u001B[49m\u001B[43m)\u001B[49m\n\u001B[0;32m    880\u001B[0m     \u001B[38;5;28;01melse\u001B[39;00m:\n\u001B[0;32m    881\u001B[0m         \u001B[38;5;66;03m# Binary mode\u001B[39;00m\n\u001B[0;32m    882\u001B[0m         handle \u001B[38;5;241m=\u001B[39m \u001B[38;5;28mopen\u001B[39m(handle, ioargs\u001B[38;5;241m.\u001B[39mmode)\n",
      "\u001B[1;31mPermissionError\u001B[0m: [Errno 13] Permission denied: '../newsiness.csv'"
     ]
    }
   ],
   "execution_count": 14
  },
  {
   "metadata": {},
   "cell_type": "code",
   "source": [
    "# Plot the mean newsiness by hour\n",
    "import seaborn as sns\n",
    "import matplotlib.pyplot as plt\n",
    "\n",
    "# Colorblind friendly\n",
    "sns.set_palette('colorblind')\n",
    "plt.figure(figsize=(12, 8))\n",
    "sns.lineplot(data=newsiness_df, x='halfhour', y='mean', hue='day', lw=3)\n",
    "# Add annotations for the days\n",
    "for i, day in enumerate(newsiness_df['day'].unique()):\n",
    "    plt.text(23, newsiness_df[newsiness_df['day'] == day]['mean'].values[-1], day, fontsize=12,\n",
    "             color=sns.color_palette('colorblind')[i])\n",
    "plt.show()"
   ],
   "id": "5903e9b6ece82a5c",
   "outputs": [],
   "execution_count": null
  },
  {
   "metadata": {},
   "cell_type": "code",
   "source": [
    "# Plot the median newsiness by hour\n",
    "plt.figure(figsize=(12, 8))\n",
    "sns.lineplot(data=newsiness_df, x='halfhour', y='median', hue='day', lw=3)\n",
    "# Add a title\n",
    "plt.title('Median Newsiness by Hour')\n",
    "# Add annotations for the days\n",
    "for i, day in enumerate(newsiness_df['day'].unique()):\n",
    "    plt.text(23, newsiness_df[newsiness_df['day'] == day]['median'].values[-1], day, fontsize=12,\n",
    "             color=sns.color_palette('colorblind')[i])\n",
    "plt.show()\n"
   ],
   "id": "6f090ea66943b1cc",
   "outputs": [],
   "execution_count": null
  },
  {
   "metadata": {},
   "cell_type": "code",
   "source": [
    "# Rank the days by newsiness\n",
    "newsiness_df.groupby('day')['mean'].mean().sort_values(ascending=False)"
   ],
   "id": "a952c7d0639779ed",
   "outputs": [],
   "execution_count": null
  },
  {
   "metadata": {},
   "cell_type": "code",
   "source": [
    "# Rank the hours by newsiness\n",
    "newsiness_df.groupby('halfhour')['mean'].mean().sort_values(ascending=False)"
   ],
   "id": "936d13e011af7092",
   "outputs": [],
   "execution_count": null
  },
  {
   "metadata": {},
   "cell_type": "code",
   "source": [
    "# Find the newsiest hourday\n",
    "newsiness_df[newsiness_df['mean'] == newsiness_df['mean'].max()]"
   ],
   "id": "1757332962a41b2a",
   "outputs": [],
   "execution_count": null
  },
  {
   "metadata": {},
   "cell_type": "code",
   "source": [
    "# Group by morning, afternoon, evening, night and find the busiest period on which day\n",
    "newsiness_df['period'] = pd.cut(newsiness_df['halfhour'], bins=[v * 60 for v in [0, 6, 12, 18, 24]],\n",
    "                                labels=['night', 'morning', 'afternoon', 'evening'])\n",
    "newsiness_df.groupby(['day', 'period'])['mean'].mean().sort_values(ascending=False)\n"
   ],
   "id": "cd451796fa0a063e",
   "outputs": [],
   "execution_count": null
  },
  {
   "metadata": {},
   "cell_type": "code",
   "source": "",
   "id": "d9743a4b20a431de",
   "outputs": [],
   "execution_count": null
  },
  {
   "metadata": {},
   "cell_type": "code",
   "source": "",
   "id": "ecbf125d3f3867ed",
   "outputs": [],
   "execution_count": null
  }
 ],
 "metadata": {
  "kernelspec": {
   "display_name": "Python 3",
   "language": "python",
   "name": "python3"
  },
  "language_info": {
   "codemirror_mode": {
    "name": "ipython",
    "version": 2
   },
   "file_extension": ".py",
   "mimetype": "text/x-python",
   "name": "python",
   "nbconvert_exporter": "python",
   "pygments_lexer": "ipython2",
   "version": "2.7.6"
  }
 },
 "nbformat": 4,
 "nbformat_minor": 5
}
