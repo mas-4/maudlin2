{
 "cells": [
  {
   "cell_type": "code",
   "id": "initial_id",
   "metadata": {
    "collapsed": true,
    "ExecuteTime": {
     "end_time": "2024-04-06T18:02:13.486718Z",
     "start_time": "2024-04-06T18:01:46.406266Z"
    }
   },
   "source": [
    "from app.models import Session, Headline, Agency, Article\n",
    "import pandas as pd\n",
    "\n",
    "bad = [\n",
    "    \"Bloomberg\",\n",
    "    \"CBS News\",\n",
    "    \"Daily Mail\",\n",
    "    \"Foreign Affairs\",\n",
    "    \"France24\",\n",
    "    \"Info Wars\",\n",
    "    \"National Post\",\n",
    "    \"PBS\",\n",
    "    \"Politico\",\n",
    "    \"Radio Free Europe Radio Liberty\",\n",
    "    \"Real Clear Politics\",\n",
    "    \"Reuters\",\n",
    "    \"Rolling Stone\",\n",
    "    \"Salon\",\n",
    "    \"Scripps News\",\n",
    "    \"Slate\",\n",
    "    \"South China Morning Post\",\n",
    "    \"Sydney Morning Herald\",\n",
    "    \"The Epoch Times\",\n",
    "    \"The Federalist\",\n",
    "    \"The Independent\",\n",
    "    \"The Japan Times\",\n",
    "    \"The Moscow Times\",\n",
    "    \"The National Interest\",\n",
    "    \"The Sun\",\n",
    "    \"The Washington Post\",\n",
    "    \"The Week\",\n",
    "    \"Toronto Sun\",\n",
    "    \"Vox\",\n",
    "]\n",
    "\n",
    "headlines = []\n",
    "good = []\n",
    "with Session() as s:\n",
    "    agencies = s.query(Agency).all()\n",
    "    for agency in agencies:\n",
    "        new = s.query(Headline.title).join(Headline.article).filter(Article.agency_id == agency.id).order_by(\n",
    "            Headline.first_accessed.desc()).limit(50).all()\n",
    "        new = [[agency.name, headline[0]] for headline in new]\n",
    "        if agency.name in bad:\n",
    "            headlines.extend(new)\n",
    "        else:\n",
    "            good.extend(new[:20])"
   ],
   "execution_count": 3,
   "outputs": []
  },
  {
   "metadata": {
    "ExecuteTime": {
     "end_time": "2024-04-06T18:02:40.497861Z",
     "start_time": "2024-04-06T18:02:40.373449Z"
    }
   },
   "cell_type": "code",
   "source": [
    "from app.analysis.preprocessing import preprocess\n",
    "\n",
    "df = pd.DataFrame(headlines, columns=['agency', 'input_text'])\n",
    "df['target_text'] = df['input_text'].apply(preprocess)\n",
    "df.to_csv('headlines.csv')\n",
    "df = pd.DataFrame(good, columns=['agency', 'input_text'])\n",
    "df['target_text'] = df['input_text'].apply(preprocess)\n",
    "df.to_csv('good.csv')"
   ],
   "id": "f147a1e13202d785",
   "execution_count": 4,
   "outputs": []
  },
  {
   "metadata": {},
   "cell_type": "code",
   "execution_count": null,
   "source": "",
   "id": "724a766947af9ba",
   "outputs": []
  }
 ],
 "metadata": {
  "kernelspec": {
   "display_name": "Python 3",
   "language": "python",
   "name": "python3"
  },
  "language_info": {
   "codemirror_mode": {
    "name": "ipython",
    "version": 2
   },
   "file_extension": ".py",
   "mimetype": "text/x-python",
   "name": "python",
   "nbconvert_exporter": "python",
   "pygments_lexer": "ipython2",
   "version": "2.7.6"
  }
 },
 "nbformat": 4,
 "nbformat_minor": 5
}
