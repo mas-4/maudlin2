{
 "cells": [
  {
   "cell_type": "code",
   "execution_count": 5,
   "id": "initial_id",
   "metadata": {
    "collapsed": true,
    "ExecuteTime": {
     "end_time": "2024-02-24T18:05:52.048697Z",
     "start_time": "2024-02-24T18:05:51.804212Z"
    }
   },
   "source": [
    "from app.models import Session, Article, Agency, Headline\n",
    "import pandas as pd"
   ],
   "outputs": []
  },
  {
   "cell_type": "code",
   "source": [
    "s = Session()"
   ],
   "metadata": {
    "collapsed": false,
    "ExecuteTime": {
     "end_time": "2024-02-24T18:11:45.676019Z",
     "start_time": "2024-02-24T18:11:45.673207Z"
    }
   },
   "id": "d70f630ace6963e6",
   "execution_count": 21,
   "outputs": []
  },
  {
   "cell_type": "code",
   "source": [
    "a = s.query(Agency).filter(Agency.name=='Foreign Policy').first()\n",
    "a"
   ],
   "metadata": {
    "collapsed": false,
    "ExecuteTime": {
     "end_time": "2024-02-24T18:11:45.921378Z",
     "start_time": "2024-02-24T18:11:45.916059Z"
    }
   },
   "id": "c392da860206264d",
   "execution_count": 22,
   "outputs": []
  },
  {
   "cell_type": "code",
   "source": [
    "a.articles.all()"
   ],
   "metadata": {
    "collapsed": false,
    "ExecuteTime": {
     "end_time": "2024-02-24T18:11:46.594230Z",
     "start_time": "2024-02-24T18:11:46.583162Z"
    }
   },
   "id": "a0a261aeacb02e81",
   "execution_count": 23,
   "outputs": []
  },
  {
   "cell_type": "code",
   "source": [
    "data = []\n",
    "for article in a.articles.all():\n",
    "    for h in article.headlines:\n",
    "        data.append({\n",
    "            'headline': h.title,\n",
    "            'url': article.url,\n",
    "            'vader': h.vader_compound,\n",
    "            'afinn': h.afinn,\n",
    "            'first_accessed': article.first_accessed\n",
    "        })\n",
    "df = pd.DataFrame(data)\n",
    "df"
   ],
   "metadata": {
    "collapsed": false,
    "ExecuteTime": {
     "end_time": "2024-02-24T18:11:47.930012Z",
     "start_time": "2024-02-24T18:11:47.044483Z"
    }
   },
   "id": "6cf75c4c4401bf7f",
   "execution_count": 24,
   "outputs": []
  },
  {
   "cell_type": "code",
   "source": [
    "df[df['vader'].isna()]"
   ],
   "metadata": {
    "collapsed": false,
    "ExecuteTime": {
     "end_time": "2024-02-24T18:06:37.523544Z",
     "start_time": "2024-02-24T18:06:37.523070Z"
    }
   },
   "id": "ac87b3cbb3d84f14",
   "execution_count": 10,
   "outputs": []
  },
  {
   "cell_type": "code",
   "source": [
    "a.current_vader()"
   ],
   "metadata": {
    "collapsed": false,
    "ExecuteTime": {
     "end_time": "2024-02-24T18:07:26.301388Z",
     "start_time": "2024-02-24T18:07:26.261056Z"
    }
   },
   "id": "a46a5952571f8889",
   "execution_count": 12,
   "outputs": []
  },
  {
   "cell_type": "code",
   "source": [
    "first_date = s.query(Article.first_accessed).filter_by(agency_id=a.id).order_by(Article.first_accessed.asc()).first()[0]\n",
    "first_date"
   ],
   "metadata": {
    "collapsed": false,
    "ExecuteTime": {
     "end_time": "2024-02-24T18:10:11.404389Z",
     "start_time": "2024-02-24T18:10:11.367385Z"
    }
   },
   "id": "93f3523c373e48f6",
   "execution_count": 15,
   "outputs": []
  },
  {
   "cell_type": "code",
   "source": [
    "from datetime import timedelta as td\n",
    "from app.utils import Constants\n",
    "s.query(Headline.vader_compound).join(Article, Article.id == Headline.article_id).filter_by(agency_id=a.id).filter(Article.first_accessed > first_date + td(days=1)).all()"
   ],
   "metadata": {
    "collapsed": false,
    "ExecuteTime": {
     "end_time": "2024-02-24T18:11:12.169233Z",
     "start_time": "2024-02-24T18:11:12.119632Z"
    }
   },
   "id": "c29ac9d6b20b655a",
   "execution_count": 18,
   "outputs": []
  },
  {
   "cell_type": "code",
   "source": [],
   "metadata": {
    "collapsed": false
   },
   "id": "58b432f423dfebe1",
   "execution_count": null,
   "outputs": []
  }
 ],
 "metadata": {
  "kernelspec": {
   "display_name": "Python 3",
   "language": "python",
   "name": "python3"
  },
  "language_info": {
   "codemirror_mode": {
    "name": "ipython",
    "version": 2
   },
   "file_extension": ".py",
   "mimetype": "text/x-python",
   "name": "python",
   "nbconvert_exporter": "python",
   "pygments_lexer": "ipython2",
   "version": "2.7.6"
  }
 },
 "nbformat": 4,
 "nbformat_minor": 5
}
