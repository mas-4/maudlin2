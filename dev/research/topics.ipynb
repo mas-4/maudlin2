{
 "cells": [
  {
   "cell_type": "code",
   "execution_count": 1,
   "id": "initial_id",
   "metadata": {
    "ExecuteTime": {
     "end_time": "2024-03-09T16:51:09.177173Z",
     "start_time": "2024-03-09T16:51:07.387369Z"
    }
   },
   "source": [
    "from app.models import Session, Headline, Topic, Article\n",
    "from app.analysis.topics import load_and_update_topics, score_headline\n",
    "\n",
    "topics = load_and_update_topics()\n",
    "topics"
   ],
   "outputs": []
  },
  {
   "cell_type": "code",
   "execution_count": 2,
   "id": "54bead06-71f0-47f8-b9e6-45d651adab5d",
   "metadata": {
    "ExecuteTime": {
     "end_time": "2024-03-09T16:51:12.754943Z",
     "start_time": "2024-03-09T16:51:09.178115Z"
    }
   },
   "source": [
    "from sqlalchemy import or_\n",
    "import pandas as pd\n",
    "from functools import partial\n",
    "topic = topics[0]\n",
    "with Session() as s:\n",
    "        headlines = s.query(Headline).join(Headline.article).filter(\n",
    "            or_(*[Headline.title.like(f\"%{word}%\") for word in topic.essential]),\n",
    "            Article.topic_id == None\n",
    "        ).all()\n",
    "        df = pd.DataFrame([(h.id, h.title) for h in headlines], columns=['id', 'title'])\n",
    "        df['score'] = df['title'].apply(partial(score_headline, topic=topic))\n",
    "df"
   ],
   "outputs": []
  },
  {
   "cell_type": "code",
   "execution_count": 3,
   "id": "19513f9d-55be-4919-a980-669b4d017dc9",
   "metadata": {
    "ExecuteTime": {
     "end_time": "2024-03-09T16:51:12.761770Z",
     "start_time": "2024-03-09T16:51:12.755918Z"
    }
   },
   "source": [
    "df.describe()"
   ],
   "outputs": []
  },
  {
   "cell_type": "code",
   "execution_count": 4,
   "id": "04e51ea6-7abd-47ae-bed4-02cf51723855",
   "metadata": {
    "ExecuteTime": {
     "end_time": "2024-03-09T16:51:12.765300Z",
     "start_time": "2024-03-09T16:51:12.762482Z"
    }
   },
   "source": [
    "df = df.sort_values(by='score', ascending=False)"
   ],
   "outputs": []
  },
  {
   "cell_type": "code",
   "execution_count": 5,
   "id": "2fc4dd16-b356-4576-984f-66672560091d",
   "metadata": {
    "ExecuteTime": {
     "end_time": "2024-03-09T16:51:12.772400Z",
     "start_time": "2024-03-09T16:51:12.766672Z"
    }
   },
   "source": [
    "df.sort_values(by='score', ascending=True)[df['score'] > 0.02]"
   ],
   "outputs": []
  },
  {
   "cell_type": "code",
   "source": [
    "import matplotlib.pyplot as plt\n",
    "\n",
    "plt.hist(df[df['score'] > 0]['score'], bins=20)"
   ],
   "metadata": {
    "collapsed": false,
    "ExecuteTime": {
     "end_time": "2024-03-09T16:52:03.158629Z",
     "start_time": "2024-03-09T16:52:03.041717Z"
    }
   },
   "id": "ae896640bf5962d0",
   "execution_count": 7,
   "outputs": []
  },
  {
   "cell_type": "code",
   "source": [],
   "metadata": {
    "collapsed": false,
    "ExecuteTime": {
     "end_time": "2024-03-09T16:51:13.145202Z",
     "start_time": "2024-03-09T16:51:13.142650Z"
    }
   },
   "id": "d57bac952799acfd",
   "execution_count": 6,
   "outputs": []
  }
 ],
 "metadata": {
  "kernelspec": {
   "display_name": "Python 3 (ipykernel)",
   "language": "python",
   "name": "python3"
  },
  "language_info": {
   "codemirror_mode": {
    "name": "ipython",
    "version": 3
   },
   "file_extension": ".py",
   "mimetype": "text/x-python",
   "name": "python",
   "nbconvert_exporter": "python",
   "pygments_lexer": "ipython3",
   "version": "3.12.1"
  }
 },
 "nbformat": 4,
 "nbformat_minor": 5
}
