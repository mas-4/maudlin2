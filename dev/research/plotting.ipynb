{
 "cells": [
  {
   "cell_type": "code",
   "id": "initial_id",
   "metadata": {
    "collapsed": true,
    "ExecuteTime": {
     "end_time": "2024-07-13T17:00:00.581049Z",
     "start_time": "2024-07-13T16:59:59.911748Z"
    }
   },
   "source": [
    "from app.site.data import DataHandler\n",
    "\n",
    "data = DataHandler()"
   ],
   "outputs": [
    {
     "name": "stdout",
     "output_type": "stream",
     "text": [
      "[2024-07-13 12:59:59,912:    INFO] \u001B[90mInitializing DataHandler...\u001B[0m (data.py:25)\n",
      "[2024-07-13 13:00:00,551:    INFO] \u001B[90mQueried 0 headlines for main df.\u001B[0m (data.py:206)\n"
     ]
    },
    {
     "ename": "AttributeError",
     "evalue": "Can only use .dt accessor with datetimelike values",
     "output_type": "error",
     "traceback": [
      "\u001B[1;31m---------------------------------------------------------------------------\u001B[0m",
      "\u001B[1;31mAttributeError\u001B[0m                            Traceback (most recent call last)",
      "Cell \u001B[1;32mIn[2], line 3\u001B[0m\n\u001B[0;32m      1\u001B[0m \u001B[38;5;28;01mfrom\u001B[39;00m \u001B[38;5;21;01mapp\u001B[39;00m\u001B[38;5;21;01m.\u001B[39;00m\u001B[38;5;21;01msite\u001B[39;00m\u001B[38;5;21;01m.\u001B[39;00m\u001B[38;5;21;01mdata\u001B[39;00m \u001B[38;5;28;01mimport\u001B[39;00m DataHandler\n\u001B[1;32m----> 3\u001B[0m data \u001B[38;5;241m=\u001B[39m \u001B[43mDataHandler\u001B[49m\u001B[43m(\u001B[49m\u001B[43m)\u001B[49m\n",
      "File \u001B[1;32m~\\Desktop\\_dev\\maudlin2\\app\\site\\data.py:29\u001B[0m, in \u001B[0;36mDataHandler.__init__\u001B[1;34m(self, types)\u001B[0m\n\u001B[0;32m     27\u001B[0m \u001B[38;5;28;01mif\u001B[39;00m types \u001B[38;5;129;01mis\u001B[39;00m \u001B[38;5;28;01mNone\u001B[39;00m:\n\u001B[0;32m     28\u001B[0m     types \u001B[38;5;241m=\u001B[39m \u001B[38;5;28mlist\u001B[39m(DataTypes)\n\u001B[1;32m---> 29\u001B[0m \u001B[38;5;28mself\u001B[39m\u001B[38;5;241m.\u001B[39mmain_headline_df \u001B[38;5;241m=\u001B[39m \u001B[38;5;28;43mself\u001B[39;49m\u001B[38;5;241;43m.\u001B[39;49m\u001B[43mget_main_headline_df\u001B[49m\u001B[43m(\u001B[49m\u001B[43m)\u001B[49m\n\u001B[0;32m     30\u001B[0m \u001B[38;5;28mself\u001B[39m\u001B[38;5;241m.\u001B[39mnewsiness_df \u001B[38;5;241m=\u001B[39m pd\u001B[38;5;241m.\u001B[39mread_csv(Constants\u001B[38;5;241m.\u001B[39mPaths\u001B[38;5;241m.\u001B[39mNEWSINESS_DATA)\n\u001B[0;32m     31\u001B[0m \u001B[38;5;28mself\u001B[39m\u001B[38;5;241m.\u001B[39melection_data \u001B[38;5;241m=\u001B[39m \u001B[38;5;28mself\u001B[39m\u001B[38;5;241m.\u001B[39mget_election_data()\n",
      "File \u001B[1;32m~\\Desktop\\_dev\\maudlin2\\app\\site\\data.py:208\u001B[0m, in \u001B[0;36mDataHandler.get_main_headline_df\u001B[1;34m()\u001B[0m\n\u001B[0;32m    205\u001B[0m df \u001B[38;5;241m=\u001B[39m pd\u001B[38;5;241m.\u001B[39mDataFrame(data, columns\u001B[38;5;241m=\u001B[39m\u001B[38;5;28mlist\u001B[39m(cols\u001B[38;5;241m.\u001B[39mkeys()))\n\u001B[0;32m    206\u001B[0m logger\u001B[38;5;241m.\u001B[39minfo(\u001B[38;5;124m\"\u001B[39m\u001B[38;5;124mQueried \u001B[39m\u001B[38;5;132;01m%i\u001B[39;00m\u001B[38;5;124m headlines for main df.\u001B[39m\u001B[38;5;124m\"\u001B[39m, \u001B[38;5;28mlen\u001B[39m(df))\n\u001B[1;32m--> 208\u001B[0m df[\u001B[38;5;124m'\u001B[39m\u001B[38;5;124mfirst_accessed\u001B[39m\u001B[38;5;124m'\u001B[39m] \u001B[38;5;241m=\u001B[39m \u001B[43mdf\u001B[49m\u001B[43m[\u001B[49m\u001B[38;5;124;43m'\u001B[39;49m\u001B[38;5;124;43mfirst_accessed\u001B[39;49m\u001B[38;5;124;43m'\u001B[39;49m\u001B[43m]\u001B[49m\u001B[38;5;241;43m.\u001B[39;49m\u001B[43mdt\u001B[49m\u001B[38;5;241m.\u001B[39mtz_localize(\u001B[38;5;124m'\u001B[39m\u001B[38;5;124mutc\u001B[39m\u001B[38;5;124m'\u001B[39m)\u001B[38;5;241m.\u001B[39mdt\u001B[38;5;241m.\u001B[39mtz_convert(\u001B[38;5;124m'\u001B[39m\u001B[38;5;124mUS/Eastern\u001B[39m\u001B[38;5;124m'\u001B[39m)\n\u001B[0;32m    209\u001B[0m df[\u001B[38;5;124m'\u001B[39m\u001B[38;5;124mlast_accessed\u001B[39m\u001B[38;5;124m'\u001B[39m] \u001B[38;5;241m=\u001B[39m df[\u001B[38;5;124m'\u001B[39m\u001B[38;5;124mlast_accessed\u001B[39m\u001B[38;5;124m'\u001B[39m]\u001B[38;5;241m.\u001B[39mdt\u001B[38;5;241m.\u001B[39mtz_localize(\u001B[38;5;124m'\u001B[39m\u001B[38;5;124mutc\u001B[39m\u001B[38;5;124m'\u001B[39m)\u001B[38;5;241m.\u001B[39mdt\u001B[38;5;241m.\u001B[39mtz_convert(\u001B[38;5;124m'\u001B[39m\u001B[38;5;124mUS/Eastern\u001B[39m\u001B[38;5;124m'\u001B[39m)\n\u001B[0;32m    210\u001B[0m roundcol \u001B[38;5;241m=\u001B[39m [\u001B[38;5;124m'\u001B[39m\u001B[38;5;124mvader_compound\u001B[39m\u001B[38;5;124m'\u001B[39m, \u001B[38;5;124m'\u001B[39m\u001B[38;5;124mafinn\u001B[39m\u001B[38;5;124m'\u001B[39m, \u001B[38;5;124m'\u001B[39m\u001B[38;5;124mtopic_score\u001B[39m\u001B[38;5;124m'\u001B[39m]\n",
      "File \u001B[1;32m~\\Desktop\\_dev\\maudlin2\\venv\\Lib\\site-packages\\pandas\\core\\generic.py:6299\u001B[0m, in \u001B[0;36mNDFrame.__getattr__\u001B[1;34m(self, name)\u001B[0m\n\u001B[0;32m   6292\u001B[0m \u001B[38;5;28;01mif\u001B[39;00m (\n\u001B[0;32m   6293\u001B[0m     name \u001B[38;5;129;01mnot\u001B[39;00m \u001B[38;5;129;01min\u001B[39;00m \u001B[38;5;28mself\u001B[39m\u001B[38;5;241m.\u001B[39m_internal_names_set\n\u001B[0;32m   6294\u001B[0m     \u001B[38;5;129;01mand\u001B[39;00m name \u001B[38;5;129;01mnot\u001B[39;00m \u001B[38;5;129;01min\u001B[39;00m \u001B[38;5;28mself\u001B[39m\u001B[38;5;241m.\u001B[39m_metadata\n\u001B[0;32m   6295\u001B[0m     \u001B[38;5;129;01mand\u001B[39;00m name \u001B[38;5;129;01mnot\u001B[39;00m \u001B[38;5;129;01min\u001B[39;00m \u001B[38;5;28mself\u001B[39m\u001B[38;5;241m.\u001B[39m_accessors\n\u001B[0;32m   6296\u001B[0m     \u001B[38;5;129;01mand\u001B[39;00m \u001B[38;5;28mself\u001B[39m\u001B[38;5;241m.\u001B[39m_info_axis\u001B[38;5;241m.\u001B[39m_can_hold_identifiers_and_holds_name(name)\n\u001B[0;32m   6297\u001B[0m ):\n\u001B[0;32m   6298\u001B[0m     \u001B[38;5;28;01mreturn\u001B[39;00m \u001B[38;5;28mself\u001B[39m[name]\n\u001B[1;32m-> 6299\u001B[0m \u001B[38;5;28;01mreturn\u001B[39;00m \u001B[38;5;28;43mobject\u001B[39;49m\u001B[38;5;241;43m.\u001B[39;49m\u001B[38;5;21;43m__getattribute__\u001B[39;49m\u001B[43m(\u001B[49m\u001B[38;5;28;43mself\u001B[39;49m\u001B[43m,\u001B[49m\u001B[43m \u001B[49m\u001B[43mname\u001B[49m\u001B[43m)\u001B[49m\n",
      "File \u001B[1;32m~\\Desktop\\_dev\\maudlin2\\venv\\Lib\\site-packages\\pandas\\core\\accessor.py:224\u001B[0m, in \u001B[0;36mCachedAccessor.__get__\u001B[1;34m(self, obj, cls)\u001B[0m\n\u001B[0;32m    221\u001B[0m \u001B[38;5;28;01mif\u001B[39;00m obj \u001B[38;5;129;01mis\u001B[39;00m \u001B[38;5;28;01mNone\u001B[39;00m:\n\u001B[0;32m    222\u001B[0m     \u001B[38;5;66;03m# we're accessing the attribute of the class, i.e., Dataset.geo\u001B[39;00m\n\u001B[0;32m    223\u001B[0m     \u001B[38;5;28;01mreturn\u001B[39;00m \u001B[38;5;28mself\u001B[39m\u001B[38;5;241m.\u001B[39m_accessor\n\u001B[1;32m--> 224\u001B[0m accessor_obj \u001B[38;5;241m=\u001B[39m \u001B[38;5;28;43mself\u001B[39;49m\u001B[38;5;241;43m.\u001B[39;49m\u001B[43m_accessor\u001B[49m\u001B[43m(\u001B[49m\u001B[43mobj\u001B[49m\u001B[43m)\u001B[49m\n\u001B[0;32m    225\u001B[0m \u001B[38;5;66;03m# Replace the property with the accessor object. Inspired by:\u001B[39;00m\n\u001B[0;32m    226\u001B[0m \u001B[38;5;66;03m# https://www.pydanny.com/cached-property.html\u001B[39;00m\n\u001B[0;32m    227\u001B[0m \u001B[38;5;66;03m# We need to use object.__setattr__ because we overwrite __setattr__ on\u001B[39;00m\n\u001B[0;32m    228\u001B[0m \u001B[38;5;66;03m# NDFrame\u001B[39;00m\n\u001B[0;32m    229\u001B[0m \u001B[38;5;28mobject\u001B[39m\u001B[38;5;241m.\u001B[39m\u001B[38;5;21m__setattr__\u001B[39m(obj, \u001B[38;5;28mself\u001B[39m\u001B[38;5;241m.\u001B[39m_name, accessor_obj)\n",
      "File \u001B[1;32m~\\Desktop\\_dev\\maudlin2\\venv\\Lib\\site-packages\\pandas\\core\\indexes\\accessors.py:643\u001B[0m, in \u001B[0;36mCombinedDatetimelikeProperties.__new__\u001B[1;34m(cls, data)\u001B[0m\n\u001B[0;32m    640\u001B[0m \u001B[38;5;28;01melif\u001B[39;00m \u001B[38;5;28misinstance\u001B[39m(data\u001B[38;5;241m.\u001B[39mdtype, PeriodDtype):\n\u001B[0;32m    641\u001B[0m     \u001B[38;5;28;01mreturn\u001B[39;00m PeriodProperties(data, orig)\n\u001B[1;32m--> 643\u001B[0m \u001B[38;5;28;01mraise\u001B[39;00m \u001B[38;5;167;01mAttributeError\u001B[39;00m(\u001B[38;5;124m\"\u001B[39m\u001B[38;5;124mCan only use .dt accessor with datetimelike values\u001B[39m\u001B[38;5;124m\"\u001B[39m)\n",
      "\u001B[1;31mAttributeError\u001B[0m: Can only use .dt accessor with datetimelike values"
     ]
    }
   ],
   "execution_count": 2
  },
  {
   "metadata": {
    "ExecuteTime": {
     "end_time": "2024-07-13T17:00:11.331937Z",
     "start_time": "2024-07-13T17:00:11.043383Z"
    }
   },
   "cell_type": "code",
   "source": [
    "import pandas as pd\n",
    "import numpy as np\n",
    "import matplotlib.pyplot as plt"
   ],
   "id": "21ae31740fb2c2d3",
   "outputs": [],
   "execution_count": 3
  },
  {
   "metadata": {
    "ExecuteTime": {
     "end_time": "2024-07-13T17:00:11.858085Z",
     "start_time": "2024-07-13T17:00:11.747735Z"
    }
   },
   "cell_type": "code",
   "source": [
    "from app.site.common import PathHandler\n",
    "from app.site.graphing import bias_colors\n",
    "from app.utils import Bias"
   ],
   "id": "5b32778903cd96fc",
   "outputs": [],
   "execution_count": 4
  },
  {
   "metadata": {
    "ExecuteTime": {
     "end_time": "2024-07-13T17:00:12.490315Z",
     "start_time": "2024-07-13T17:00:12.488219Z"
    }
   },
   "cell_type": "code",
   "source": "",
   "id": "5a923fd8a3e8adad",
   "outputs": [],
   "execution_count": 4
  },
  {
   "metadata": {
    "ExecuteTime": {
     "end_time": "2024-07-13T17:00:13.780552Z",
     "start_time": "2024-07-13T17:00:13.749151Z"
    }
   },
   "cell_type": "code",
   "source": [
    "df = data.agency_data\n",
    "fig, ax = plt.subplots(figsize=(13, 6))\n",
    "df['Bias'] = df['Bias'].map({str(b): b.value for b in list(Bias)})\n",
    "# get counts of each bias\n",
    "bias_counts = df['Bias'].value_counts().sort_index()\n",
    "# horizontal bar plot with stacked from left single row\n",
    "left = 0\n",
    "for i in bias_counts.index:\n",
    "    n = bias_counts[i]\n",
    "    ax.barh(n, 0, color=bias_colors[i], left=left)\n",
    "    left += n\n",
    "ax.set_title('Agency Bias Distribution')\n",
    "ax.set_ylabel('Bias')\n",
    "ax.set_xlabel('Agency')\n",
    "plt.tight_layout()\n",
    "plt.savefig(PathHandler(PathHandler.FileNames.agency_distribution).build)"
   ],
   "id": "fce5d723c4c934d3",
   "outputs": [
    {
     "ename": "NameError",
     "evalue": "name 'data' is not defined",
     "output_type": "error",
     "traceback": [
      "\u001B[1;31m---------------------------------------------------------------------------\u001B[0m",
      "\u001B[1;31mNameError\u001B[0m                                 Traceback (most recent call last)",
      "Cell \u001B[1;32mIn[5], line 1\u001B[0m\n\u001B[1;32m----> 1\u001B[0m df \u001B[38;5;241m=\u001B[39m \u001B[43mdata\u001B[49m\u001B[38;5;241m.\u001B[39magency_data\n\u001B[0;32m      2\u001B[0m fig, ax \u001B[38;5;241m=\u001B[39m plt\u001B[38;5;241m.\u001B[39msubplots(figsize\u001B[38;5;241m=\u001B[39m(\u001B[38;5;241m13\u001B[39m, \u001B[38;5;241m6\u001B[39m))\n\u001B[0;32m      3\u001B[0m df[\u001B[38;5;124m'\u001B[39m\u001B[38;5;124mBias\u001B[39m\u001B[38;5;124m'\u001B[39m] \u001B[38;5;241m=\u001B[39m df[\u001B[38;5;124m'\u001B[39m\u001B[38;5;124mBias\u001B[39m\u001B[38;5;124m'\u001B[39m]\u001B[38;5;241m.\u001B[39mmap({\u001B[38;5;28mstr\u001B[39m(b): b\u001B[38;5;241m.\u001B[39mvalue \u001B[38;5;28;01mfor\u001B[39;00m b \u001B[38;5;129;01min\u001B[39;00m \u001B[38;5;28mlist\u001B[39m(Bias)})\n",
      "\u001B[1;31mNameError\u001B[0m: name 'data' is not defined"
     ]
    }
   ],
   "execution_count": 5
  },
  {
   "metadata": {
    "ExecuteTime": {
     "end_time": "2024-07-13T17:00:14.367545Z",
     "start_time": "2024-07-13T17:00:14.359268Z"
    }
   },
   "cell_type": "code",
   "source": "bias_counts",
   "id": "71c9fb394f5eee8a",
   "outputs": [
    {
     "ename": "NameError",
     "evalue": "name 'bias_counts' is not defined",
     "output_type": "error",
     "traceback": [
      "\u001B[1;31m---------------------------------------------------------------------------\u001B[0m",
      "\u001B[1;31mNameError\u001B[0m                                 Traceback (most recent call last)",
      "Cell \u001B[1;32mIn[6], line 1\u001B[0m\n\u001B[1;32m----> 1\u001B[0m \u001B[43mbias_counts\u001B[49m\n",
      "\u001B[1;31mNameError\u001B[0m: name 'bias_counts' is not defined"
     ]
    }
   ],
   "execution_count": 6
  },
  {
   "metadata": {
    "ExecuteTime": {
     "end_time": "2024-07-13T17:00:14.602107Z",
     "start_time": "2024-07-13T17:00:14.557600Z"
    }
   },
   "cell_type": "code",
   "source": [
    "# Correcting the code to use a stacked horizontal bar chart\n",
    "import numpy as np\n",
    "\n",
    "# Values for each group\n",
    "left_values = [31, 0, 31]  # Left and Right are 31%\n",
    "center_values = [0, 38, 0]  # Center is 38%\n",
    "\n",
    "# The position of the bars on the y-axis\n",
    "positions = [0]\n",
    "\n",
    "# Plotting the bars\n",
    "fig, ax = plt.subplots(figsize=(10, 2))\n",
    "\n",
    "# In order to stack the bars side-by-side, we need to specify the left parameter\n",
    "# The left parameter shifts the start point of the bar.\n",
    "ax.barh(positions, left_values, color='blue', edgecolor='black', height=0.5)\n",
    "ax.barh(positions, center_values, left=left_values, color='white', edgecolor='black', height=0.5)\n",
    "ax.barh(positions, left_values, left=np.add(left_values, center_values), color='red', edgecolor='black', height=0.5)\n",
    "\n",
    "# Removing y-ticks\n",
    "ax.set_yticks([])\n",
    "\n",
    "# Setting the x-ticks to be percentages\n",
    "ax.set_xticks([0, 20, 40, 60, 80, 100])\n",
    "ax.set_xticklabels(['0%', '20%', '40%', '60%', '80%', '100%'])\n",
    "\n",
    "# Setting the x-axis label\n",
    "ax.set_xlabel('Percentage')\n",
    "\n",
    "# Setting the limit for the x-axis\n",
    "ax.set_xlim(0, 100)\n",
    "\n",
    "# Removing the spines\n",
    "ax.spines['right'].set_visible(False)\n",
    "ax.spines['top'].set_visible(False)\n",
    "ax.spines['left'].set_visible(False)\n",
    "\n",
    "# Removing the y-axis altogether\n",
    "ax.yaxis.set_visible(False)\n",
    "\n",
    "# To add the values on the bars, we calculate the position for each label\n",
    "for i, v in enumerate(left_values):\n",
    "    if v > 0:  # Left part\n",
    "        ax.text(v / 2, positions[0], f'{v}%', color='white', fontweight='bold', va='center', ha='center')\n",
    "    if center_values[i] > 0:  # Center part\n",
    "        ax.text(v + center_values[i] / 2, positions[0], f'{center_values[i]}%', color='black', fontweight='bold', va='center', ha='center')\n",
    "    if left_values[i] > 0 and i == len(left_values) - 1:  # Right part\n",
    "        ax.text(v + center_values[i] + v / 2, positions[0], f'{v}%', color='white', fontweight='bold', va='center', ha='center')\n",
    "\n",
    "# Show plot\n",
    "plt.show()\n"
   ],
   "id": "5937ee8cf5795753",
   "outputs": [
    {
     "data": {
      "text/plain": [
       "<Figure size 1000x200 with 1 Axes>"
      ],
      "image/png": "[encoded data removed]"
     },
     "metadata": {},
     "output_type": "display_data"
    }
   ],
   "execution_count": 7
  },
  {
   "metadata": {
    "ExecuteTime": {
     "end_time": "2024-07-13T17:00:14.749363Z",
     "start_time": "2024-07-13T17:00:14.719845Z"
    }
   },
   "cell_type": "code",
   "source": [
    "# Corrected code for a stacked horizontal bar chart with the \"Left\" section visible\n",
    "\n",
    "# We will create three separate bars and use their widths to simulate stacking\n",
    "\n",
    "# The base start for the bars\n",
    "base = [0]\n",
    "\n",
    "# The left section starts at 0\n",
    "left_section = [31]  # Width of the left section\n",
    "\n",
    "# The center section starts where the left section ends\n",
    "center_section = [31]  # It needs to start where the left section ends\n",
    "\n",
    "# The right section starts where the center section ends\n",
    "right_section = [69]  # It needs to start where the left + center ends\n",
    "\n",
    "# Plotting the bars\n",
    "fig, ax = plt.subplots(figsize=(10, 1))\n",
    "\n",
    "# Plot the left section\n",
    "ax.barh(base, left_section, color='blue', edgecolor='black', height=0.5)\n",
    "\n",
    "# Plot the center section, starting after the left section\n",
    "ax.barh(base, center_values, left=left_section, color='white', edgecolor='black', height=0.5)\n",
    "\n",
    "# Plot the right section, starting after the center section\n",
    "ax.barh(base, left_section, left=right_section, color='red', edgecolor='black', height=0.5)\n",
    "\n",
    "# Removing y-ticks\n",
    "ax.set_yticks([])\n",
    "\n",
    "# Setting the x-ticks to be percentages\n",
    "ax.set_xticks([0, 20, 40, 60, 80, 100])\n",
    "ax.set_xticklabels(['0%', '20%', '40%', '60%', '80%', '100%'])\n",
    "\n",
    "# Setting the x-axis label\n",
    "ax.set_xlabel('Percentage')\n",
    "\n",
    "# Setting the limit for the x-axis\n",
    "ax.set_xlim(0, 100)\n",
    "\n",
    "# Removing the spines\n",
    "ax.spines['right'].set_visible(False)\n",
    "ax.spines['top'].set_visible(False)\n",
    "ax.spines['left'].set_visible(False)\n",
    "\n",
    "# Removing the y-axis altogether\n",
    "ax.yaxis.set_visible(False)\n",
    "\n",
    "# Adding the values on the bars\n",
    "ax.text(left_section[0] / 2, base[0], f'{left_section[0]}%', color='white', fontweight='bold', va='center', ha='center')\n",
    "ax.text(left_section[0] + center_values[0] / 2, base[0], f'{center_values[0]}%', color='black', fontweight='bold', va='center', ha='center')\n",
    "ax.text(left_section[0] + center_values[0] + left_section[0] / 2, base[0], f'{left_section[0]}%', color='white', fontweight='bold', va='center', ha='center')\n",
    "\n",
    "# Show plot\n",
    "plt.show()\n"
   ],
   "id": "8593f2e59d1be9ba",
   "outputs": [
    {
     "data": {
      "text/plain": [
       "<Figure size 1000x100 with 1 Axes>"
      ],
      "image/png": "[encoded data removed]"
     },
     "metadata": {},
     "output_type": "display_data"
    }
   ],
   "execution_count": 8
  },
  {
   "metadata": {
    "ExecuteTime": {
     "end_time": "2024-07-13T17:00:15.252312Z",
     "start_time": "2024-07-13T17:00:15.236359Z"
    }
   },
   "cell_type": "code",
   "source": [
    "df = data.agency_data.copy()\n",
    "df['Bias'] = df['Bias'].map({str(b): b.value for b in list(Bias)})\n",
    "df['Credibility'] = df['Credibility'].map({str(b): b.value for b in list(Bias)})\n",
    "colors = [\"#FF0000\", \"#FF4500\", \"#FFA500\", \"#FFFF00\", \"#9ACD32\", \"#008000\"]\n",
    "\n",
    "fig, ax = plt.subplots(figsize=(10, 1))\n",
    "\n",
    "bias_colors = ['#3b4cc0', '#7092f3', '#aac7fd', '#dddddd', '#f7b89c', '#e7755b', '#b40426']\n",
    "base = 0  # Since we only have a single axis we only need a single left value, right?\n",
    "bias_counts = df['Bias'].value_counts().sort_index()\n",
    "for i in bias_counts.index:\n",
    "    n = bias_counts[i]\n",
    "    n = n / bias_counts.sum() * 100  # Get the percentage of the whole\n",
    "    ax.barh(' ', n, color=bias_colors[i+3], edgecolor='black', height=0.5, left=base)\n",
    "\n",
    "# Removing y-ticks\n",
    "ax.set_yticks([])\n",
    "\n",
    "# Setting the x-ticks to be percentages\n",
    "ax.set_xticks([0, 20, 40, 60, 80, 100])\n",
    "ax.set_xticklabels(['0%', '20%', '40%', '60%', '80%', '100%'])\n",
    "\n",
    "ax.set_title(\"Agency Bias Distribution\")\n",
    "\n",
    "# Setting the limit for the x-axis\n",
    "ax.set_xlim(0, 100)\n",
    "\n",
    "# Removing the spines\n",
    "ax.spines['right'].set_visible(False)\n",
    "ax.spines['top'].set_visible(False)\n",
    "ax.spines['left'].set_visible(False)\n",
    "\n",
    "# Removing the y-axis altogether\n",
    "ax.yaxis.set_visible(False)\n",
    "\n",
    "# Show plot\n",
    "plt.show()\n"
   ],
   "id": "d9d516e1fe857193",
   "outputs": [
    {
     "ename": "NameError",
     "evalue": "name 'data' is not defined",
     "output_type": "error",
     "traceback": [
      "\u001B[1;31m---------------------------------------------------------------------------\u001B[0m",
      "\u001B[1;31mNameError\u001B[0m                                 Traceback (most recent call last)",
      "Cell \u001B[1;32mIn[9], line 1\u001B[0m\n\u001B[1;32m----> 1\u001B[0m df \u001B[38;5;241m=\u001B[39m \u001B[43mdata\u001B[49m\u001B[38;5;241m.\u001B[39magency_data\u001B[38;5;241m.\u001B[39mcopy()\n\u001B[0;32m      2\u001B[0m df[\u001B[38;5;124m'\u001B[39m\u001B[38;5;124mBias\u001B[39m\u001B[38;5;124m'\u001B[39m] \u001B[38;5;241m=\u001B[39m df[\u001B[38;5;124m'\u001B[39m\u001B[38;5;124mBias\u001B[39m\u001B[38;5;124m'\u001B[39m]\u001B[38;5;241m.\u001B[39mmap({\u001B[38;5;28mstr\u001B[39m(b): b\u001B[38;5;241m.\u001B[39mvalue \u001B[38;5;28;01mfor\u001B[39;00m b \u001B[38;5;129;01min\u001B[39;00m \u001B[38;5;28mlist\u001B[39m(Bias)})\n\u001B[0;32m      3\u001B[0m df[\u001B[38;5;124m'\u001B[39m\u001B[38;5;124mCredibility\u001B[39m\u001B[38;5;124m'\u001B[39m] \u001B[38;5;241m=\u001B[39m df[\u001B[38;5;124m'\u001B[39m\u001B[38;5;124mCredibility\u001B[39m\u001B[38;5;124m'\u001B[39m]\u001B[38;5;241m.\u001B[39mmap({\u001B[38;5;28mstr\u001B[39m(b): b\u001B[38;5;241m.\u001B[39mvalue \u001B[38;5;28;01mfor\u001B[39;00m b \u001B[38;5;129;01min\u001B[39;00m \u001B[38;5;28mlist\u001B[39m(Bias)})\n",
      "\u001B[1;31mNameError\u001B[0m: name 'data' is not defined"
     ]
    }
   ],
   "execution_count": 9
  },
  {
   "metadata": {
    "ExecuteTime": {
     "end_time": "2024-07-13T17:00:15.290809Z",
     "start_time": "2024-07-13T17:00:15.275120Z"
    }
   },
   "cell_type": "code",
   "source": [
    "from app.utils import Credibility\n",
    "df = data.agency_data.copy()\n",
    "df['Bias'] = df['Bias'].map({str(b): b.value for b in list(Bias)})\n",
    "df['Credibility'] = df['Credibility'].map({str(b): b.value for b in list(Credibility)})\n",
    "bias_colors = ['#3b4cc0', '#7092f3', '#aac7fd', '#dddddd', '#f7b89c', '#e7755b', '#b40426']\n",
    "credibility_colors = [\"#FF0000\", \"#FF4500\", \"#FFA500\", \"#FFFF00\", \"#9ACD32\", \"#008000\"]\n",
    "\n",
    "fig, (ax1, ax2) = plt.subplots(2, 1, figsize=(10, 5), gridspec_kw={'height_ratios': [5, 1]})\n",
    "\n",
    "bottom = pd.Series(np.zeros(len(df['Bias'].unique())), index=df['Bias'].sort_values().unique())\n",
    "for n in df['Credibility'].sort_values().unique():\n",
    "    # get the bias counts within this credibility\n",
    "    bias_counts = df[df['Credibility'] == n]['Bias'].value_counts().sort_index()\n",
    "    # convert bias_counts to percentages of the whole\n",
    "    bias_counts = bias_counts.reindex(bottom.index, fill_value=0)\n",
    "    ax1.bar(bias_counts.index, bias_counts, bottom=bottom, color=credibility_colors[n])\n",
    "    bottom += bias_counts\n",
    "    \n",
    "ax1.set_title(\"Credibility Distribution For Each Bias\")\n",
    "\n",
    "base = 0  # Since we only have a single axis we only need a single left value, right?\n",
    "bias_counts = df['Bias'].value_counts().sort_index()\n",
    "for i in bias_counts.index:\n",
    "    n = bias_counts[i]\n",
    "    n = n / bias_counts.sum() * 100  # Get the percentage of the whole\n",
    "    ax2.barh(' ', n, color=bias_colors[i+3], edgecolor='black', height=0.5, left=base)\n",
    "    base += n\n",
    "\n",
    "# Removing y-ticks\n",
    "ax2.set_yticks([])\n",
    "\n",
    "# Setting the x-ticks to be percentages\n",
    "ax2.set_xticks([0, 20, 40, 60, 80, 100])\n",
    "ax2.set_xticklabels(['0%', '20%', '40%', '60%', '80%', '100%'])\n",
    "\n",
    "ax2.set_title(\"Agency Bias Distribution\")\n",
    "\n",
    "ax2.set_xlim(0, 100)\n",
    "for spine in ['right', 'top', 'left']:\n",
    "    ax2.spines[spine].set_visible(False)\n",
    "ax2.yaxis.set_visible(False)\n",
    "\n",
    "plt.tight_layout()\n",
    "\n",
    "# Show plot\n",
    "plt.show()\n",
    "\n"
   ],
   "id": "8d751422c8fcc010",
   "outputs": [
    {
     "ename": "NameError",
     "evalue": "name 'data' is not defined",
     "output_type": "error",
     "traceback": [
      "\u001B[1;31m---------------------------------------------------------------------------\u001B[0m",
      "\u001B[1;31mNameError\u001B[0m                                 Traceback (most recent call last)",
      "Cell \u001B[1;32mIn[10], line 2\u001B[0m\n\u001B[0;32m      1\u001B[0m \u001B[38;5;28;01mfrom\u001B[39;00m \u001B[38;5;21;01mapp\u001B[39;00m\u001B[38;5;21;01m.\u001B[39;00m\u001B[38;5;21;01mutils\u001B[39;00m \u001B[38;5;28;01mimport\u001B[39;00m Credibility\n\u001B[1;32m----> 2\u001B[0m df \u001B[38;5;241m=\u001B[39m \u001B[43mdata\u001B[49m\u001B[38;5;241m.\u001B[39magency_data\u001B[38;5;241m.\u001B[39mcopy()\n\u001B[0;32m      3\u001B[0m df[\u001B[38;5;124m'\u001B[39m\u001B[38;5;124mBias\u001B[39m\u001B[38;5;124m'\u001B[39m] \u001B[38;5;241m=\u001B[39m df[\u001B[38;5;124m'\u001B[39m\u001B[38;5;124mBias\u001B[39m\u001B[38;5;124m'\u001B[39m]\u001B[38;5;241m.\u001B[39mmap({\u001B[38;5;28mstr\u001B[39m(b): b\u001B[38;5;241m.\u001B[39mvalue \u001B[38;5;28;01mfor\u001B[39;00m b \u001B[38;5;129;01min\u001B[39;00m \u001B[38;5;28mlist\u001B[39m(Bias)})\n\u001B[0;32m      4\u001B[0m df[\u001B[38;5;124m'\u001B[39m\u001B[38;5;124mCredibility\u001B[39m\u001B[38;5;124m'\u001B[39m] \u001B[38;5;241m=\u001B[39m df[\u001B[38;5;124m'\u001B[39m\u001B[38;5;124mCredibility\u001B[39m\u001B[38;5;124m'\u001B[39m]\u001B[38;5;241m.\u001B[39mmap({\u001B[38;5;28mstr\u001B[39m(b): b\u001B[38;5;241m.\u001B[39mvalue \u001B[38;5;28;01mfor\u001B[39;00m b \u001B[38;5;129;01min\u001B[39;00m \u001B[38;5;28mlist\u001B[39m(Credibility)})\n",
      "\u001B[1;31mNameError\u001B[0m: name 'data' is not defined"
     ]
    }
   ],
   "execution_count": 10
  },
  {
   "metadata": {
    "ExecuteTime": {
     "end_time": "2024-07-13T17:00:15.315731Z",
     "start_time": "2024-07-13T17:00:15.305512Z"
    }
   },
   "cell_type": "code",
   "source": "df['Credibility'].sort_values().unique()",
   "id": "edfbada5c0d2f840",
   "outputs": [
    {
     "ename": "NameError",
     "evalue": "name 'df' is not defined",
     "output_type": "error",
     "traceback": [
      "\u001B[1;31m---------------------------------------------------------------------------\u001B[0m",
      "\u001B[1;31mNameError\u001B[0m                                 Traceback (most recent call last)",
      "Cell \u001B[1;32mIn[11], line 1\u001B[0m\n\u001B[1;32m----> 1\u001B[0m \u001B[43mdf\u001B[49m[\u001B[38;5;124m'\u001B[39m\u001B[38;5;124mCredibility\u001B[39m\u001B[38;5;124m'\u001B[39m]\u001B[38;5;241m.\u001B[39msort_values()\u001B[38;5;241m.\u001B[39munique()\n",
      "\u001B[1;31mNameError\u001B[0m: name 'df' is not defined"
     ]
    }
   ],
   "execution_count": 11
  },
  {
   "metadata": {
    "ExecuteTime": {
     "end_time": "2024-07-13T17:00:15.341301Z",
     "start_time": "2024-07-13T17:00:15.332629Z"
    }
   },
   "cell_type": "code",
   "source": "np.zeros(len(df['Credibility'].unique()))",
   "id": "b7fb02664d947174",
   "outputs": [
    {
     "ename": "NameError",
     "evalue": "name 'df' is not defined",
     "output_type": "error",
     "traceback": [
      "\u001B[1;31m---------------------------------------------------------------------------\u001B[0m",
      "\u001B[1;31mNameError\u001B[0m                                 Traceback (most recent call last)",
      "Cell \u001B[1;32mIn[12], line 1\u001B[0m\n\u001B[1;32m----> 1\u001B[0m np\u001B[38;5;241m.\u001B[39mzeros(\u001B[38;5;28mlen\u001B[39m(\u001B[43mdf\u001B[49m[\u001B[38;5;124m'\u001B[39m\u001B[38;5;124mCredibility\u001B[39m\u001B[38;5;124m'\u001B[39m]\u001B[38;5;241m.\u001B[39munique()))\n",
      "\u001B[1;31mNameError\u001B[0m: name 'df' is not defined"
     ]
    }
   ],
   "execution_count": 12
  },
  {
   "metadata": {
    "ExecuteTime": {
     "end_time": "2024-07-13T17:00:15.380905Z",
     "start_time": "2024-07-13T17:00:15.361831Z"
    }
   },
   "cell_type": "code",
   "source": [
    "from app.utils import Credibility\n",
    "df = data.agency_data.copy()\n",
    "df['Bias'] = df['Bias'].map({str(b): b.value for b in list(Bias)})\n",
    "df['Credibility'] = df['Credibility'].map({str(b): b.value for b in list(Credibility)})\n",
    "bias_colors = ['#3b4cc0', '#7092f3', '#aac7fd', '#dddddd', '#f7b89c', '#e7755b', '#b40426']\n",
    "credibility_colors = [\"#FF0000\", \"#FF4500\", \"#FFA500\", \"#FFFF00\", \"#9ACD32\", \"#008000\"]\n",
    "\n",
    "fig, (ax1, ax2) = plt.subplots(2, 1, figsize=(10, 5), gridspec_kw={'height_ratios': [5, 1]})\n",
    "\n",
    "total_counts_by_bias = df['Bias'].value_counts().sort_index()\n",
    "\n",
    "# the bottom should start at 0.1\n",
    "bottom = pd.Series(np.zeros(len(df['Bias'].unique())), index=df['Bias'].sort_values().unique())\n",
    "# Loop through each credibility level\n",
    "for n in sorted(df['Credibility'].unique()):\n",
    "    # Get the counts of bias within this credibility level\n",
    "    bias_counts = df[df['Credibility'] == n]['Bias'].value_counts().sort_index()\n",
    "    # Reindex bias_counts to ensure it includes all bias levels (fills missing levels with 0)\n",
    "    bias_counts = bias_counts.reindex(total_counts_by_bias.index, fill_value=0)\n",
    "    # Convert counts to percentages of the total counts for each bias level\n",
    "    percentages = (bias_counts / total_counts_by_bias) * 100\n",
    "\n",
    "    # Plotting\n",
    "    ax1.bar(\n",
    "        bias_counts.index,\n",
    "        percentages,\n",
    "        edgecolor='black',\n",
    "        bottom=bottom,\n",
    "        color=credibility_colors[n],\n",
    "        label=str(Credibility(n)),\n",
    "        clip_on=False\n",
    "    )\n",
    "    \n",
    "    # Update the bottom for the next stack\n",
    "    bottom += percentages\n",
    "plt.subplots_adjust(right=1) \n",
    "ax1.legend(loc='center right', bbox_to_anchor=(0, 0.5),\n",
    "           frameon=True, facecolor='lightgray', \n",
    "          edgecolor='black', framealpha=0.9, fontsize='medium', \n",
    "          title='Credibility', title_fontsize='large', fancybox=True, shadow=True,\n",
    "          borderpad=1.2, labelspacing=1.5)\n",
    "\n",
    "# Get the mean credibility for each bias group\n",
    "mean_credibility = df.groupby('Bias')['Credibility'].mean()\n",
    "# Set a second y-axis with twinx for the credibility that is keyed to the max credibility\n",
    "ax3 = ax1.twinx()\n",
    "ax3.set_ylim(0, 5)\n",
    "# Plotting the mean credibility for each bias group\n",
    "# ax3.plot(mean_credibility.index, mean_credibility, color='black', linestyle='--', label='Mean Credibility')\n",
    "# Iterate through the points, plotting a scatter point with the mean credibility of a bias_color\n",
    "for i, credibility in mean_credibility.items():\n",
    "    ax3.scatter(i, credibility, color=bias_colors[i+3], s=500, edgecolor='black', zorder=10)\n",
    "    \n",
    "bias_labels = {b.value: str(b) for b in Bias}\n",
    "ax1.set_xticks(list(bias_labels.keys()))\n",
    "ax1.set_xticklabels(list(bias_labels.values()))\n",
    "\n",
    "ax1.set_title(\"Credibility Distribution For Each Bias\")\n",
    "\n",
    "##########################\n",
    "\n",
    "base = 0  # Since we only have a single axis we only need a single left value, right?\n",
    "bias_counts = df['Bias'].value_counts().sort_index()\n",
    "for i in bias_counts.index:\n",
    "    n = bias_counts[i]\n",
    "    n = n / bias_counts.sum() * 100  # Get the percentage of the whole\n",
    "    ax2.barh(' ', n, color=bias_colors[i+3], edgecolor='black', height=0.5, left=base, label=str(Bias(i)))\n",
    "    base += n\n",
    "\n",
    "# Removing y-ticks\n",
    "ax2.set_yticks([])\n",
    "\n",
    "# Setting the x-ticks to be percentages\n",
    "ax2.set_xticks([0, 20, 40, 60, 80, 100])\n",
    "ax2.set_xticklabels(['0%', '20%', '40%', '60%', '80%', '100%'])\n",
    "\n",
    "ax2.set_title(\"Agency Bias Distribution\")\n",
    "\n",
    "ax2.set_xlim(0, 100)\n",
    "\n",
    "\n",
    "for spine in ['right', 'top', 'left', 'bottom']:\n",
    "    ax1.spines[spine].set_visible(False)\n",
    "    ax2.spines[spine].set_visible(False)\n",
    "    ax3.spines[spine].set_visible(False)\n",
    "ax1.yaxis.set_visible(False)\n",
    "ax2.yaxis.set_visible(False)\n",
    "ax3.yaxis.set_visible(False)\n",
    "\n",
    "plt.tight_layout()\n",
    "\n",
    "# Show plot\n",
    "plt.show()\n",
    "\n"
   ],
   "id": "8c9e42fe585acfa2",
   "outputs": [
    {
     "ename": "NameError",
     "evalue": "name 'data' is not defined",
     "output_type": "error",
     "traceback": [
      "\u001B[1;31m---------------------------------------------------------------------------\u001B[0m",
      "\u001B[1;31mNameError\u001B[0m                                 Traceback (most recent call last)",
      "Cell \u001B[1;32mIn[13], line 2\u001B[0m\n\u001B[0;32m      1\u001B[0m \u001B[38;5;28;01mfrom\u001B[39;00m \u001B[38;5;21;01mapp\u001B[39;00m\u001B[38;5;21;01m.\u001B[39;00m\u001B[38;5;21;01mutils\u001B[39;00m \u001B[38;5;28;01mimport\u001B[39;00m Credibility\n\u001B[1;32m----> 2\u001B[0m df \u001B[38;5;241m=\u001B[39m \u001B[43mdata\u001B[49m\u001B[38;5;241m.\u001B[39magency_data\u001B[38;5;241m.\u001B[39mcopy()\n\u001B[0;32m      3\u001B[0m df[\u001B[38;5;124m'\u001B[39m\u001B[38;5;124mBias\u001B[39m\u001B[38;5;124m'\u001B[39m] \u001B[38;5;241m=\u001B[39m df[\u001B[38;5;124m'\u001B[39m\u001B[38;5;124mBias\u001B[39m\u001B[38;5;124m'\u001B[39m]\u001B[38;5;241m.\u001B[39mmap({\u001B[38;5;28mstr\u001B[39m(b): b\u001B[38;5;241m.\u001B[39mvalue \u001B[38;5;28;01mfor\u001B[39;00m b \u001B[38;5;129;01min\u001B[39;00m \u001B[38;5;28mlist\u001B[39m(Bias)})\n\u001B[0;32m      4\u001B[0m df[\u001B[38;5;124m'\u001B[39m\u001B[38;5;124mCredibility\u001B[39m\u001B[38;5;124m'\u001B[39m] \u001B[38;5;241m=\u001B[39m df[\u001B[38;5;124m'\u001B[39m\u001B[38;5;124mCredibility\u001B[39m\u001B[38;5;124m'\u001B[39m]\u001B[38;5;241m.\u001B[39mmap({\u001B[38;5;28mstr\u001B[39m(b): b\u001B[38;5;241m.\u001B[39mvalue \u001B[38;5;28;01mfor\u001B[39;00m b \u001B[38;5;129;01min\u001B[39;00m \u001B[38;5;28mlist\u001B[39m(Credibility)})\n",
      "\u001B[1;31mNameError\u001B[0m: name 'data' is not defined"
     ]
    }
   ],
   "execution_count": 13
  },
  {
   "metadata": {
    "ExecuteTime": {
     "end_time": "2024-07-13T17:00:15.411156Z",
     "start_time": "2024-07-13T17:00:15.408882Z"
    }
   },
   "cell_type": "code",
   "source": "",
   "id": "fa4d4073901c591b",
   "outputs": [],
   "execution_count": 13
  },
  {
   "metadata": {
    "ExecuteTime": {
     "end_time": "2024-07-13T17:00:15.445737Z",
     "start_time": "2024-07-13T17:00:15.443916Z"
    }
   },
   "cell_type": "code",
   "source": "",
   "id": "6cb3a182035f027",
   "outputs": [],
   "execution_count": 13
  },
  {
   "metadata": {
    "ExecuteTime": {
     "end_time": "2024-07-13T17:00:15.484476Z",
     "start_time": "2024-07-13T17:00:15.482919Z"
    }
   },
   "cell_type": "code",
   "source": "",
   "id": "bfc28d4262dcdccc",
   "outputs": [],
   "execution_count": 13
  },
  {
   "metadata": {
    "ExecuteTime": {
     "end_time": "2024-07-13T17:00:15.540560Z",
     "start_time": "2024-07-13T17:00:15.538900Z"
    }
   },
   "cell_type": "code",
   "source": "",
   "id": "a3bafb58753b524f",
   "outputs": [],
   "execution_count": 13
  },
  {
   "metadata": {
    "ExecuteTime": {
     "end_time": "2024-07-13T17:00:15.569134Z",
     "start_time": "2024-07-13T17:00:15.567566Z"
    }
   },
   "cell_type": "code",
   "source": "",
   "id": "41215ddb92859929",
   "outputs": [],
   "execution_count": 13
  },
  {
   "metadata": {},
   "cell_type": "code",
   "outputs": [],
   "execution_count": null,
   "source": "",
   "id": "41a99502ec66e382"
  }
 ],
 "metadata": {
  "kernelspec": {
   "display_name": "Python 3",
   "language": "python",
   "name": "python3"
  },
  "language_info": {
   "codemirror_mode": {
    "name": "ipython",
    "version": 2
   },
   "file_extension": ".py",
   "mimetype": "text/x-python",
   "name": "python",
   "nbconvert_exporter": "python",
   "pygments_lexer": "ipython2",
   "version": "2.7.6"
  }
 },
 "nbformat": 4,
 "nbformat_minor": 5
}
