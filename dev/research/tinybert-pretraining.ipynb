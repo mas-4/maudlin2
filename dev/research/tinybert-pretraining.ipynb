{
 "cells": [
  {
   "cell_type": "code",
   "source": [
    "import pandas as pd\n",
    "from datasets import load_dataset\n",
    "df = pd.read_csv('headlines.csv', index_col=0)\n",
    "df[['input_text', 'target_text']].to_csv('headlines.csv', index=False)\n",
    "dataset = load_dataset('csv', data_files='cleaned2.csv')['train'].train_test_split(test_size=0.2)"
   ],
   "metadata": {
    "collapsed": false,
    "ExecuteTime": {
     "end_time": "2024-04-05T21:58:57.573431Z",
     "start_time": "2024-04-05T21:58:56.838319Z"
    }
   },
   "id": "16567ec4c6ebaa54",
   "execution_count": 17,
   "outputs": []
  },
  {
   "metadata": {
    "ExecuteTime": {
     "end_time": "2024-04-05T21:58:58.356196Z",
     "start_time": "2024-04-05T21:58:58.340063Z"
    }
   },
   "cell_type": "code",
   "source": "dataset",
   "id": "28fe6fe7bfe679fd",
   "execution_count": 18,
   "outputs": []
  },
  {
   "metadata": {
    "ExecuteTime": {
     "end_time": "2024-04-05T21:59:00.785511Z",
     "start_time": "2024-04-05T21:59:00.525149Z"
    }
   },
   "cell_type": "code",
   "source": [
    "def preprocess_data(examples):\n",
    "    # Adjust \"text\" and \"summary\" to your dataset's column names for inputs and targets\n",
    "    input_encodings = tokenizer(examples[\"input_text\"], padding=True, truncation=True, max_length=512)\n",
    "    label_encodings = tokenizer(examples[\"target_text\"], padding=True, truncation=True, max_length=128)\n",
    "\n",
    "    labels = label_encodings[\"input_ids\"]\n",
    "    # T5 uses -100 to ignore tokens in the loss calculation\n",
    "    labels = [[-100 if token == tokenizer.pad_token_id else token for token in label] for label in labels]\n",
    "\n",
    "    encodings = {\n",
    "        \"input_ids\": input_encodings[\"input_ids\"],\n",
    "        \"attention_mask\": input_encodings[\"attention_mask\"],\n",
    "        \"labels\": labels,\n",
    "    }\n",
    "\n",
    "    return encodings\n",
    "\n",
    "# Apply preprocessing - adjust dataset format (e.g., dataset[\"train\"]) as necessary for your dataset\n",
    "train_dataset = dataset[\"train\"].map(preprocess_data, batched=True)\n",
    "test_dataset = dataset[\"test\"].map(preprocess_data, batched=True)\n"
   ],
   "id": "4e616da8b5a840",
   "execution_count": 19,
   "outputs": []
  },
  {
   "cell_type": "code",
   "source": [
    "# from transformers import AutoModelForSeq2SeqLM, Seq2SeqTrainingArguments, Trainer\n",
    "from transformers import T5ForConditionalGeneration, T5Tokenizer, Trainer, TrainingArguments, DataCollatorForSeq2Seq\n",
    "\n",
    "model_name = \"t5-small\"\n",
    "model = T5ForConditionalGeneration.from_pretrained(model_name)\n",
    "tokenizer = T5Tokenizer.from_pretrained(model_name)\n",
    "\n",
    "training_args = TrainingArguments(\n",
    "    output_dir=\"./results\",\n",
    "    num_train_epochs=3,\n",
    "    per_device_train_batch_size=4,\n",
    "    per_device_eval_batch_size=4,\n",
    "    warmup_steps=500,\n",
    "    weight_decay=0.01,\n",
    "    logging_dir=\"./logs\",\n",
    "    logging_steps=10,\n",
    ")\n",
    "\n",
    "data_collator = DataCollatorForSeq2Seq(tokenizer, model=model, padding='longest')\n",
    "\n",
    "trainer = Trainer(\n",
    "    model=model,\n",
    "    args=training_args,\n",
    "    train_dataset=train_dataset,\n",
    "    eval_dataset=test_dataset,\n",
    "    tokenizer=tokenizer,\n",
    "    data_collator=data_collator\n",
    ")\n",
    "\n",
    "trainer.train()"
   ],
   "metadata": {
    "collapsed": false,
    "ExecuteTime": {
     "end_time": "2024-04-05T22:04:35.749667Z",
     "start_time": "2024-04-05T21:59:01.723502Z"
    }
   },
   "id": "300bae054e35d980",
   "execution_count": 20,
   "outputs": []
  },
  {
   "cell_type": "code",
   "source": [
    "print(len(dataset[\"train\"]))\n",
    "print(len(dataset[\"test\"]))\n"
   ],
   "metadata": {
    "collapsed": false
   },
   "id": "fc595194a945aba1",
   "execution_count": null,
   "outputs": []
  },
  {
   "metadata": {
    "ExecuteTime": {
     "end_time": "2024-04-05T22:06:19.795957Z",
     "start_time": "2024-04-05T22:06:14.631605Z"
    }
   },
   "cell_type": "code",
   "source": [
    "model_save_path = \"t5-small-headline\"\n",
    "model.save_pretrained(model_save_path)\n",
    "tokenizer.save_pretrained(model_save_path)"
   ],
   "id": "4a3c47c1703a688a",
   "execution_count": 21,
   "outputs": []
  },
  {
   "metadata": {
    "ExecuteTime": {
     "end_time": "2024-04-05T22:06:49.355421Z",
     "start_time": "2024-04-05T22:06:48.009002Z"
    }
   },
   "cell_type": "code",
   "source": [
    "from transformers import T5ForConditionalGeneration, T5Tokenizer\n",
    "model = T5ForConditionalGeneration.from_pretrained(\"t5-small-headline\")\n",
    "tokenizer = T5Tokenizer.from_pretrained(\"t5-small-headline\")"
   ],
   "id": "e7d1a9bb31d6472e",
   "execution_count": 22,
   "outputs": []
  },
  {
   "metadata": {},
   "cell_type": "code",
   "execution_count": null,
   "source": [
    "def generate_headline(text):\n",
    "    input_ids = tokenizer.encode(text, return_tensors=\"pt\", max_length=512, truncation=True)\n",
    "    outputs = model.generate(input_ids, max_length=128, num_beams=4, early_stopping=True)\n",
    "    return tokenizer.decode(outputs[0], skip_special_tokens=True)"
   ],
   "id": "8ccc396db0ef27cb",
   "outputs": []
  }
 ],
 "metadata": {
  "kernelspec": {
   "display_name": "Python 3",
   "language": "python",
   "name": "python3"
  },
  "language_info": {
   "codemirror_mode": {
    "name": "ipython",
    "version": 2
   },
   "file_extension": ".py",
   "mimetype": "text/x-python",
   "name": "python",
   "nbconvert_exporter": "python",
   "pygments_lexer": "ipython2",
   "version": "2.7.6"
  }
 },
 "nbformat": 4,
 "nbformat_minor": 5
}
