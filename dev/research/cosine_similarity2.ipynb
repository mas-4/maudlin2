{
 "cells": [
  {
   "cell_type": "code",
   "execution_count": 1,
   "id": "initial_id",
   "metadata": {
    "collapsed": true,
    "ExecuteTime": {
     "end_time": "2024-03-23T16:46:46.590497Z",
     "start_time": "2024-03-23T16:46:45.237828Z"
    }
   },
   "source": [
    "from app.models import Session, Headline, Article, Agency\n",
    "from app.queries import Queries\n",
    "s = Session()\n",
    "\n",
    "articles = Queries.get_todays_articles(s).all()\n",
    "articles\n"
   ],
   "outputs": []
  },
  {
   "cell_type": "code",
   "source": [
    "import pandas as pd\n",
    "df = pd.DataFrame([[a.most_recent_headline().title, a.last_accessed, a.agency.name] for a in articles], columns=['headline', 'last_accessed', 'agency'])\n",
    "df.head()"
   ],
   "metadata": {
    "collapsed": false,
    "ExecuteTime": {
     "end_time": "2024-03-23T16:49:02.792454Z",
     "start_time": "2024-03-23T16:46:47.791792Z"
    }
   },
   "id": "faf2ab6f3f4d06b",
   "execution_count": 2,
   "outputs": []
  },
  {
   "cell_type": "code",
   "source": [
    "from sklearn.feature_extraction.text import TfidfVectorizer\n",
    "from app.analysis.pipelines import Pipelines, prepare, trem, tnorm, STOPWORDS\n",
    "\n",
    "pipeline = [\n",
    "    str.lower,\n",
    "    Pipelines.split_camelcase,\n",
    "    tnorm.hyphenated_words,\n",
    "    tnorm.quotation_marks,\n",
    "    tnorm.unicode,\n",
    "    tnorm.whitespace,\n",
    "    trem.accents,\n",
    "    trem.brackets,\n",
    "    trem.punctuation,\n",
    "    Pipelines.tokenize,\n",
    "    Pipelines.decontract,\n",
    "    lambda x: Pipelines.remove_stop(x, STOPWORDS),\n",
    "    # lambda x: ' '.join(x)\n",
    "]\n",
    "\n",
    "tfidf = TfidfVectorizer(\n",
    "    tokenizer=lambda x: prepare(x, pipeline),\n",
    "    max_features=1000\n",
    ")\n",
    "dt = tfidf.fit_transform(df['headline'])"
   ],
   "metadata": {
    "collapsed": false,
    "ExecuteTime": {
     "end_time": "2024-03-23T16:49:42.335058Z",
     "start_time": "2024-03-23T16:49:41.342787Z"
    }
   },
   "id": "f6bd56c938b61a9",
   "execution_count": 3,
   "outputs": []
  },
  {
   "cell_type": "code",
   "source": [],
   "metadata": {
    "collapsed": false,
    "ExecuteTime": {
     "end_time": "2024-03-02T18:20:19.178323Z",
     "start_time": "2024-03-02T18:20:19.173532Z"
    }
   },
   "id": "f65c28f27b8c28ce",
   "execution_count": 85,
   "outputs": []
  },
  {
   "cell_type": "code",
   "source": [
    "from sklearn.metrics.pairwise import cosine_similarity"
   ],
   "metadata": {
    "collapsed": false,
    "ExecuteTime": {
     "end_time": "2024-03-23T16:51:06.464111Z",
     "start_time": "2024-03-23T16:51:06.461254Z"
    }
   },
   "id": "612ef77378616bb2",
   "execution_count": 5,
   "outputs": []
  },
  {
   "cell_type": "code",
   "source": [
    "sim = cosine_similarity(dt, dt)\n",
    "sim"
   ],
   "metadata": {
    "collapsed": false,
    "ExecuteTime": {
     "end_time": "2024-03-23T16:51:07.073071Z",
     "start_time": "2024-03-23T16:51:07.033670Z"
    }
   },
   "id": "a60555d92f5e45c1",
   "execution_count": 6,
   "outputs": []
  },
  {
   "cell_type": "code",
   "source": [
    "simdf = pd.DataFrame(sim, columns=df['headline'], index=df['headline'])\n",
    "simdf"
   ],
   "metadata": {
    "collapsed": false,
    "ExecuteTime": {
     "end_time": "2024-03-23T16:56:30.210902Z",
     "start_time": "2024-03-23T16:56:30.183205Z"
    }
   },
   "id": "84a2c84a1118230",
   "execution_count": 8,
   "outputs": []
  },
  {
   "cell_type": "code",
   "source": [
    "# for each headline, put the column name of the most similar headline < 1.0, excluding the identical headline, in a new column\n",
    "simdf['most_similar'] = simdf.apply(lambda x: x[x < 1.0].idxmax(), axis=1)\n",
    "simdf[['headline', 'most_similar']]"
   ],
   "metadata": {
    "collapsed": false,
    "ExecuteTime": {
     "end_time": "2024-03-23T18:04:45.879127Z",
     "start_time": "2024-03-23T18:04:45.259382Z"
    }
   },
   "id": "14889b30fac0f243",
   "execution_count": 14,
   "outputs": []
  },
  {
   "cell_type": "code",
   "source": [],
   "metadata": {
    "collapsed": false
   },
   "id": "43e8844b1f898085",
   "execution_count": null,
   "outputs": []
  }
 ],
 "metadata": {
  "kernelspec": {
   "display_name": "Python 3",
   "language": "python",
   "name": "python3"
  },
  "language_info": {
   "codemirror_mode": {
    "name": "ipython",
    "version": 2
   },
   "file_extension": ".py",
   "mimetype": "text/x-python",
   "name": "python",
   "nbconvert_exporter": "python",
   "pygments_lexer": "ipython2",
   "version": "2.7.6"
  }
 },
 "nbformat": 4,
 "nbformat_minor": 5
}
