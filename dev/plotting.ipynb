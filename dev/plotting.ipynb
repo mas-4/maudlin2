{
 "cells": [
  {
   "cell_type": "code",
   "id": "initial_id",
   "metadata": {
    "collapsed": true,
    "ExecuteTime": {
     "end_time": "2024-04-27T17:40:24.197669Z",
     "start_time": "2024-04-27T17:40:15.603514Z"
    }
   },
   "source": [
    "from app.site.data import DataHandler\n",
    "\n",
    "data = DataHandler()"
   ],
   "execution_count": 28,
   "outputs": []
  },
  {
   "metadata": {
    "ExecuteTime": {
     "end_time": "2024-04-27T17:40:24.201291Z",
     "start_time": "2024-04-27T17:40:24.198734Z"
    }
   },
   "cell_type": "code",
   "source": [
    "import pandas as pd\n",
    "import numpy as np\n",
    "import matplotlib.pyplot as plt"
   ],
   "id": "21ae31740fb2c2d3",
   "execution_count": 29,
   "outputs": []
  },
  {
   "metadata": {
    "ExecuteTime": {
     "end_time": "2024-04-27T17:40:24.203966Z",
     "start_time": "2024-04-27T17:40:24.201799Z"
    }
   },
   "cell_type": "code",
   "source": [
    "from app.site.common import PathHandler\n",
    "from app.site.graphing import bias_colors\n",
    "from app.utils import Bias"
   ],
   "id": "5b32778903cd96fc",
   "execution_count": 30,
   "outputs": []
  },
  {
   "metadata": {
    "ExecuteTime": {
     "end_time": "2024-04-27T17:41:18.595601Z",
     "start_time": "2024-04-27T17:41:18.566031Z"
    }
   },
   "cell_type": "code",
   "source": "",
   "id": "5a923fd8a3e8adad",
   "execution_count": 33,
   "outputs": []
  },
  {
   "metadata": {
    "ExecuteTime": {
     "end_time": "2024-04-27T17:20:43.173755Z",
     "start_time": "2024-04-27T17:20:38.564319Z"
    }
   },
   "cell_type": "code",
   "source": [
    "df = data.agency_data\n",
    "fig, ax = plt.subplots(figsize=(13, 6))\n",
    "df['Bias'] = df['Bias'].map({str(b): b.value for b in list(Bias)})\n",
    "# get counts of each bias\n",
    "bias_counts = df['Bias'].value_counts().sort_index()\n",
    "# horizontal bar plot with stacked from left single row\n",
    "left = 0\n",
    "for i in bias_counts.index:\n",
    "    n = bias_counts[i]\n",
    "    ax.barh(n, 0, color=bias_colors[i], left=left)\n",
    "    left += n\n",
    "ax.set_title('Agency Bias Distribution')\n",
    "ax.set_ylabel('Bias')\n",
    "ax.set_xlabel('Agency')\n",
    "plt.tight_layout()\n",
    "plt.savefig(PathHandler(PathHandler.FileNames.agency_distribution).build)"
   ],
   "id": "fce5d723c4c934d3",
   "execution_count": 12,
   "outputs": []
  },
  {
   "metadata": {
    "ExecuteTime": {
     "end_time": "2024-04-27T17:18:45.322200Z",
     "start_time": "2024-04-27T17:18:45.306720Z"
    }
   },
   "cell_type": "code",
   "source": "bias_counts",
   "id": "71c9fb394f5eee8a",
   "execution_count": 7,
   "outputs": []
  },
  {
   "metadata": {
    "ExecuteTime": {
     "end_time": "2024-04-27T17:30:30.260796Z",
     "start_time": "2024-04-27T17:30:30.081051Z"
    }
   },
   "cell_type": "code",
   "source": [
    "# Correcting the code to use a stacked horizontal bar chart\n",
    "import numpy as np\n",
    "\n",
    "# Values for each group\n",
    "left_values = [31, 0, 31]  # Left and Right are 31%\n",
    "center_values = [0, 38, 0]  # Center is 38%\n",
    "\n",
    "# The position of the bars on the y-axis\n",
    "positions = [0]\n",
    "\n",
    "# Plotting the bars\n",
    "fig, ax = plt.subplots(figsize=(10, 2))\n",
    "\n",
    "# In order to stack the bars side-by-side, we need to specify the left parameter\n",
    "# The left parameter shifts the start point of the bar.\n",
    "ax.barh(positions, left_values, color='blue', edgecolor='black', height=0.5)\n",
    "ax.barh(positions, center_values, left=left_values, color='white', edgecolor='black', height=0.5)\n",
    "ax.barh(positions, left_values, left=np.add(left_values, center_values), color='red', edgecolor='black', height=0.5)\n",
    "\n",
    "# Removing y-ticks\n",
    "ax.set_yticks([])\n",
    "\n",
    "# Setting the x-ticks to be percentages\n",
    "ax.set_xticks([0, 20, 40, 60, 80, 100])\n",
    "ax.set_xticklabels(['0%', '20%', '40%', '60%', '80%', '100%'])\n",
    "\n",
    "# Setting the x-axis label\n",
    "ax.set_xlabel('Percentage')\n",
    "\n",
    "# Setting the limit for the x-axis\n",
    "ax.set_xlim(0, 100)\n",
    "\n",
    "# Removing the spines\n",
    "ax.spines['right'].set_visible(False)\n",
    "ax.spines['top'].set_visible(False)\n",
    "ax.spines['left'].set_visible(False)\n",
    "\n",
    "# Removing the y-axis altogether\n",
    "ax.yaxis.set_visible(False)\n",
    "\n",
    "# To add the values on the bars, we calculate the position for each label\n",
    "for i, v in enumerate(left_values):\n",
    "    if v > 0:  # Left part\n",
    "        ax.text(v / 2, positions[0], f'{v}%', color='white', fontweight='bold', va='center', ha='center')\n",
    "    if center_values[i] > 0:  # Center part\n",
    "        ax.text(v + center_values[i] / 2, positions[0], f'{center_values[i]}%', color='black', fontweight='bold', va='center', ha='center')\n",
    "    if left_values[i] > 0 and i == len(left_values) - 1:  # Right part\n",
    "        ax.text(v + center_values[i] + v / 2, positions[0], f'{v}%', color='white', fontweight='bold', va='center', ha='center')\n",
    "\n",
    "# Show plot\n",
    "plt.show()\n"
   ],
   "id": "5937ee8cf5795753",
   "execution_count": 13,
   "outputs": []
  },
  {
   "metadata": {
    "ExecuteTime": {
     "end_time": "2024-04-27T17:32:27.654272Z",
     "start_time": "2024-04-27T17:32:27.583507Z"
    }
   },
   "cell_type": "code",
   "source": [
    "# Corrected code for a stacked horizontal bar chart with the \"Left\" section visible\n",
    "\n",
    "# We will create three separate bars and use their widths to simulate stacking\n",
    "\n",
    "# The base start for the bars\n",
    "base = [0]\n",
    "\n",
    "# The left section starts at 0\n",
    "left_section = [31]  # Width of the left section\n",
    "\n",
    "# The center section starts where the left section ends\n",
    "center_section = [31]  # It needs to start where the left section ends\n",
    "\n",
    "# The right section starts where the center section ends\n",
    "right_section = [69]  # It needs to start where the left + center ends\n",
    "\n",
    "# Plotting the bars\n",
    "fig, ax = plt.subplots(figsize=(10, 1))\n",
    "\n",
    "# Plot the left section\n",
    "ax.barh(base, left_section, color='blue', edgecolor='black', height=0.5)\n",
    "\n",
    "# Plot the center section, starting after the left section\n",
    "ax.barh(base, center_values, left=left_section, color='white', edgecolor='black', height=0.5)\n",
    "\n",
    "# Plot the right section, starting after the center section\n",
    "ax.barh(base, left_section, left=right_section, color='red', edgecolor='black', height=0.5)\n",
    "\n",
    "# Removing y-ticks\n",
    "ax.set_yticks([])\n",
    "\n",
    "# Setting the x-ticks to be percentages\n",
    "ax.set_xticks([0, 20, 40, 60, 80, 100])\n",
    "ax.set_xticklabels(['0%', '20%', '40%', '60%', '80%', '100%'])\n",
    "\n",
    "# Setting the x-axis label\n",
    "ax.set_xlabel('Percentage')\n",
    "\n",
    "# Setting the limit for the x-axis\n",
    "ax.set_xlim(0, 100)\n",
    "\n",
    "# Removing the spines\n",
    "ax.spines['right'].set_visible(False)\n",
    "ax.spines['top'].set_visible(False)\n",
    "ax.spines['left'].set_visible(False)\n",
    "\n",
    "# Removing the y-axis altogether\n",
    "ax.yaxis.set_visible(False)\n",
    "\n",
    "# Adding the values on the bars\n",
    "ax.text(left_section[0] / 2, base[0], f'{left_section[0]}%', color='white', fontweight='bold', va='center', ha='center')\n",
    "ax.text(left_section[0] + center_values[0] / 2, base[0], f'{center_values[0]}%', color='black', fontweight='bold', va='center', ha='center')\n",
    "ax.text(left_section[0] + center_values[0] + left_section[0] / 2, base[0], f'{left_section[0]}%', color='white', fontweight='bold', va='center', ha='center')\n",
    "\n",
    "# Show plot\n",
    "plt.show()\n"
   ],
   "id": "8593f2e59d1be9ba",
   "execution_count": 14,
   "outputs": []
  },
  {
   "metadata": {
    "ExecuteTime": {
     "end_time": "2024-04-27T17:49:41.202402Z",
     "start_time": "2024-04-27T17:49:41.093300Z"
    }
   },
   "cell_type": "code",
   "source": [
    "df = data.agency_data.copy()\n",
    "df['Bias'] = df['Bias'].map({str(b): b.value for b in list(Bias)})\n",
    "df['Credibility'] = df['Credibility'].map({str(b): b.value for b in list(Bias)})\n",
    "colors = [\"#FF0000\", \"#FF4500\", \"#FFA500\", \"#FFFF00\", \"#9ACD32\", \"#008000\"]\n",
    "\n",
    "fig, ax = plt.subplots(figsize=(10, 1))\n",
    "\n",
    "bias_colors = ['#3b4cc0', '#7092f3', '#aac7fd', '#dddddd', '#f7b89c', '#e7755b', '#b40426']\n",
    "base = 0  # Since we only have a single axis we only need a single left value, right?\n",
    "bias_counts = df['Bias'].value_counts().sort_index()\n",
    "for i in bias_counts.index:\n",
    "    n = bias_counts[i]\n",
    "    n = n / bias_counts.sum() * 100  # Get the percentage of the whole\n",
    "    ax.barh(' ', n, color=bias_colors[i+3], edgecolor='black', height=0.5, left=base)\n",
    "    base += \n",
    "\n",
    "# Removing y-ticks\n",
    "ax.set_yticks([])\n",
    "\n",
    "# Setting the x-ticks to be percentages\n",
    "ax.set_xticks([0, 20, 40, 60, 80, 100])\n",
    "ax.set_xticklabels(['0%', '20%', '40%', '60%', '80%', '100%'])\n",
    "\n",
    "ax.set_title(\"Agency Bias Distribution\")\n",
    "\n",
    "# Setting the limit for the x-axis\n",
    "ax.set_xlim(0, 100)\n",
    "\n",
    "# Removing the spines\n",
    "ax.spines['right'].set_visible(False)\n",
    "ax.spines['top'].set_visible(False)\n",
    "ax.spines['left'].set_visible(False)\n",
    "\n",
    "# Removing the y-axis altogether\n",
    "ax.yaxis.set_visible(False)\n",
    "\n",
    "# Show plot\n",
    "plt.show()\n"
   ],
   "id": "d9d516e1fe857193",
   "execution_count": 37,
   "outputs": []
  },
  {
   "metadata": {
    "ExecuteTime": {
     "end_time": "2024-04-27T18:06:01.349699Z",
     "start_time": "2024-04-27T18:06:01.182587Z"
    }
   },
   "cell_type": "code",
   "source": [
    "from app.utils import Credibility\n",
    "df = data.agency_data.copy()\n",
    "df['Bias'] = df['Bias'].map({str(b): b.value for b in list(Bias)})\n",
    "df['Credibility'] = df['Credibility'].map({str(b): b.value for b in list(Credibility)})\n",
    "bias_colors = ['#3b4cc0', '#7092f3', '#aac7fd', '#dddddd', '#f7b89c', '#e7755b', '#b40426']\n",
    "credibility_colors = [\"#FF0000\", \"#FF4500\", \"#FFA500\", \"#FFFF00\", \"#9ACD32\", \"#008000\"]\n",
    "\n",
    "fig, (ax1, ax2) = plt.subplots(2, 1, figsize=(10, 5), gridspec_kw={'height_ratios': [5, 1]})\n",
    "\n",
    "bottom = pd.Series(np.zeros(len(df['Bias'].unique())), index=df['Bias'].sort_values().unique())\n",
    "for n in df['Credibility'].sort_values().unique():\n",
    "    # get the bias counts within this credibility\n",
    "    bias_counts = df[df['Credibility'] == n]['Bias'].value_counts().sort_index()\n",
    "    # convert bias_counts to percentages of the whole\n",
    "    bias_counts = bias_counts.reindex(bottom.index, fill_value=0)\n",
    "    ax1.bar(bias_counts.index, bias_counts, bottom=bottom, color=credibility_colors[n])\n",
    "    bottom += bias_counts\n",
    "    \n",
    "ax1.set_title(\"Credibility Distribution For Each Bias\")\n",
    "\n",
    "base = 0  # Since we only have a single axis we only need a single left value, right?\n",
    "bias_counts = df['Bias'].value_counts().sort_index()\n",
    "for i in bias_counts.index:\n",
    "    n = bias_counts[i]\n",
    "    n = n / bias_counts.sum() * 100  # Get the percentage of the whole\n",
    "    ax2.barh(' ', n, color=bias_colors[i+3], edgecolor='black', height=0.5, left=base)\n",
    "    base += n\n",
    "\n",
    "# Removing y-ticks\n",
    "ax2.set_yticks([])\n",
    "\n",
    "# Setting the x-ticks to be percentages\n",
    "ax2.set_xticks([0, 20, 40, 60, 80, 100])\n",
    "ax2.set_xticklabels(['0%', '20%', '40%', '60%', '80%', '100%'])\n",
    "\n",
    "ax2.set_title(\"Agency Bias Distribution\")\n",
    "\n",
    "ax2.set_xlim(0, 100)\n",
    "for spine in ['right', 'top', 'left']:\n",
    "    ax2.spines[spine].set_visible(False)\n",
    "ax2.yaxis.set_visible(False)\n",
    "\n",
    "plt.tight_layout()\n",
    "\n",
    "# Show plot\n",
    "plt.show()\n",
    "\n"
   ],
   "id": "8d751422c8fcc010",
   "execution_count": 67,
   "outputs": []
  },
  {
   "metadata": {
    "ExecuteTime": {
     "end_time": "2024-04-27T17:57:18.355265Z",
     "start_time": "2024-04-27T17:57:18.338764Z"
    }
   },
   "cell_type": "code",
   "source": "df['Credibility'].sort_values().unique()",
   "id": "edfbada5c0d2f840",
   "execution_count": 52,
   "outputs": []
  },
  {
   "metadata": {
    "ExecuteTime": {
     "end_time": "2024-04-27T17:58:25.859177Z",
     "start_time": "2024-04-27T17:58:25.844040Z"
    }
   },
   "cell_type": "code",
   "source": "np.zeros(len(df['Credibility'].unique()))",
   "id": "b7fb02664d947174",
   "execution_count": 56,
   "outputs": []
  },
  {
   "metadata": {
    "ExecuteTime": {
     "end_time": "2024-04-27T18:33:16.676042Z",
     "start_time": "2024-04-27T18:33:16.418541Z"
    }
   },
   "cell_type": "code",
   "source": [
    "from app.utils import Credibility\n",
    "df = data.agency_data.copy()\n",
    "df['Bias'] = df['Bias'].map({str(b): b.value for b in list(Bias)})\n",
    "df['Credibility'] = df['Credibility'].map({str(b): b.value for b in list(Credibility)})\n",
    "bias_colors = ['#3b4cc0', '#7092f3', '#aac7fd', '#dddddd', '#f7b89c', '#e7755b', '#b40426']\n",
    "credibility_colors = [\"#FF0000\", \"#FF4500\", \"#FFA500\", \"#FFFF00\", \"#9ACD32\", \"#008000\"]\n",
    "\n",
    "fig, (ax1, ax2) = plt.subplots(2, 1, figsize=(10, 5), gridspec_kw={'height_ratios': [5, 1]})\n",
    "\n",
    "total_counts_by_bias = df['Bias'].value_counts().sort_index()\n",
    "\n",
    "# the bottom should start at 0.1\n",
    "bottom = pd.Series(np.zeros(len(df['Bias'].unique())), index=df['Bias'].sort_values().unique())\n",
    "# Loop through each credibility level\n",
    "for n in sorted(df['Credibility'].unique()):\n",
    "    # Get the counts of bias within this credibility level\n",
    "    bias_counts = df[df['Credibility'] == n]['Bias'].value_counts().sort_index()\n",
    "    # Reindex bias_counts to ensure it includes all bias levels (fills missing levels with 0)\n",
    "    bias_counts = bias_counts.reindex(total_counts_by_bias.index, fill_value=0)\n",
    "    # Convert counts to percentages of the total counts for each bias level\n",
    "    percentages = (bias_counts / total_counts_by_bias) * 100\n",
    "\n",
    "    # Plotting\n",
    "    ax1.bar(\n",
    "        bias_counts.index,\n",
    "        percentages,\n",
    "        edgecolor='black',\n",
    "        bottom=bottom,\n",
    "        color=credibility_colors[n],\n",
    "        label=str(Credibility(n)),\n",
    "        clip_on=False\n",
    "    )\n",
    "    \n",
    "    # Update the bottom for the next stack\n",
    "    bottom += percentages\n",
    "plt.subplots_adjust(right=1) \n",
    "ax1.legend(loc='center right', bbox_to_anchor=(0, 0.5),\n",
    "           frameon=True, facecolor='lightgray', \n",
    "          edgecolor='black', framealpha=0.9, fontsize='medium', \n",
    "          title='Credibility', title_fontsize='large', fancybox=True, shadow=True,\n",
    "          borderpad=1.2, labelspacing=1.5)\n",
    "\n",
    "# Get the mean credibility for each bias group\n",
    "mean_credibility = df.groupby('Bias')['Credibility'].mean()\n",
    "# Set a second y-axis with twinx for the credibility that is keyed to the max credibility\n",
    "ax3 = ax1.twinx()\n",
    "ax3.set_ylim(0, 5)\n",
    "# Plotting the mean credibility for each bias group\n",
    "# ax3.plot(mean_credibility.index, mean_credibility, color='black', linestyle='--', label='Mean Credibility')\n",
    "# Iterate through the points, plotting a scatter point with the mean credibility of a bias_color\n",
    "for i, credibility in mean_credibility.items():\n",
    "    ax3.scatter(i, credibility, color=bias_colors[i+3], s=500, edgecolor='black', zorder=10)\n",
    "    \n",
    "bias_labels = {b.value: str(b) for b in Bias}\n",
    "ax1.set_xticks(list(bias_labels.keys()))\n",
    "ax1.set_xticklabels(list(bias_labels.values()))\n",
    "\n",
    "ax1.set_title(\"Credibility Distribution For Each Bias\")\n",
    "\n",
    "##########################\n",
    "\n",
    "base = 0  # Since we only have a single axis we only need a single left value, right?\n",
    "bias_counts = df['Bias'].value_counts().sort_index()\n",
    "for i in bias_counts.index:\n",
    "    n = bias_counts[i]\n",
    "    n = n / bias_counts.sum() * 100  # Get the percentage of the whole\n",
    "    ax2.barh(' ', n, color=bias_colors[i+3], edgecolor='black', height=0.5, left=base, label=str(Bias(i)))\n",
    "    base += n\n",
    "\n",
    "# Removing y-ticks\n",
    "ax2.set_yticks([])\n",
    "\n",
    "# Setting the x-ticks to be percentages\n",
    "ax2.set_xticks([0, 20, 40, 60, 80, 100])\n",
    "ax2.set_xticklabels(['0%', '20%', '40%', '60%', '80%', '100%'])\n",
    "\n",
    "ax2.set_title(\"Agency Bias Distribution\")\n",
    "\n",
    "ax2.set_xlim(0, 100)\n",
    "\n",
    "\n",
    "for spine in ['right', 'top', 'left', 'bottom']:\n",
    "    ax1.spines[spine].set_visible(False)\n",
    "    ax2.spines[spine].set_visible(False)\n",
    "    ax3.spines[spine].set_visible(False)\n",
    "ax1.yaxis.set_visible(False)\n",
    "ax2.yaxis.set_visible(False)\n",
    "ax3.yaxis.set_visible(False)\n",
    "\n",
    "plt.tight_layout()\n",
    "\n",
    "# Show plot\n",
    "plt.show()\n",
    "\n"
   ],
   "id": "8c9e42fe585acfa2",
   "execution_count": 96,
   "outputs": []
  },
  {
   "metadata": {},
   "cell_type": "code",
   "execution_count": null,
   "source": "",
   "id": "fa4d4073901c591b",
   "outputs": []
  }
 ],
 "metadata": {
  "kernelspec": {
   "display_name": "Python 3",
   "language": "python",
   "name": "python3"
  },
  "language_info": {
   "codemirror_mode": {
    "name": "ipython",
    "version": 2
   },
   "file_extension": ".py",
   "mimetype": "text/x-python",
   "name": "python",
   "nbconvert_exporter": "python",
   "pygments_lexer": "ipython2",
   "version": "2.7.6"
  }
 },
 "nbformat": 4,
 "nbformat_minor": 5
}
